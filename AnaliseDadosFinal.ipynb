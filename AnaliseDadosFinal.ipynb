{
 "cells": [
  {
   "cell_type": "markdown",
   "metadata": {
    "application/vnd.databricks.v1+cell": {
     "cellMetadata": {
      "byteLimit": 2048000,
      "rowLimit": 10000
     },
     "inputWidgets": {},
     "nuid": "fe29cd66-bcea-42db-9def-3081f168436c",
     "showTitle": false,
     "tableResultSettingsMap": {},
     "title": ""
    }
   },
   "source": [
    "# Obesidade em dados. "
   ]
  },
  {
   "cell_type": "markdown",
   "metadata": {
    "application/vnd.databricks.v1+cell": {
     "cellMetadata": {
      "byteLimit": 2048000,
      "rowLimit": 10000
     },
     "inputWidgets": {},
     "nuid": "0f1371af-84d4-4c7a-aa66-24a142194de7",
     "showTitle": false,
     "tableResultSettingsMap": {},
     "title": ""
    }
   },
   "source": [
    "# Introdução"
   ]
  },
  {
   "cell_type": "markdown",
   "metadata": {
    "application/vnd.databricks.v1+cell": {
     "cellMetadata": {
      "byteLimit": 2048000,
      "rowLimit": 10000
     },
     "inputWidgets": {},
     "nuid": "a54f70c7-4758-44ae-bc80-e4e9e13e5429",
     "showTitle": false,
     "tableResultSettingsMap": {},
     "title": ""
    }
   },
   "source": [
    "A organização Mundial da Saúde (OMS) define obesidade como o acúmulo excessivo de gordura corporal que pode prejudicar a saúde (WHO, 2024), e é considerada uma doença crônica que afeta pessoas de todas as idades e grupos sociais. A obesidade também pode levar à outras doenças, como diabetes tipo 2, doenças cardiovasculares, hipertensão, acidente vascular cerebral e vários tipos de câncer.\n",
    "\n",
    "Segundo a Organização Pan-Americana da Saúde (PAHO, 2024), uma em cada oito pessoas no mundo vive com obesidade, o que reforça a importância da prevenção e do controle desde a infância até a vida adulta. Embora as causas da obesidade sejam multifatoriais, envolvendo aspectos genéticos, comportamentais e ambientais, suas intervenções são bem estabelecidas e apoiadas por evidências robustas — embora, muitas vezes, pouco implementadas.\n",
    "\n",
    "A classificação da obesidade baseia-se no Índice de Massa Corporal (IMC), calculado pela razão entre o peso (em quilogramas) e o quadrado da altura (em metros). De acordo com a OMS, considera-se obesa uma pessoa com IMC igual ou superior a 30 kg/m², sendo esse critério amplamente utilizado para triagem clínica e acompanhamento de risco.\n",
    "\n",
    "Este trabalho se propõe a analisar o conjunto de dados “Dataset for estimation of obesity levels based on eating habits and physical condition in individuals from Colombia, Peru and Mexico” (PALECHOR & MANOTAS, 2019), disponibilizado no Kaggle. O dataset contém 2.111 registros e 17 atributos, sendo 77% gerados sinteticamente com o filtro SMOTE (Synthetic Minority Oversampling Technique) e 23% coletador diretamente dos usuários por meio de uma plataforma web.\n",
    "\n",
    "O objetivo da análise é investigar padrões de comportamento e características associadas à obesidade, buscando responder perguntas como: _o diagnóstico varia por gênero ou faixa etária? Há relação entre o meio de transporte e o nível de obesidade? O histórico familiar influencia diretamente o diagnóstico?_\n",
    "\n",
    "As respostas a essas perguntas permitem levantar hipóteses relevantes para futuras investigações e políticas de saúde pública, além de apoiar a construção de modelos preditivos mais eficazes. A identificação dos fatores com maior associação à obesidade é essencial para o desenvolvimento de ferramentas preventivas, estratégias de intervenção e sistemas de monitoramento individualizado.\n",
    "\n",
    "\n",
    "No dataset utilizado, o atributo alvo (NObeyesdad) representa o nível de obesidade, inferido a partir do IMC de cada indivíduo, segundo a seguinte classificação:\n",
    "\n",
    "- IMC < 18,5 kg/m² - baixo peso\n",
    "- IMC > 18,5 até 24,9 kg/m² - peso adequado\n",
    "- IMC ≥ 25 até 29,9 kg/m² - sobrepeso\n",
    "- IMC > 30,0 kg/m² até 34,9 kg/m² - obesidade grau 1\n",
    "- IMC > 35 kg/m² até 39,9 kg/m² - obesidade grau 2\n",
    "- IMC > 40 kg/m² - obesidade extrema\n",
    "\n",
    "\n",
    "\n",
    "Abaixo, se encontram as 17 colunas presentes no dataset, com suas respectivas descrições:\n",
    "\n",
    "**Visão geral do dataset:**\n",
    "\n",
    "Abaixo, encontram-se os 17 atributos presentes no dataset, com suas respectivas descrições:\n",
    "\n",
    "- **Age**: Idade do indivíduo (anos)  \n",
    "- **Gender**: Gênero (male/female)  \n",
    "- **Height**: Altura (em metros)  \n",
    "- **Weight**: Peso (em quilogramas)  \n",
    "- **CALC**: Frequência do consumo de álcool (no/sometimes/frequently/always)  \n",
    "- **FAVC**: Consumo frequente de alimentos calóricos (yes/no)  \n",
    "- **FCVC**: Frequência de consumo de vegetais (1 = nunca, 2 = às vezes, 3 = sempre)  \n",
    "- **NCP**: Número de refeições principais por dia  \n",
    "- **SCC**: Controle da ingestão calórica (yes/no)  \n",
    "- **SMOKE**: Fumante (yes/no)  \n",
    "- **CH2O**: Quantidade de água ingerida por dia (1 a 3 litros)  \n",
    "- **Family history with overweight**: Histórico familiar de sobrepeso (yes/no)  \n",
    "- **FAF**: Frequência de atividade física semanal (em horas)  \n",
    "- **TUE**: Tempo de uso de dispositivos eletrônicos (0 = 0–2h, 1 = 3–5h, 2 = 6h ou mais)  \n",
    "- **CAEC**: Frequência de consumo de comida (ou lanches) entre refeições (no/sometimes/frequently/always)  \n",
    "- **MTRANS**: Meio de transporte (automobile, bike, public_transportation, walking)  \n",
    "- **NObeyesdad**: Diagnóstico de obesidade baseado no IMC\n",
    "\n",
    "_O dataset foi importado do Kaggle a partir de: https://www.kaggle.com/datasets/abdelrahman16/obesity-dataset; alguns valores estão legendados incorretamente no Kaggle, mas corrigidos aqui baseando-se no trabalho original._\n"
   ]
  },
  {
   "cell_type": "markdown",
   "metadata": {
    "application/vnd.databricks.v1+cell": {
     "cellMetadata": {
      "byteLimit": 2048000,
      "rowLimit": 10000
     },
     "inputWidgets": {},
     "nuid": "ae65cce3-1181-48f6-aca1-2348e1f7bf9d",
     "showTitle": false,
     "tableResultSettingsMap": {},
     "title": ""
    }
   },
   "source": [
    "# Modelo Estrutura-Relacionamento."
   ]
  },
  {
   "cell_type": "markdown",
   "metadata": {
    "application/vnd.databricks.v1+cell": {
     "cellMetadata": {
      "byteLimit": 2048000,
      "rowLimit": 10000
     },
     "inputWidgets": {},
     "nuid": "06637062-b13f-4c88-afb9-ac1419059ce7",
     "showTitle": false,
     "tableResultSettingsMap": {},
     "title": ""
    }
   },
   "source": [
    "A modelagem de dados é uma etapa fundamental no desenvolvimento de soluções de banco de dados e armazéns de dados (Data Warehouses). Seu objetivo é representar, de forma estruturada e compreensível, os elementos que compõem um domínio de informações, organizando os dados e suas relações para garantir integridade, consistência e facilidade de análise.\n",
    "\n",
    "Um dos modelos mais utilizados para esse fim é o modelo estrutura-relacional, que envolve diferentes níveis de abstração, permitindo uma separação clara entre os aspectos conceituais, lógicos e físicos do banco de dados. Essa abordagem facilita tanto o entendimento inicial do sistema quanto sua posterior implementação em uma plataforma tecnológica específica.\n",
    "\n",
    "A modelagem estrutura-relacional é composta por três etapas principais:\n",
    "\n",
    "- Modelo conceitual: define os principais elementos do domínio (entidades, atributos e relacionamentos) sem se preocupar com tecnologias de implementação. É uma representação de alto nível, centrada no entendimento do problema.\n",
    "- Modelo lógico: traduz o modelo conceitual para uma estrutura mais próxima da tecnologia relacional, definindo tabelas, chaves primárias, estrangeiras e tipos de dados, respeitando regras de normalização.\n",
    "- Modelo físico: é a implementação do modelo lógico em um sistema de gerenciamento de banco de dados (SGBD) específico, considerando aspectos técnicos como performance, tipos de armazenamento, particionamento e uso de índices.\n",
    "\n",
    "Essa divisão por camadas promove uma organização mais eficiente do desenvolvimento, permitindo que decisões técnicas sejam tomadas com base em um modelo previamente validado e compreendido. Neste trabalho, seguimos essa estrutura para modelar, armazenar e analisar os dados relacionados à obesidade."
   ]
  },
  {
   "cell_type": "markdown",
   "metadata": {
    "application/vnd.databricks.v1+cell": {
     "cellMetadata": {
      "byteLimit": 2048000,
      "rowLimit": 10000
     },
     "inputWidgets": {},
     "nuid": "0dab3038-0c8e-4c14-9b66-fb9b8d79057b",
     "showTitle": false,
     "tableResultSettingsMap": {},
     "title": ""
    }
   },
   "source": [
    "##Modelo conceitual"
   ]
  },
  {
   "cell_type": "markdown",
   "metadata": {
    "application/vnd.databricks.v1+cell": {
     "cellMetadata": {
      "byteLimit": 2048000,
      "rowLimit": 10000
     },
     "inputWidgets": {},
     "nuid": "f549d716-8553-4d90-a6d7-7fad30f59764",
     "showTitle": false,
     "tableResultSettingsMap": {},
     "title": ""
    }
   },
   "source": [
    "Antes de realizarmos a análise dos dados, é necessário desenvolver a modelagem do banco de dados. Neste trabalho, optamos por utilizar um modelo estrutura-relacionamento (ER) como base para a estrutura do nosso Data Warehouse.\n",
    "\n",
    "A primeira etapa da modelagem é a criação do modelo conceitual, que é uma representação abstrata e independente da tecnologia. Seu objetivo é refletir os conceitos reais (como Pessoa, Hábito Alimentar, Diagnóstico, etc.) e suas relações, de forma que possa ser compreendido por usuários técnicos e não técnicos.\n",
    "\n",
    "A elaboração do modelo conceitual auxilia na detecção precoce de erros de lógica e inconsistências nos dados, antes mesmo da criação das tabelas físicas.\n",
    "\n",
    "Abaixo, apresentamos o modelo conceitual do projeto, criado utilizando o software brModelo:\n",
    "\n",
    "<img src=\"/files/shared_uploads/pr.thayssa@gmail.com/Estrutura_relacionamento_brModelo.png\" width=\"900\">\n",
    "Figura 1: Diagrama do modelo conceitual estrutura-relacionamento dos dados contidos no dataset de obesidade. Criado com o programa brModelo.\n",
    "\n",
    "Na figura:\n",
    "\n",
    "- **Entidades** são representadas por **retângulos**  \n",
    "- **Atributos** por **círculos**  \n",
    "- **Relacionamentos** por **losangos**  \n",
    "- **Cardinalidades** (1:1, 1:N, N:N) indicam como as entidades se associam entre si\n",
    "\n",
    "Esse modelo oferece uma visão clara dos principais elementos que compõem o domínio da obesidade no contexto dos dados analisados, estruturando os componentes que serão posteriormente implementados no modelo lógico e físico.\n"
   ]
  },
  {
   "cell_type": "markdown",
   "metadata": {
    "application/vnd.databricks.v1+cell": {
     "cellMetadata": {
      "byteLimit": 2048000,
      "rowLimit": 10000
     },
     "inputWidgets": {},
     "nuid": "059a052e-3332-425e-8964-fd7e0aad7ddb",
     "showTitle": false,
     "tableResultSettingsMap": {},
     "title": ""
    }
   },
   "source": [
    "##Modelo lógico"
   ]
  },
  {
   "cell_type": "markdown",
   "metadata": {
    "application/vnd.databricks.v1+cell": {
     "cellMetadata": {
      "byteLimit": 2048000,
      "rowLimit": 10000
     },
     "inputWidgets": {},
     "nuid": "cc85f9d0-bf9b-4f69-8a79-bf0a7a7616f4",
     "showTitle": false,
     "tableResultSettingsMap": {},
     "title": ""
    }
   },
   "source": [
    "Após a finalização do modelo conceitual, foi desenvolvido o modelo lógico. Essa etapa representa a tradução do modelo conceitual para uma estrutura relacional, em que os conceitos de entidades e relacionamentos são organizados como tabelas e colunas.\n",
    "\n",
    "O modelo lógico tem como principal objetivo estruturar os dados de forma que possam ser interpretados por um sistema gerenciador de banco de dados (SGBD), ainda sem a implementação física. Nele, são definidos os atributos de cada tabela, as chaves primárias e estrangeiras, e também se aplicam regras de normalização, visando eliminar redundâncias e garantir a integridade dos dados.\n",
    "\n",
    "Neste modelo, todas as entidades identificadas no modelo conceitual foram convertidas em tabelas relacionais. Foram criadas também tabelas associativas para representar relacionamentos do tipo muitos-para-muitos, como é o caso da associação entre Pessoa e Hábito Alimentar.\n",
    "\n",
    "A Figura 2 apresenta o diagrama gerado, com base no modelo conceitual da Figura 1, utilizando a ferramenta brModelo. Algumas correções manuais foram realizadas para ajustar cardinalidades e refinar chaves.\n",
    "\n",
    "<img src=\"/files/shared_uploads/pr.thayssa@gmail.com/modelo_logico_brModelo.png\" width=\"800\">\n",
    "\n",
    "Figura 2: Diagrama do modelo lógico estrutura-relacionamento gerado a partir do modelo conceitual da figura 1. Criado com o programa brModelo."
   ]
  },
  {
   "cell_type": "markdown",
   "metadata": {
    "application/vnd.databricks.v1+cell": {
     "cellMetadata": {
      "byteLimit": 2048000,
      "rowLimit": 10000
     },
     "inputWidgets": {},
     "nuid": "bdd0b382-ee0c-4557-83e3-1eed59cca497",
     "showTitle": false,
     "tableResultSettingsMap": {},
     "title": ""
    }
   },
   "source": [
    "### Normalização\n",
    "\n",
    "Durante a construção do modelo lógico deste projeto, foi aplicado o processo de normalização, com o objetivo de garantir a integridade dos dados, evitar redundâncias e facilitar a manutenção do banco. A normalização foi realizada até a Terceira Forma Normal (3FN) e também atende aos critérios da Forma Normal de Boyce-Codd (BCNF).\n",
    "\n",
    "A seguir, descrevemos as formas normais aplicadas e como elas foram implementadas neste projeto:\n",
    "\n",
    "**Primeira Forma Normal (1FN)**\n",
    "\n",
    "A Primeira Forma Normal exige que todos os atributos sejam atômicos, ou seja, que cada campo contenha um único valor por registro. Isso evita listas ou conjuntos de valores em uma mesma célula.\n",
    "\n",
    "No modelo implementado, todos os atributos seguem esse princípio. Por exemplo:\n",
    "- O campo `mtrans` (meio de transporte) contém apenas uma opção por pessoa (como 'Public_Transportation', 'Automobile', etc.), e não múltiplos valores.\n",
    "- Campos numéricos como `age`, `weight`, `height` e `faf` são armazenados com apenas um valor por linha.\n",
    "\n",
    "**Segunda Forma Normal (2FN)**\n",
    "\n",
    "A Segunda Forma Normal se aplica a tabelas com chaves primárias compostas, e exige que todos os atributos não-chave dependam de toda a chave primária, e não apenas de parte dela.\n",
    "\n",
    "No projeto, para evitar dependências parciais, foi feita a separação de grupos de atributos que se repetiam em diferentes combinações em entidades distintas. Por exemplo:\n",
    "- A entidade `HabitoAlimentar` armazena a combinação dos campos `favc`, `fcvc`, `ncp`, `caec`, `calc` e `ch2o`, os quais não dependem unicamente da pessoa, mas do conjunto de hábitos alimentares.\n",
    "- A tabela associativa `Possui` foi criada para representar a relação entre `Pessoa` e `HabitoAlimentar`, garantindo integridade sem violar a 2FN.\n",
    "\n",
    "**Terceira Forma Normal (3FN)**\n",
    "\n",
    "A Terceira Forma Normal exige que os atributos não-chave sejam dependentes exclusivamente da chave primária e não de outros atributos não-chave (ou seja, elimina dependências transitivas).\n",
    "\n",
    "Esse princípio também foi respeitado no projeto. Por exemplo:\n",
    "- A informação `valor` da tabela `HistoricoFamiliar` está separada da tabela `Pessoa`, pois não depende diretamente da chave primária de Pessoa, mas sim de uma entidade descritiva separada (histórico familiar).\n",
    "- O mesmo vale para o atributo `nome` na tabela `Diagnostico`, que armazena o nível de obesidade com base em um ID independente.\n",
    "\n",
    "**Forma Normal de Boyce-Codd (BCNF)**\n",
    "\n",
    "A BCNF é uma versão mais rigorosa da 3FN. Ela trata situações em que, mesmo após a 3FN, ainda exista dependência funcional entre atributos que não são chaves primárias.\n",
    "\n",
    "No projeto, todas as dependências funcionais foram analisadas, e as tabelas foram criadas de forma a garantir que todos os determinantes fossem chaves candidatas. Assim, o modelo também está conforme a BCNF.\n",
    "\n",
    "---\n",
    "\n",
    "Portanto, podemos afirmar que o modelo está devidamente normalizado até a 3FN e em conformidade com a Forma Normal de Boyce-Codd, promovendo uma estrutura de dados robusta, eficiente e de fácil manutenção."
   ]
  },
  {
   "cell_type": "markdown",
   "metadata": {
    "application/vnd.databricks.v1+cell": {
     "cellMetadata": {
      "byteLimit": 2048000,
      "rowLimit": 10000
     },
     "inputWidgets": {},
     "nuid": "3e228827-0b04-4c50-a294-64047e3d006b",
     "showTitle": false,
     "tableResultSettingsMap": {},
     "title": ""
    }
   },
   "source": [
    "##Modelo físico"
   ]
  },
  {
   "cell_type": "markdown",
   "metadata": {
    "application/vnd.databricks.v1+cell": {
     "cellMetadata": {
      "byteLimit": 2048000,
      "rowLimit": 10000
     },
     "inputWidgets": {},
     "nuid": "fa76f2be-c628-4b82-bed4-245846571490",
     "showTitle": false,
     "tableResultSettingsMap": {},
     "title": ""
    }
   },
   "source": [
    "O modelo físico representa a última etapa da modelagem de dados. Ele descreve como o banco de dados será efetivamente implementado dentro de um sistema gerenciador de banco de dados (SGBD), considerando a estrutura lógica previamente definida.\n",
    "\n",
    "Nesta fase, os elementos do modelo lógico (tabelas, atributos, chaves primárias e estrangeiras) são convertidos em comandos específicos de linguagem SQL para criação e manipulação de dados. Além disso, o modelo físico também contempla aspectos de desempenho e armazenamento, como formatos de dados, tipos de índices, particionamento de tabelas e outras decisões técnicas que podem variar conforme o ambiente utilizado.\n",
    "\n",
    "No caso deste trabalho, o modelo físico foi implementado diretamente na plataforma Databricks, utilizando comandos SQL para criação do banco de dados, tabelas dimensionais, tabela fato e inserção dos dados com suporte ao formato Delta Lake. Embora o Databricks gratuito não permita a definição explícita de constraints (como chaves estrangeiras), essas regras foram respeitadas logicamente ao longo da estrutura e no processo de ETL.\n",
    "\n",
    "A definição das tabelas no modelo físico seguiu a nomenclatura estabelecida no modelo lógico, com a criação de identificadores artificiais (IDs) para representar chaves primárias e a ligação entre as dimensões e a tabela fato. Essa implementação permitiu a estruturação dos dados no estilo de um Data Warehouse, favorecendo análises posteriores com consultas SQL e visualizações baseadas em múltiplas dimensões.\n",
    "\n",
    "O modelo físico, portanto, marca a transição final entre a modelagem e a operacionalização do banco de dados, viabilizando o uso prático dos dados organizados."
   ]
  },
  {
   "cell_type": "code",
   "execution_count": 0,
   "metadata": {
    "application/vnd.databricks.v1+cell": {
     "cellMetadata": {
      "byteLimit": 2048000,
      "implicitDf": true,
      "rowLimit": 10000
     },
     "inputWidgets": {},
     "nuid": "81e7bff5-5c60-4340-8af8-3ad8330d2223",
     "showTitle": false,
     "tableResultSettingsMap": {},
     "title": ""
    }
   },
   "outputs": [
    {
     "output_type": "display_data",
     "data": {
      "text/html": [
       "<style scoped>\n",
       "  .table-result-container {\n",
       "    max-height: 300px;\n",
       "    overflow: auto;\n",
       "  }\n",
       "  table, th, td {\n",
       "    border: 1px solid black;\n",
       "    border-collapse: collapse;\n",
       "  }\n",
       "  th, td {\n",
       "    padding: 5px;\n",
       "  }\n",
       "  th {\n",
       "    text-align: left;\n",
       "  }\n",
       "</style><div class='table-result-container'><table class='table-result'><thead style='background-color: white'><tr></tr></thead><tbody></tbody></table></div>"
      ]
     },
     "metadata": {
      "application/vnd.databricks.v1+output": {
       "addedWidgets": {},
       "aggData": [],
       "aggError": "",
       "aggOverflow": false,
       "aggSchema": [],
       "aggSeriesLimitReached": false,
       "aggType": "",
       "arguments": {},
       "columnCustomDisplayInfos": {},
       "data": [],
       "datasetInfos": [],
       "dbfsResultPath": null,
       "isJsonSchema": true,
       "metadata": {},
       "overflow": false,
       "plotOptions": {
        "customPlotOptions": {},
        "displayType": "table",
        "pivotAggregation": null,
        "pivotColumns": null,
        "xColumns": null,
        "yColumns": null
       },
       "removedWidgets": [],
       "schema": [],
       "type": "table"
      }
     },
     "output_type": "display_data"
    }
   ],
   "source": [
    "%sql\n",
    "--Para limpar tabelas antigas - Remove tabelas e metadados no catálogo\n",
    "DROP DATABASE IF EXISTS dw_obesidade CASCADE;\n"
   ]
  },
  {
   "cell_type": "code",
   "execution_count": 0,
   "metadata": {
    "application/vnd.databricks.v1+cell": {
     "cellMetadata": {
      "byteLimit": 2048000,
      "rowLimit": 10000
     },
     "inputWidgets": {},
     "nuid": "adaa6a61-0b90-43e0-8a4f-0c00b0b6af97",
     "showTitle": false,
     "tableResultSettingsMap": {},
     "title": ""
    }
   },
   "outputs": [
    {
     "output_type": "stream",
     "name": "stdout",
     "output_type": "stream",
     "text": [
      "Out[3]: True"
     ]
    }
   ],
   "source": [
    "#Para limpar tabelas antigas - Limpa a pasta física no DBFS\n",
    "dbutils.fs.rm(\"dbfs:/user/hive/warehouse/dw_obesidade.db\", recurse=True)"
   ]
  },
  {
   "cell_type": "code",
   "execution_count": 0,
   "metadata": {
    "application/vnd.databricks.v1+cell": {
     "cellMetadata": {
      "byteLimit": 2048000,
      "implicitDf": true,
      "rowLimit": 10000
     },
     "inputWidgets": {},
     "nuid": "a6947763-fc59-40aa-9b24-ea2bb87c1d4e",
     "showTitle": false,
     "tableResultSettingsMap": {},
     "title": ""
    }
   },
   "outputs": [
    {
     "output_type": "display_data",
     "data": {
      "text/html": [
       "<style scoped>\n",
       "  .table-result-container {\n",
       "    max-height: 300px;\n",
       "    overflow: auto;\n",
       "  }\n",
       "  table, th, td {\n",
       "    border: 1px solid black;\n",
       "    border-collapse: collapse;\n",
       "  }\n",
       "  th, td {\n",
       "    padding: 5px;\n",
       "  }\n",
       "  th {\n",
       "    text-align: left;\n",
       "  }\n",
       "</style><div class='table-result-container'><table class='table-result'><thead style='background-color: white'><tr></tr></thead><tbody></tbody></table></div>"
      ]
     },
     "metadata": {
      "application/vnd.databricks.v1+output": {
       "addedWidgets": {},
       "aggData": [],
       "aggError": "",
       "aggOverflow": false,
       "aggSchema": [],
       "aggSeriesLimitReached": false,
       "aggType": "",
       "arguments": {},
       "columnCustomDisplayInfos": {},
       "data": [],
       "datasetInfos": [],
       "dbfsResultPath": null,
       "isJsonSchema": true,
       "metadata": {},
       "overflow": false,
       "plotOptions": {
        "customPlotOptions": {},
        "displayType": "table",
        "pivotAggregation": null,
        "pivotColumns": null,
        "xColumns": null,
        "yColumns": null
       },
       "removedWidgets": [],
       "schema": [],
       "type": "table"
      }
     },
     "output_type": "display_data"
    }
   ],
   "source": [
    "%sql\n",
    "-- Criação do banco de dados para o Data Warehouse de Obesidade\n",
    "CREATE DATABASE IF NOT EXISTS dw_obesidade;\n",
    "USE dw_obesidade;\n",
    "\n",
    "-- Tabela de dimensão: Pessoa\n",
    "-- Contém os atributos físicos e informações pessoais de cada indivíduo\n",
    "-- Relaciona-se com outras tabelas dimensionais por meio de chaves estrangeiras\n",
    "CREATE TABLE IF NOT EXISTS dw_obesidade.DimPessoa (\n",
    "    id_pessoa INT,         -- Chave primária simulada\n",
    "    age FLOAT,             -- Idade do indivíduo (anos)\n",
    "    gender STRING,         -- Gênero ('Male'/'Female')\n",
    "    height FLOAT,          -- Altura (em metros)\n",
    "    weight FLOAT,          -- Peso (em kg)\n",
    "    id_estilo INT,         -- FK → DimEstiloVida.id_estilo\n",
    "    id_diagnostico INT,    -- FK → DimDiagnostico.id_diagnostico\n",
    "    id_hist_fam INT        -- FK → DimHistoricoFamiliar.id_hist_fam\n",
    ");\n",
    "\n",
    "-- Tabela de dimensão: Hábitos Alimentares\n",
    "-- Armazena características alimentares relacionadas à frequência e consumo\n",
    "CREATE TABLE IF NOT EXISTS dw_obesidade.DimHabitosAlimentares (\n",
    "    id_habito INT,         -- Chave primária simulada\n",
    "    favc STRING,           -- Consumo frequente de alimentos calóricos ('yes'/'no')\n",
    "    fcvc FLOAT,            -- Frequência de consumo de vegetais (1–3)\n",
    "    ncp FLOAT,             -- Número de refeições principais por dia\n",
    "    caec STRING,           -- Consumo entre refeições ('no', 'Sometimes', etc.)\n",
    "    calc STRING,           -- Frequência do consumo de álcool\n",
    "    ch2o FLOAT             -- Consumo diário de água (em litros)\n",
    ");\n",
    "\n",
    "-- Tabela de dimensão: Estilo de Vida\n",
    "-- Representa hábitos físicos e comportamentais\n",
    "CREATE TABLE IF NOT EXISTS dw_obesidade.DimEstiloVida (\n",
    "    id_estilo INT,         -- Chave primária simulada\n",
    "    scc STRING,            -- Monitora consumo de calorias ('yes'/'no')\n",
    "    smoke STRING,          -- Fumante ('yes'/'no')\n",
    "    faf FLOAT,             -- Frequência de atividade física (horas por semana)\n",
    "    tue FLOAT,             -- Tempo usando dispositivos tecnológicos (horas/dia)\n",
    "    mtrans STRING          -- Meio de transporte (car, bike, walking, etc.)\n",
    ");\n",
    "\n",
    "-- Tabela de dimensão: Histórico Familiar\n",
    "-- Informa se há histórico de sobrepeso na família\n",
    "CREATE TABLE IF NOT EXISTS dw_obesidade.DimHistoricoFamiliar (\n",
    "    id_hist_fam INT,       -- Chave primária simulada\n",
    "    valor STRING           -- 'yes' ou 'no'\n",
    ");\n",
    "\n",
    "-- Tabela de dimensão: Diagnóstico\n",
    "-- Representa a classificação final do nível de obesidade\n",
    "CREATE TABLE IF NOT EXISTS dw_obesidade.DimDiagnostico (\n",
    "    id_diagnostico INT,    -- Chave primária simulada\n",
    "    nome STRING            -- Exemplo: 'Obesity_Type_I', 'Normal_Weight'\n",
    ");\n",
    "\n",
    "-- Tabela fato: FatoObesidade\n",
    "-- Representa a instância de associação entre uma pessoa e seus hábitos alimentares\n",
    "-- Esta tabela resolve o relacionamento N:N entre Pessoa e HabitoAlimentar\n",
    "CREATE TABLE IF NOT EXISTS dw_obesidade.FatoObesidade (\n",
    "    id_fato INT,           -- Chave primária simulada\n",
    "    id_pessoa INT,         -- FK → DimPessoa.id_pessoa\n",
    "    id_habito INT          -- FK → DimHabitosAlimentares.id_habito\n",
    ");"
   ]
  },
  {
   "cell_type": "markdown",
   "metadata": {
    "application/vnd.databricks.v1+cell": {
     "cellMetadata": {
      "byteLimit": 2048000,
      "rowLimit": 10000
     },
     "inputWidgets": {},
     "nuid": "6e7add45-15a0-4662-8207-982e48eaa686",
     "showTitle": false,
     "tableResultSettingsMap": {},
     "title": ""
    }
   },
   "source": [
    "\n",
    "Finalizada a criação do modelo físico, para facilitar o entendimento dos atributos e dados originais, dois dicionários foram criados para unir todas as informações relevantes de cada atributo.\n",
    "\n",
    "O dicionário de dados abaixo inclui a origem dos atributos, o tipo, uma descrição básica, se aceita valores nulos, se é uma chave primária (PK) ou chave estrangeira (FK).\n",
    "\n",
    "<img src=\"/files/shared_uploads/pr.thayssa@gmail.com/dicionario_1.png\" width=\"1000\">"
   ]
  },
  {
   "cell_type": "markdown",
   "metadata": {
    "application/vnd.databricks.v1+cell": {
     "cellMetadata": {
      "byteLimit": 2048000,
      "rowLimit": 10000
     },
     "inputWidgets": {},
     "nuid": "872ec669-396a-4e58-b8aa-c472d4c254f4",
     "showTitle": false,
     "tableResultSettingsMap": {},
     "title": ""
    }
   },
   "source": [
    "\n",
    "O segundo dicionário, nomeado aqui dicionário de dados 2, descreve os valores mínimos, máximo e a média aproximada dos atributos com valores numéricos, identifica os valores dos atributos não-numéricos, e fornece uma descrição detalhada do que cada campo significa. A descrição é baseada na informação disponível no artigo do qual o dataset foi obtido: \"Dataset for estimation of obesity levels based on eating habits and physical condition in individuals from Colombia, Peru and Mexico.\" (PALECHOR & MANOTAS, 2019).\n",
    "\n",
    "\n",
    "<img src=\"/files/shared_uploads/pr.thayssa@gmail.com/dicionario_2-1.png\" width=\"1000\">"
   ]
  },
  {
   "cell_type": "markdown",
   "metadata": {
    "application/vnd.databricks.v1+cell": {
     "cellMetadata": {
      "byteLimit": 2048000,
      "rowLimit": 10000
     },
     "inputWidgets": {},
     "nuid": "66ed19da-876f-40a9-9fd2-7fba1616e861",
     "showTitle": false,
     "tableResultSettingsMap": {},
     "title": ""
    }
   },
   "source": [
    "## Implementação\n",
    "\n",
    "Após a finalização da modelagem dos dados — com a estrutura entidade-relacionamento devidamente representada nos modelos conceitual, lógico e físico — foi possível iniciar a etapa de implementação do banco de dados analítico propriamente dito.\n",
    "\n",
    "A implementação diz respeito à aplicação prática da estrutura teórica definida, com o objetivo de tornar o modelo funcional, armazenar os dados de forma organizada e prepará-los para análise. Neste projeto, essa implementação foi realizada por meio da construção de um pipeline ETL (Extração, Transformação e Carga), utilizando a plataforma Databricks com o ambiente PySpark.\n",
    "\n",
    "**Justificativa da ferramenta utilizada**\n",
    "\n",
    "A escolha pela plataforma Databricks e pela linguagem PySpark se deu pela robustez dessas tecnologias no tratamento de dados analíticos. O Databricks permite a integração entre SQL, Python e visualizações de forma nativa, enquanto o PySpark facilita o processamento distribuído de dados, mesmo em grandes volumes. A versão gratuita da plataforma ainda oferece um ambiente prático e completo para o desenvolvimento de pipelines e armazenamento em formato Delta Lake.\n",
    "\n",
    "**Observação sobre limitações da versão gratuita**\n",
    "\n",
    "Apesar das vantagens, é importante destacar que a versão gratuita do Databricks não permite a definição explícita de constraints físicas, como chaves primárias e estrangeiras. No entanto, essas restrições foram respeitadas logicamente durante todo o processo de modelagem e implementação. As integrações entre as tabelas foram mantidas por meio de joins consistentes, e os dados foram validados e deduplicados antes da carga.\n",
    "\n",
    "**Boas práticas aplicadas na implementação**\n",
    "\n",
    "Durante a construção do pipeline ETL, foram aplicadas diversas boas práticas, tais como:\n",
    "\n",
    "- Separação dos dados em tabelas dimensionais e uma tabela fato, segundo o modelo relacional\n",
    "- Criação de identificadores artificiais com `row_number()` para cada dimensão, e `monotonically_increasing_id()` para a tabela fato\n",
    "- Deduplicação das tabelas com `dropDuplicates()` para evitar inconsistências\n",
    "- Escrita segura com sobrescrita controlada por meio da função `saveAsTable()` com `mode(\"overwrite\")`\n",
    "- Armazenamento dos dados no formato Delta Lake, que garante versionamento, performance e transações ACID"
   ]
  },
  {
   "cell_type": "markdown",
   "metadata": {
    "application/vnd.databricks.v1+cell": {
     "cellMetadata": {
      "byteLimit": 2048000,
      "rowLimit": 10000
     },
     "inputWidgets": {},
     "nuid": "cffea842-b1a4-4884-a1a0-afcc60e55d58",
     "showTitle": false,
     "tableResultSettingsMap": {},
     "title": ""
    }
   },
   "source": [
    "### Pipeline ETL (Extração, Transformação e Carga)\n",
    "\n",
    "A construção de um Data Warehouse requer a execução de um pipeline ETL, composto por três etapas fundamentais: extração, transformação e carga de dados. Este processo foi implementado neste projeto utilizando a linguagem PySpark na plataforma Databricks."
   ]
  },
  {
   "cell_type": "markdown",
   "metadata": {
    "application/vnd.databricks.v1+cell": {
     "cellMetadata": {
      "byteLimit": 2048000,
      "rowLimit": 10000
     },
     "inputWidgets": {},
     "nuid": "19946848-8cb6-49e8-8c1e-ffb80121d423",
     "showTitle": false,
     "tableResultSettingsMap": {},
     "title": ""
    }
   },
   "source": [
    "#### Extração (Extract)\n",
    "\n",
    "Na etapa de extração, os dados foram obtidos a partir do arquivo CSV \"ObesityDataSet_raw_and_data_sinthetic.csv\", disponível na plataforma Kaggle. O arquivo foi carregado no Databricks utilizando a biblioteca PySpark, com a opção `inferSchema` ativada para detectar automaticamente os tipos de dados."
   ]
  },
  {
   "cell_type": "code",
   "execution_count": 0,
   "metadata": {
    "application/vnd.databricks.v1+cell": {
     "cellMetadata": {
      "byteLimit": 2048000,
      "rowLimit": 10000
     },
     "inputWidgets": {},
     "nuid": "c51e6dae-1508-40bc-91c8-4763820ae192",
     "showTitle": false,
     "tableResultSettingsMap": {},
     "title": ""
    }
   },
   "outputs": [],
   "source": [
    "# ETAPA: EXTRAÇÃO\n",
    "# Objetivo: Carregar os dados crus do arquivo original em um DataFrame Spark\n",
    "# Ações: leitura do CSV com inferência automática de tipos, padronização de nomes de coluna\n",
    "\n",
    "# Leitura e padronização de colunas\n",
    "df = spark.read.csv(\"/FileStore/shared_uploads/pr.thayssa@gmail.com/ObesityDataSet_raw_and_data_sinthetic.csv\", header=True, inferSchema=True)\n",
    "df = df.toDF(*[c.lower() for c in df.columns])\n",
    "df = df.toDF(*[c.strip().lower().replace(\" \", \"_\") for c in df.columns])\n",
    "\n",
    "from pyspark.sql.functions import row_number, monotonically_increasing_id\n",
    "from pyspark.sql.window import Window\n"
   ]
  },
  {
   "cell_type": "markdown",
   "metadata": {
    "application/vnd.databricks.v1+cell": {
     "cellMetadata": {
      "byteLimit": 2048000,
      "rowLimit": 10000
     },
     "inputWidgets": {},
     "nuid": "7c7137e3-44f1-4897-9252-7fc198ca4f24",
     "showTitle": false,
     "tableResultSettingsMap": {},
     "title": ""
    }
   },
   "source": [
    "#### Transformação (Transform)\n",
    "\n",
    "A etapa de transformação consistiu em várias ações para organizar e estruturar os dados conforme o modelo relacional previamente definido. Os principais passos foram:\n",
    "\n",
    "- Separação de grupos de atributos em diferentes dimensões: por exemplo, os atributos relacionados a estilo de vida foram agrupados na dimensão `DimEstiloVida`.\n",
    "- Criação de identificadores artificiais (chaves primárias) com a função `row_number` para cada dimensão.\n",
    "- Associação entre dimensões e a tabela fato por meio de joins baseados nos atributos originais.\n",
    "- Remoção de duplicatas (`dropDuplicates()`) para garantir a integridade de cada dimensão.\n",
    "\n",
    "A tabela fato foi construída a partir do cruzamento entre as dimensões e os registros originais, com o objetivo de capturar as chaves de cada dimensão e associá-las a um identificador de fato (`id_fato`), criado com `monotonically_increasing_id()`."
   ]
  },
  {
   "cell_type": "code",
   "execution_count": 0,
   "metadata": {
    "application/vnd.databricks.v1+cell": {
     "cellMetadata": {
      "byteLimit": 2048000,
      "rowLimit": 10000
     },
     "inputWidgets": {},
     "nuid": "850504d1-f0ac-49da-a379-d4eef7dd0933",
     "showTitle": false,
     "tableResultSettingsMap": {},
     "title": ""
    }
   },
   "outputs": [],
   "source": [
    "# ETAPA: TRANSFORMAÇÃO\n",
    "# Objetivo: Criar dimensões e tabela fato a partir do DataFrame original, normalizando os dados\n",
    "# de acordo com o modelo lógico relacional previamente estabelecido.\n",
    "\n",
    "# Pessoa\n",
    "# Seleciona colunas que identificam uma pessoa única e atribui uma chave artificial (surrogate key)\n",
    "df_pessoa = df.select(\"age\", \"gender\", \"height\", \"weight\").distinct()\n",
    "df_pessoa = df_pessoa.withColumn(\"id_pessoa\", row_number().over(Window.orderBy(\"age\", \"gender\", \"height\", \"weight\")))\n",
    "\n",
    "# Histórico Familiar (dimensão separada)\n",
    "df_historico = df.select(\"family_history_with_overweight\").distinct()\n",
    "df_historico = df_historico.withColumn(\"id_hist_fam\", row_number().over(Window.orderBy(\"family_history_with_overweight\")))\n",
    "df_historico = df_historico.withColumnRenamed(\"family_history_with_overweight\", \"valor\")\n",
    "\n",
    "# Estilo de Vida (atributos comportamentais)\n",
    "df_estilo = df.select(\"scc\", \"smoke\", \"faf\", \"tue\", \"mtrans\").distinct()\n",
    "df_estilo = df_estilo.withColumn(\"id_estilo\", row_number().over(Window.orderBy(\"scc\", \"smoke\", \"faf\", \"tue\", \"mtrans\")))\n",
    "\n",
    "# Hábito Alimentar (frequência e preferências alimentares)\n",
    "df_habito = df.select(\"favc\", \"fcvc\", \"ncp\", \"caec\", \"calc\", \"ch2o\").distinct()\n",
    "df_habito = df_habito.withColumn(\"id_habito\", row_number().over(Window.orderBy(\"favc\", \"fcvc\", \"ncp\", \"caec\", \"calc\", \"ch2o\")))\n",
    "\n",
    "# Diagnóstico (classificação final de obesidade)\n",
    "df_diagnostico = df.select(\"nobeyesdad\").distinct()\n",
    "df_diagnostico = df_diagnostico.withColumn(\"id_diagnostico\", row_number().over(Window.orderBy(\"nobeyesdad\")))\n",
    "df_diagnostico = df_diagnostico.withColumnRenamed(\"nobeyesdad\", \"nome\")\n",
    "\n",
    "\n"
   ]
  },
  {
   "cell_type": "code",
   "execution_count": 0,
   "metadata": {
    "application/vnd.databricks.v1+cell": {
     "cellMetadata": {
      "byteLimit": 2048000,
      "rowLimit": 10000
     },
     "inputWidgets": {},
     "nuid": "5de163b6-14fd-4cce-82c4-1f0478416045",
     "showTitle": false,
     "tableResultSettingsMap": {},
     "title": ""
    }
   },
   "outputs": [],
   "source": [
    "# ETAPA: CARGA\n",
    "# (Função utilitária definida para ser usada na etapa de CARGA. Esta célula ainda não executa nenhuma carga — apenas prepara a função)\n",
    "# Função de escrita segura. Função reutilizável para salvar as tabelas dimensionais e fato no Data Warehouse\n",
    "\n",
    "def salvar_tabela(df, nome_tabela):\n",
    "    spark.sql(f\"DROP TABLE IF EXISTS dw_obesidade.{nome_tabela}\")\n",
    "    df.dropDuplicates().write.format(\"delta\").mode(\"overwrite\").saveAsTable(f\"dw_obesidade.{nome_tabela}\")\n"
   ]
  },
  {
   "cell_type": "code",
   "execution_count": 0,
   "metadata": {
    "application/vnd.databricks.v1+cell": {
     "cellMetadata": {
      "byteLimit": 2048000,
      "rowLimit": 10000
     },
     "inputWidgets": {},
     "nuid": "1d273b82-443d-46ea-96e9-b77c67d9d279",
     "showTitle": false,
     "tableResultSettingsMap": {},
     "title": ""
    }
   },
   "outputs": [],
   "source": [
    "# ETAPA: TRANSFORMAÇÃO (continuação)\n",
    "# Objetivo: Unir os dados originais com as dimensões criadas para formar a tabela fato,\n",
    "# incluindo as chaves estrangeiras e criando a chave primária simulada \"id_fato\".\n",
    "\n",
    "# Tabela fato com joins para buscar os ids das dimensões\n",
    "# Cada join associa os atributos originais ao seu respectivo identificador único\n",
    "fato = df.join(df_pessoa, on=[\"age\", \"gender\", \"height\", \"weight\"]) \\\n",
    "         .join(df_habito, on=[\"favc\", \"fcvc\", \"ncp\", \"caec\", \"calc\", \"ch2o\"]) \\\n",
    "         .join(df_estilo, on=[\"scc\", \"smoke\", \"faf\", \"tue\", \"mtrans\"]) \\\n",
    "         .join(df_historico.withColumnRenamed(\"valor\", \"family_history_with_overweight\"), on=[\"family_history_with_overweight\"]) \\\n",
    "         .join(df_diagnostico.withColumnRenamed(\"nome\", \"nobeyesdad\"), on=[\"nobeyesdad\"])\n",
    "\n",
    "# Geração da chave primária da tabela fato\n",
    "from pyspark.sql.functions import monotonically_increasing_id\n",
    "fato = fato.withColumn(\"id_fato\", monotonically_increasing_id())"
   ]
  },
  {
   "cell_type": "markdown",
   "metadata": {
    "application/vnd.databricks.v1+cell": {
     "cellMetadata": {
      "byteLimit": 2048000,
      "rowLimit": 10000
     },
     "inputWidgets": {},
     "nuid": "630e0b6c-62d3-433b-a85b-329cc33eaf6e",
     "showTitle": false,
     "tableResultSettingsMap": {},
     "title": ""
    }
   },
   "source": [
    "#### Carga (Load)\n",
    "\n",
    "A carga dos dados no Data Warehouse foi realizada com o formato Delta Lake, que oferece suporte a transações ACID, versionamento de dados e maior desempenho na leitura e escrita.\n",
    "\n",
    "Para evitar conflitos e manter a integridade, foi implementada uma função de escrita segura (antes da finalização da etapa transformação). Essa função remove a tabela, caso ela já exista, e grava novamente os dados com deduplicação, garantindo consistência e controle.\n",
    "\n",
    "Apesar da versão gratuita do Databricks não permitir a aplicação direta de constraints (como chaves primárias ou estrangeiras), as restrições esperadas foram registradas como comentários no código. Isso serve como documentação das regras de integridade definidas no modelo lógico e reforça o compromisso com a estrutura relacional proposta."
   ]
  },
  {
   "cell_type": "code",
   "execution_count": 0,
   "metadata": {
    "application/vnd.databricks.v1+cell": {
     "cellMetadata": {
      "byteLimit": 2048000,
      "rowLimit": 10000
     },
     "inputWidgets": {},
     "nuid": "de9ea914-7c4c-45f8-a43f-42efeb26f8a7",
     "showTitle": false,
     "tableResultSettingsMap": {},
     "title": ""
    }
   },
   "outputs": [],
   "source": [
    "# ETAPA: CARGA\n",
    "# Objetivo: Salvar as tabelas dimensionais e a tabela fato no Data Warehouse em formato Delta, utilizando a função salvar_tabela definida anteriormente para garantir segurança na gravação.\n",
    "\n",
    "# Comentários com constraints esperadas (não aplicáveis no Databricks Community Edition):\n",
    "# Tabela DimPessoa:\n",
    "# PRIMARY KEY (id_pessoa)\n",
    "# FOREIGN KEY (id_estilo) REFERENCES DimEstiloVida(id_estilo)\n",
    "# FOREIGN KEY (id_diagnostico) REFERENCES DimDiagnostico(id_diagnostico)\n",
    "# FOREIGN KEY (id_hist_fam) REFERENCES DimHistoricoFamiliar(id_hist_fam)\n",
    "\n",
    "# Tabela DimHabitosAlimentares:\n",
    "# PRIMARY KEY (id_habito)\n",
    "\n",
    "# Tabela DimEstiloVida:\n",
    "# PRIMARY KEY (id_estilo)\n",
    "\n",
    "# Tabela DimHistoricoFamiliar:\n",
    "# PRIMARY KEY (id_hist_fam)\n",
    "\n",
    "# Tabela DimDiagnostico:\n",
    "# PRIMARY KEY (id_diagnostico)\n",
    "\n",
    "# Tabela FatoObesidade:\n",
    "# PRIMARY KEY (id_fato)\n",
    "# FOREIGN KEY (id_pessoa) REFERENCES DimPessoa(id_pessoa)\n",
    "# FOREIGN KEY (id_habito) REFERENCES DimHabitosAlimentares(id_habito)\n",
    "# FOREIGN KEY (id_estilo) REFERENCES DimEstiloVida(id_estilo)\n",
    "# FOREIGN KEY (id_hist_fam) REFERENCES DimHistoricoFamiliar(id_hist_fam)\n",
    "# FOREIGN KEY (id_diagnostico) REFERENCES DimDiagnostico(id_diagnostico)\n",
    "\n",
    "# Renomeação definitiva de colunas (se ainda não tiver sido aplicada)\n",
    "df_diagnostico = df_diagnostico.withColumnRenamed(\"nobeyesdad\", \"nome\")\n",
    "\n",
    "# Escrita das tabelas dimensionais e fato no banco dw_obesidade\n",
    "salvar_tabela(df_pessoa.select(\"id_pessoa\", \"age\", \"gender\", \"height\", \"weight\"), \"DimPessoa\")\n",
    "salvar_tabela(df_habito, \"DimHabitosAlimentares\")\n",
    "salvar_tabela(df_estilo, \"DimEstiloVida\")\n",
    "salvar_tabela(df_historico, \"DimHistoricoFamiliar\")\n",
    "salvar_tabela(df_diagnostico, \"DimDiagnostico\")\n",
    "salvar_tabela(fato.select(\"id_fato\", \"id_pessoa\", \"id_habito\", \"id_estilo\", \"id_hist_fam\", \"id_diagnostico\"), \"FatoObesidade\")"
   ]
  },
  {
   "cell_type": "markdown",
   "metadata": {
    "application/vnd.databricks.v1+cell": {
     "cellMetadata": {
      "byteLimit": 2048000,
      "rowLimit": 10000
     },
     "inputWidgets": {},
     "nuid": "bffa9de4-b6c1-4fcc-91ec-c832a9fd5888",
     "showTitle": false,
     "tableResultSettingsMap": {},
     "title": ""
    }
   },
   "source": [
    "## Análises "
   ]
  },
  {
   "cell_type": "markdown",
   "metadata": {
    "application/vnd.databricks.v1+cell": {
     "cellMetadata": {
      "byteLimit": 2048000,
      "rowLimit": 10000
     },
     "inputWidgets": {},
     "nuid": "6b941147-2a75-40e8-b032-8e1abcc3d5fe",
     "showTitle": false,
     "tableResultSettingsMap": {},
     "title": ""
    }
   },
   "source": [
    "###Verificação da qualidade e validação dos dados\n",
    "\n",
    "Com o modelo físico devidamente implementado e os dados carregados em um Data Warehouse estruturado, é possível dar continuidade à etapa de análise de dados.\n",
    "\n",
    "Essa etapa será dividida em dois momentos: primeiro, será realizada a verificação da qualidade dos dados, identificando possíveis inconsistências, redundâncias ou padrões inesperados. Em seguida, será feita a validação estrutural, assegurando que os dados estejam corretamente organizados, consistentes com o modelo implementado e prontos para análises estatísticas e cruzamentos.\n",
    "\n",
    "\n",
    "Cada célula do notebook apresentará uma verificação específica, acompanhada dos respectivos comandos e comentários explicativos."
   ]
  },
  {
   "cell_type": "markdown",
   "metadata": {
    "application/vnd.databricks.v1+cell": {
     "cellMetadata": {
      "byteLimit": 2048000,
      "rowLimit": 10000
     },
     "inputWidgets": {},
     "nuid": "d49099b4-c220-474a-a06c-6315220e86f3",
     "showTitle": false,
     "tableResultSettingsMap": {},
     "title": ""
    }
   },
   "source": [
    "####Verificação da qualidade dos dados\n",
    "\n",
    "Antes de iniciar as análises estatísticas e cruzamentos, é fundamental garantir que os dados estejam completos, coerentes e adequados para uso. Nesta etapa, realizamos uma série de verificações com foco na identificação de possíveis valores nulos, inconsistências semânticas e padrões que possam comprometer a integridade da análise.\n"
   ]
  },
  {
   "cell_type": "code",
   "execution_count": 0,
   "metadata": {
    "application/vnd.databricks.v1+cell": {
     "cellMetadata": {
      "byteLimit": 2048000,
      "implicitDf": true,
      "rowLimit": 10000
     },
     "inputWidgets": {},
     "nuid": "6ba89d96-ecac-48b0-ab62-4169382cfa7f",
     "showTitle": false,
     "tableResultSettingsMap": {},
     "title": ""
    }
   },
   "outputs": [
    {
     "output_type": "display_data",
     "data": {
      "text/html": [
       "<style scoped>\n",
       "  .table-result-container {\n",
       "    max-height: 300px;\n",
       "    overflow: auto;\n",
       "  }\n",
       "  table, th, td {\n",
       "    border: 1px solid black;\n",
       "    border-collapse: collapse;\n",
       "  }\n",
       "  th, td {\n",
       "    padding: 5px;\n",
       "  }\n",
       "  th {\n",
       "    text-align: left;\n",
       "  }\n",
       "</style><div class='table-result-container'><table class='table-result'><thead style='background-color: white'><tr><th>scc</th><th>smoke</th><th>faf</th><th>tue</th><th>mtrans</th><th>id_estilo</th></tr></thead><tbody></tbody></table></div>"
      ]
     },
     "metadata": {
      "application/vnd.databricks.v1+output": {
       "addedWidgets": {},
       "aggData": [],
       "aggError": "",
       "aggOverflow": false,
       "aggSchema": [],
       "aggSeriesLimitReached": false,
       "aggType": "",
       "arguments": {},
       "columnCustomDisplayInfos": {},
       "data": [],
       "datasetInfos": [],
       "dbfsResultPath": null,
       "isJsonSchema": true,
       "metadata": {},
       "overflow": false,
       "plotOptions": {
        "customPlotOptions": {},
        "displayType": "table",
        "pivotAggregation": null,
        "pivotColumns": null,
        "xColumns": null,
        "yColumns": null
       },
       "removedWidgets": [],
       "schema": [
        {
         "metadata": "{}",
         "name": "scc",
         "type": "\"string\""
        },
        {
         "metadata": "{}",
         "name": "smoke",
         "type": "\"string\""
        },
        {
         "metadata": "{}",
         "name": "faf",
         "type": "\"double\""
        },
        {
         "metadata": "{}",
         "name": "tue",
         "type": "\"double\""
        },
        {
         "metadata": "{}",
         "name": "mtrans",
         "type": "\"string\""
        },
        {
         "metadata": "{}",
         "name": "id_estilo",
         "type": "\"integer\""
        }
       ],
       "type": "table"
      }
     },
     "output_type": "display_data"
    }
   ],
   "source": [
    "%sql\n",
    "-- ETAPA DE ANÁLISE DE QUALIDADE DOS DADOS\n",
    "-- Nesta etapa, realizamos validações gerais de qualidade para garantir que os dados estejam completos, coerentes e confiáveis antes de partirmos para validações técnicas mais estruturais (como chaves e duplicações).\n",
    "-- Serão analisados os seguintes aspectos:\n",
    "-- 1. Verificação de valores fora dos domínios esperados em colunas categóricas\n",
    "-- 2. Detecção de valores fora das faixas esperadas em colunas numéricas\n",
    "\n",
    "--Para a confirmação dos valores mínimos, máximo ou esperados, consulte o dicionário de dados 2.\n",
    "\n",
    "-- 1. DOMÍNIOS CATEGÓRICOS: Verificar valores inesperados nas colunas tipo 'yes/no', 'male/female', etc.\n",
    "\n",
    "-- Valores distintos de 'gender'\n",
    "SELECT DISTINCT gender FROM dw_obesidade.DimPessoa;\n",
    "\n",
    "-- Valores distintos de 'favc'\n",
    "SELECT DISTINCT favc FROM dw_obesidade.DimHabitosAlimentares;\n",
    "\n",
    "-- Valores distintos de 'calc'\n",
    "SELECT DISTINCT calc FROM dw_obesidade.DimHabitosAlimentares;\n",
    "\n",
    "-- Valores distintos de 'caec'\n",
    "SELECT DISTINCT caec FROM dw_obesidade.DimHabitosAlimentares;\n",
    "\n",
    "-- Valores distintos de 'scc'\n",
    "SELECT DISTINCT scc FROM dw_obesidade.DimEstiloVida;\n",
    "\n",
    "-- Valores distintos de 'smoke'\n",
    "SELECT DISTINCT smoke FROM dw_obesidade.DimEstiloVida;\n",
    "\n",
    "-- Valores distintos de 'mtrans'\n",
    "SELECT DISTINCT mtrans FROM dw_obesidade.DimEstiloVida;\n",
    "\n",
    "-- Valores distintos de 'valor' (histórico familiar)\n",
    "SELECT DISTINCT valor FROM dw_obesidade.DimHistoricoFamiliar;\n",
    "\n",
    "-- Valores distintos de 'nome' (diagnóstico)\n",
    "SELECT DISTINCT nome FROM dw_obesidade.DimDiagnostico;\n",
    "\n",
    "-- 2. FAIXAS NUMÉRICAS: Verificar valores fora das faixas mínimas/máximas esperadas com base no dicionário de dados\n",
    "\n",
    "-- Altura fora do intervalo 1.45 a 1.95 m\n",
    "SELECT * FROM dw_obesidade.DimPessoa WHERE height < 1.45 OR height > 1.95;\n",
    "\n",
    "-- Peso fora do intervalo 39 a 173 kg\n",
    "SELECT * FROM dw_obesidade.DimPessoa WHERE weight < 39 OR weight > 173;\n",
    "\n",
    "-- Idade fora do intervalo 14 a 61 anos\n",
    "SELECT * FROM dw_obesidade.DimPessoa WHERE age < 14 OR age > 61;\n",
    "\n",
    "-- Frequência de vegetais fora do intervalo 1 a 3 vezes\n",
    "SELECT * FROM dw_obesidade.DimHabitosAlimentares WHERE fcvc < 1 OR fcvc > 3;\n",
    "\n",
    "-- Número de refeições fora do intervalo 1 a 4\n",
    "SELECT * FROM dw_obesidade.DimHabitosAlimentares WHERE ncp < 1 OR ncp > 4;\n",
    "\n",
    "-- Água ingerida fora do intervalo 0.5 a 3 litros\n",
    "SELECT * FROM dw_obesidade.DimHabitosAlimentares WHERE ch2o < 0.5 OR ch2o > 3;\n",
    "\n",
    "-- Frequência de atividade física fora de 0 a 3 horas\n",
    "SELECT * FROM dw_obesidade.DimEstiloVida WHERE faf < 0 OR faf > 3;\n",
    "\n",
    "-- Tempo com tecnologia fora do intervalo 0 a 2 horas\n",
    "SELECT * FROM dw_obesidade.DimEstiloVida WHERE tue < 0 OR tue > 2;\n"
   ]
  },
  {
   "cell_type": "markdown",
   "metadata": {
    "application/vnd.databricks.v1+cell": {
     "cellMetadata": {
      "byteLimit": 2048000,
      "rowLimit": 10000
     },
     "inputWidgets": {},
     "nuid": "99c8158d-8e07-4085-93b2-35779f9f7db6",
     "showTitle": false,
     "tableResultSettingsMap": {},
     "title": ""
    }
   },
   "source": [
    "A ausência de um resultado ao rodar a célula acima, confirma que não há nenhum valor fora do esperado para os atributos."
   ]
  },
  {
   "cell_type": "code",
   "execution_count": 0,
   "metadata": {
    "application/vnd.databricks.v1+cell": {
     "cellMetadata": {
      "byteLimit": 2048000,
      "implicitDf": true,
      "rowLimit": 10000
     },
     "inputWidgets": {},
     "nuid": "33b74405-9e8a-414f-9bd8-5fd4d43c09a0",
     "showTitle": false,
     "tableResultSettingsMap": {},
     "title": ""
    }
   },
   "outputs": [
    {
     "output_type": "display_data",
     "data": {
      "text/html": [
       "<style scoped>\n",
       "  .table-result-container {\n",
       "    max-height: 300px;\n",
       "    overflow: auto;\n",
       "  }\n",
       "  table, th, td {\n",
       "    border: 1px solid black;\n",
       "    border-collapse: collapse;\n",
       "  }\n",
       "  th, td {\n",
       "    padding: 5px;\n",
       "  }\n",
       "  th {\n",
       "    text-align: left;\n",
       "  }\n",
       "</style><div class='table-result-container'><table class='table-result'><thead style='background-color: white'><tr><th>campo</th><th>total_registros</th><th>zeros_encontrados</th><th>porcentagem_zeros</th></tr></thead><tbody><tr><td>faf</td><td>1580</td><td>224</td><td>14.18</td></tr><tr><td>tue</td><td>1580</td><td>272</td><td>17.22</td></tr><tr><td>fcvc</td><td>1679</td><td>0</td><td>0.00</td></tr><tr><td>ncp</td><td>1679</td><td>0</td><td>0.00</td></tr><tr><td>ch2o</td><td>1679</td><td>0</td><td>0.00</td></tr><tr><td>age</td><td>2077</td><td>0</td><td>0.00</td></tr><tr><td>height</td><td>2077</td><td>0</td><td>0.00</td></tr><tr><td>weight</td><td>2077</td><td>0</td><td>0.00</td></tr></tbody></table></div>"
      ]
     },
     "metadata": {
      "application/vnd.databricks.v1+output": {
       "addedWidgets": {},
       "aggData": [],
       "aggError": "",
       "aggOverflow": false,
       "aggSchema": [],
       "aggSeriesLimitReached": false,
       "aggType": "",
       "arguments": {},
       "columnCustomDisplayInfos": {},
       "data": [
        [
         "faf",
         1580,
         224,
         "14.18"
        ],
        [
         "tue",
         1580,
         272,
         "17.22"
        ],
        [
         "fcvc",
         1679,
         0,
         "0.00"
        ],
        [
         "ncp",
         1679,
         0,
         "0.00"
        ],
        [
         "ch2o",
         1679,
         0,
         "0.00"
        ],
        [
         "age",
         2077,
         0,
         "0.00"
        ],
        [
         "height",
         2077,
         0,
         "0.00"
        ],
        [
         "weight",
         2077,
         0,
         "0.00"
        ]
       ],
       "datasetInfos": [],
       "dbfsResultPath": null,
       "isJsonSchema": true,
       "metadata": {},
       "overflow": false,
       "plotOptions": {
        "customPlotOptions": {},
        "displayType": "table",
        "pivotAggregation": null,
        "pivotColumns": null,
        "xColumns": null,
        "yColumns": null
       },
       "removedWidgets": [],
       "schema": [
        {
         "metadata": "{}",
         "name": "campo",
         "type": "\"string\""
        },
        {
         "metadata": "{}",
         "name": "total_registros",
         "type": "\"long\""
        },
        {
         "metadata": "{}",
         "name": "zeros_encontrados",
         "type": "\"long\""
        },
        {
         "metadata": "{}",
         "name": "porcentagem_zeros",
         "type": "\"decimal(27,2)\""
        }
       ],
       "type": "table"
      }
     },
     "output_type": "display_data"
    }
   ],
   "source": [
    "%sql\n",
    "-- ETAPA DE VALIDAÇÃO DOS DADOS\n",
    "-- Esta célula tem como objetivo verificar a ocorrência de valores numéricos iguais a zero nas colunas quantitativas principais.\n",
    "-- Embora zeros não sejam nulos, sua presença pode indicar ausência de comportamento (ex: não praticar exercício físico) ou erro de preenchimento.\n",
    "-- Esta célula consolida em uma única tabela a contagem de registros, total de zeros e a porcentagem de zeros por campo.\n",
    "\n",
    "-- OBSERVAÇÃO IMPORTANTE:\n",
    "-- As consultas realizadas nesta etapa são aplicadas diretamente sobre as tabelas de DIMENSÃO, como DimPessoa, DimEstiloVida etc.\n",
    "-- Como essas tabelas armazenam apenas combinações distintas de atributos (por meio de SELECT DISTINCT),\n",
    "-- elas não representam a frequência real de ocorrência de cada valor na base original (que contém 2111 indivíduos).\n",
    "-- Portanto, **essas consultas servem apenas para validar o domínio e a consistência dos dados**, e não devem ser usadas para análises estatísticas.\n",
    "-- Se for necessário calcular a frequência real de valores (ex: quantos indivíduos têm FAF = 0), a análise deve ser feita sobre a tabela FatoObesidade (ou sobre o DataFrame original).\n",
    "\n",
    "-- OBSERVAÇÃO IMPORTANTE (2): SOBRE A VERIFICAÇÃO DE VALORES ZERO:\n",
    "-- A verificação de valores numéricos iguais a zero pode ser útil para:\n",
    "-- - Identificar padrões que podem ser legítimos (ex: faf = 0 significa sem atividade física)\n",
    "-- - Detectar possíveis falhas de preenchimento (ex: ch2o = 0 pode indicar falta de dados)\n",
    "-- - Avaliar a variabilidade de um campo, útil para análise estatística e modelos\n",
    "\n",
    "SELECT 'faf' AS campo, COUNT(*) AS total_registros,\n",
    "       SUM(CASE WHEN faf = 0 THEN 1 ELSE 0 END) AS zeros_encontrados,\n",
    "       ROUND(100.0 * SUM(CASE WHEN faf = 0 THEN 1 ELSE 0 END) / COUNT(*), 2) AS porcentagem_zeros\n",
    "FROM dw_obesidade.DimEstiloVida\n",
    "\n",
    "UNION ALL\n",
    "\n",
    "SELECT 'tue' AS campo, COUNT(*) AS total_registros,\n",
    "       SUM(CASE WHEN tue = 0 THEN 1 ELSE 0 END), \n",
    "       ROUND(100.0 * SUM(CASE WHEN tue = 0 THEN 1 ELSE 0 END) / COUNT(*), 2)\n",
    "FROM dw_obesidade.DimEstiloVida\n",
    "\n",
    "UNION ALL\n",
    "\n",
    "SELECT 'fcvc' AS campo, COUNT(*) AS total_registros,\n",
    "       SUM(CASE WHEN fcvc = 0 THEN 1 ELSE 0 END), \n",
    "       ROUND(100.0 * SUM(CASE WHEN fcvc = 0 THEN 1 ELSE 0 END) / COUNT(*), 2)\n",
    "FROM dw_obesidade.DimHabitosAlimentares\n",
    "\n",
    "UNION ALL\n",
    "\n",
    "SELECT 'ncp' AS campo, COUNT(*) AS total_registros,\n",
    "       SUM(CASE WHEN ncp = 0 THEN 1 ELSE 0 END), \n",
    "       ROUND(100.0 * SUM(CASE WHEN ncp = 0 THEN 1 ELSE 0 END) / COUNT(*), 2)\n",
    "FROM dw_obesidade.DimHabitosAlimentares\n",
    "\n",
    "UNION ALL\n",
    "\n",
    "SELECT 'ch2o' AS campo, COUNT(*) AS total_registros,\n",
    "       SUM(CASE WHEN ch2o = 0 THEN 1 ELSE 0 END), \n",
    "       ROUND(100.0 * SUM(CASE WHEN ch2o = 0 THEN 1 ELSE 0 END) / COUNT(*), 2)\n",
    "FROM dw_obesidade.DimHabitosAlimentares\n",
    "\n",
    "UNION ALL\n",
    "\n",
    "SELECT 'age' AS campo, COUNT(*) AS total_registros,\n",
    "       SUM(CASE WHEN age = 0 THEN 1 ELSE 0 END), \n",
    "       ROUND(100.0 * SUM(CASE WHEN age = 0 THEN 1 ELSE 0 END) / COUNT(*), 2)\n",
    "FROM dw_obesidade.DimPessoa\n",
    "\n",
    "UNION ALL\n",
    "\n",
    "SELECT 'height' AS campo, COUNT(*) AS total_registros,\n",
    "       SUM(CASE WHEN height = 0 THEN 1 ELSE 0 END), \n",
    "       ROUND(100.0 * SUM(CASE WHEN height = 0 THEN 1 ELSE 0 END) / COUNT(*), 2)\n",
    "FROM dw_obesidade.DimPessoa\n",
    "\n",
    "UNION ALL\n",
    "\n",
    "SELECT 'weight' AS campo, COUNT(*) AS total_registros,\n",
    "       SUM(CASE WHEN weight = 0 THEN 1 ELSE 0 END), \n",
    "       ROUND(100.0 * SUM(CASE WHEN weight = 0 THEN 1 ELSE 0 END) / COUNT(*), 2)\n",
    "FROM dw_obesidade.DimPessoa\n"
   ]
  },
  {
   "cell_type": "markdown",
   "metadata": {
    "application/vnd.databricks.v1+cell": {
     "cellMetadata": {
      "byteLimit": 2048000,
      "rowLimit": 10000
     },
     "inputWidgets": {},
     "nuid": "98f401ca-7fae-48e2-87fb-de23a7661103",
     "showTitle": false,
     "tableResultSettingsMap": {},
     "title": ""
    }
   },
   "source": [
    "A presença de zeros está de acordo com o esperado, não apresentando nenhum valor anormal tendo em vista os tipos de atributos verificados.\n",
    "\n",
    "Nosso modelo não permite a presença de valores nulos, e nenhum foi identificado no dataset, conforme demonstrado nas células a seguir."
   ]
  },
  {
   "cell_type": "code",
   "execution_count": 0,
   "metadata": {
    "application/vnd.databricks.v1+cell": {
     "cellMetadata": {
      "byteLimit": 2048000,
      "implicitDf": true,
      "rowLimit": 10000
     },
     "inputWidgets": {},
     "nuid": "4660b8ab-4f4a-4ad3-b645-33113a915be1",
     "showTitle": false,
     "tableResultSettingsMap": {},
     "title": ""
    }
   },
   "outputs": [
    {
     "output_type": "display_data",
     "data": {
      "text/html": [
       "<style scoped>\n",
       "  .table-result-container {\n",
       "    max-height: 300px;\n",
       "    overflow: auto;\n",
       "  }\n",
       "  table, th, td {\n",
       "    border: 1px solid black;\n",
       "    border-collapse: collapse;\n",
       "  }\n",
       "  th, td {\n",
       "    padding: 5px;\n",
       "  }\n",
       "  th {\n",
       "    text-align: left;\n",
       "  }\n",
       "</style><div class='table-result-container'><table class='table-result'><thead style='background-color: white'><tr><th>id_fato</th><th>id_pessoa</th><th>id_habito</th><th>id_estilo</th><th>id_hist_fam</th><th>id_diagnostico</th></tr></thead><tbody></tbody></table></div>"
      ]
     },
     "metadata": {
      "application/vnd.databricks.v1+output": {
       "addedWidgets": {},
       "aggData": [],
       "aggError": "",
       "aggOverflow": false,
       "aggSchema": [],
       "aggSeriesLimitReached": false,
       "aggType": "",
       "arguments": {},
       "columnCustomDisplayInfos": {},
       "data": [],
       "datasetInfos": [],
       "dbfsResultPath": null,
       "isJsonSchema": true,
       "metadata": {},
       "overflow": false,
       "plotOptions": {
        "customPlotOptions": {},
        "displayType": "table",
        "pivotAggregation": null,
        "pivotColumns": null,
        "xColumns": null,
        "yColumns": null
       },
       "removedWidgets": [],
       "schema": [
        {
         "metadata": "{}",
         "name": "id_fato",
         "type": "\"long\""
        },
        {
         "metadata": "{}",
         "name": "id_pessoa",
         "type": "\"integer\""
        },
        {
         "metadata": "{}",
         "name": "id_habito",
         "type": "\"integer\""
        },
        {
         "metadata": "{}",
         "name": "id_estilo",
         "type": "\"integer\""
        },
        {
         "metadata": "{}",
         "name": "id_hist_fam",
         "type": "\"integer\""
        },
        {
         "metadata": "{}",
         "name": "id_diagnostico",
         "type": "\"integer\""
        }
       ],
       "type": "table"
      }
     },
     "output_type": "display_data"
    }
   ],
   "source": [
    "%sql\n",
    "--VERIFICAÇÃO DE VALORES NULOS\n",
    "-- Confirma se existem campos com valores ausentes (NULLs) nas principais tabelas\n",
    "\n",
    "-- FatoObesidade\n",
    "SELECT * FROM dw_obesidade.FatoObesidade\n",
    "WHERE id_pessoa IS NULL OR id_habito IS NULL OR id_estilo IS NULL OR id_hist_fam IS NULL OR id_diagnostico IS NULL"
   ]
  },
  {
   "cell_type": "code",
   "execution_count": 0,
   "metadata": {
    "application/vnd.databricks.v1+cell": {
     "cellMetadata": {
      "byteLimit": 2048000,
      "implicitDf": true,
      "rowLimit": 10000
     },
     "inputWidgets": {},
     "nuid": "e1aa0713-e66b-4c40-941b-b931ee25b9f9",
     "showTitle": false,
     "tableResultSettingsMap": {},
     "title": ""
    }
   },
   "outputs": [
    {
     "output_type": "display_data",
     "data": {
      "text/html": [
       "<style scoped>\n",
       "  .table-result-container {\n",
       "    max-height: 300px;\n",
       "    overflow: auto;\n",
       "  }\n",
       "  table, th, td {\n",
       "    border: 1px solid black;\n",
       "    border-collapse: collapse;\n",
       "  }\n",
       "  th, td {\n",
       "    padding: 5px;\n",
       "  }\n",
       "  th {\n",
       "    text-align: left;\n",
       "  }\n",
       "</style><div class='table-result-container'><table class='table-result'><thead style='background-color: white'><tr><th>id_pessoa</th><th>age</th><th>gender</th><th>height</th><th>weight</th></tr></thead><tbody></tbody></table></div>"
      ]
     },
     "metadata": {
      "application/vnd.databricks.v1+output": {
       "addedWidgets": {},
       "aggData": [],
       "aggError": "",
       "aggOverflow": false,
       "aggSchema": [],
       "aggSeriesLimitReached": false,
       "aggType": "",
       "arguments": {},
       "columnCustomDisplayInfos": {},
       "data": [],
       "datasetInfos": [],
       "dbfsResultPath": null,
       "isJsonSchema": true,
       "metadata": {},
       "overflow": false,
       "plotOptions": {
        "customPlotOptions": {},
        "displayType": "table",
        "pivotAggregation": null,
        "pivotColumns": null,
        "xColumns": null,
        "yColumns": null
       },
       "removedWidgets": [],
       "schema": [
        {
         "metadata": "{}",
         "name": "id_pessoa",
         "type": "\"integer\""
        },
        {
         "metadata": "{}",
         "name": "age",
         "type": "\"double\""
        },
        {
         "metadata": "{}",
         "name": "gender",
         "type": "\"string\""
        },
        {
         "metadata": "{}",
         "name": "height",
         "type": "\"double\""
        },
        {
         "metadata": "{}",
         "name": "weight",
         "type": "\"double\""
        }
       ],
       "type": "table"
      }
     },
     "output_type": "display_data"
    }
   ],
   "source": [
    "%sql\n",
    "-- DimPessoa\n",
    "SELECT * FROM dw_obesidade.DimPessoa\n",
    "WHERE age IS NULL OR gender IS NULL OR height IS NULL OR weight IS NULL"
   ]
  },
  {
   "cell_type": "code",
   "execution_count": 0,
   "metadata": {
    "application/vnd.databricks.v1+cell": {
     "cellMetadata": {
      "byteLimit": 2048000,
      "implicitDf": true,
      "rowLimit": 10000
     },
     "inputWidgets": {},
     "nuid": "b5a981f8-f975-4b1d-8373-432b777f223a",
     "showTitle": false,
     "tableResultSettingsMap": {},
     "title": ""
    }
   },
   "outputs": [
    {
     "output_type": "display_data",
     "data": {
      "text/html": [
       "<style scoped>\n",
       "  .table-result-container {\n",
       "    max-height: 300px;\n",
       "    overflow: auto;\n",
       "  }\n",
       "  table, th, td {\n",
       "    border: 1px solid black;\n",
       "    border-collapse: collapse;\n",
       "  }\n",
       "  th, td {\n",
       "    padding: 5px;\n",
       "  }\n",
       "  th {\n",
       "    text-align: left;\n",
       "  }\n",
       "</style><div class='table-result-container'><table class='table-result'><thead style='background-color: white'><tr><th>favc</th><th>fcvc</th><th>ncp</th><th>caec</th><th>calc</th><th>ch2o</th><th>id_habito</th></tr></thead><tbody></tbody></table></div>"
      ]
     },
     "metadata": {
      "application/vnd.databricks.v1+output": {
       "addedWidgets": {},
       "aggData": [],
       "aggError": "",
       "aggOverflow": false,
       "aggSchema": [],
       "aggSeriesLimitReached": false,
       "aggType": "",
       "arguments": {},
       "columnCustomDisplayInfos": {},
       "data": [],
       "datasetInfos": [],
       "dbfsResultPath": null,
       "isJsonSchema": true,
       "metadata": {},
       "overflow": false,
       "plotOptions": {
        "customPlotOptions": {},
        "displayType": "table",
        "pivotAggregation": null,
        "pivotColumns": null,
        "xColumns": null,
        "yColumns": null
       },
       "removedWidgets": [],
       "schema": [
        {
         "metadata": "{}",
         "name": "favc",
         "type": "\"string\""
        },
        {
         "metadata": "{}",
         "name": "fcvc",
         "type": "\"double\""
        },
        {
         "metadata": "{}",
         "name": "ncp",
         "type": "\"double\""
        },
        {
         "metadata": "{}",
         "name": "caec",
         "type": "\"string\""
        },
        {
         "metadata": "{}",
         "name": "calc",
         "type": "\"string\""
        },
        {
         "metadata": "{}",
         "name": "ch2o",
         "type": "\"double\""
        },
        {
         "metadata": "{}",
         "name": "id_habito",
         "type": "\"integer\""
        }
       ],
       "type": "table"
      }
     },
     "output_type": "display_data"
    }
   ],
   "source": [
    "%sql\n",
    "-- DimHabitosAlimentares\n",
    "SELECT * FROM dw_obesidade.DimHabitosAlimentares\n",
    "WHERE favc IS NULL OR fcvc IS NULL OR ncp IS NULL OR caec IS NULL OR calc IS NULL OR ch2o IS NULL"
   ]
  },
  {
   "cell_type": "code",
   "execution_count": 0,
   "metadata": {
    "application/vnd.databricks.v1+cell": {
     "cellMetadata": {
      "byteLimit": 2048000,
      "implicitDf": true,
      "rowLimit": 10000
     },
     "inputWidgets": {},
     "nuid": "9f9f88eb-676b-4102-b417-ef4e8bbab8f8",
     "showTitle": false,
     "tableResultSettingsMap": {},
     "title": ""
    }
   },
   "outputs": [
    {
     "output_type": "display_data",
     "data": {
      "text/html": [
       "<style scoped>\n",
       "  .table-result-container {\n",
       "    max-height: 300px;\n",
       "    overflow: auto;\n",
       "  }\n",
       "  table, th, td {\n",
       "    border: 1px solid black;\n",
       "    border-collapse: collapse;\n",
       "  }\n",
       "  th, td {\n",
       "    padding: 5px;\n",
       "  }\n",
       "  th {\n",
       "    text-align: left;\n",
       "  }\n",
       "</style><div class='table-result-container'><table class='table-result'><thead style='background-color: white'><tr><th>scc</th><th>smoke</th><th>faf</th><th>tue</th><th>mtrans</th><th>id_estilo</th></tr></thead><tbody></tbody></table></div>"
      ]
     },
     "metadata": {
      "application/vnd.databricks.v1+output": {
       "addedWidgets": {},
       "aggData": [],
       "aggError": "",
       "aggOverflow": false,
       "aggSchema": [],
       "aggSeriesLimitReached": false,
       "aggType": "",
       "arguments": {},
       "columnCustomDisplayInfos": {},
       "data": [],
       "datasetInfos": [],
       "dbfsResultPath": null,
       "isJsonSchema": true,
       "metadata": {},
       "overflow": false,
       "plotOptions": {
        "customPlotOptions": {},
        "displayType": "table",
        "pivotAggregation": null,
        "pivotColumns": null,
        "xColumns": null,
        "yColumns": null
       },
       "removedWidgets": [],
       "schema": [
        {
         "metadata": "{}",
         "name": "scc",
         "type": "\"string\""
        },
        {
         "metadata": "{}",
         "name": "smoke",
         "type": "\"string\""
        },
        {
         "metadata": "{}",
         "name": "faf",
         "type": "\"double\""
        },
        {
         "metadata": "{}",
         "name": "tue",
         "type": "\"double\""
        },
        {
         "metadata": "{}",
         "name": "mtrans",
         "type": "\"string\""
        },
        {
         "metadata": "{}",
         "name": "id_estilo",
         "type": "\"integer\""
        }
       ],
       "type": "table"
      }
     },
     "output_type": "display_data"
    }
   ],
   "source": [
    "%sql\n",
    "-- DimEstiloVida\n",
    "SELECT * FROM dw_obesidade.DimEstiloVida\n",
    "WHERE scc IS NULL OR smoke IS NULL OR faf IS NULL OR tue IS NULL OR mtrans IS NULL"
   ]
  },
  {
   "cell_type": "code",
   "execution_count": 0,
   "metadata": {
    "application/vnd.databricks.v1+cell": {
     "cellMetadata": {
      "byteLimit": 2048000,
      "implicitDf": true,
      "rowLimit": 10000
     },
     "inputWidgets": {},
     "nuid": "76c03a17-4704-40f5-90a0-57be4946d3e7",
     "showTitle": false,
     "tableResultSettingsMap": {},
     "title": ""
    }
   },
   "outputs": [
    {
     "output_type": "display_data",
     "data": {
      "text/html": [
       "<style scoped>\n",
       "  .table-result-container {\n",
       "    max-height: 300px;\n",
       "    overflow: auto;\n",
       "  }\n",
       "  table, th, td {\n",
       "    border: 1px solid black;\n",
       "    border-collapse: collapse;\n",
       "  }\n",
       "  th, td {\n",
       "    padding: 5px;\n",
       "  }\n",
       "  th {\n",
       "    text-align: left;\n",
       "  }\n",
       "</style><div class='table-result-container'><table class='table-result'><thead style='background-color: white'><tr><th>nome</th><th>id_diagnostico</th></tr></thead><tbody></tbody></table></div>"
      ]
     },
     "metadata": {
      "application/vnd.databricks.v1+output": {
       "addedWidgets": {},
       "aggData": [],
       "aggError": "",
       "aggOverflow": false,
       "aggSchema": [],
       "aggSeriesLimitReached": false,
       "aggType": "",
       "arguments": {},
       "columnCustomDisplayInfos": {},
       "data": [],
       "datasetInfos": [],
       "dbfsResultPath": null,
       "isJsonSchema": true,
       "metadata": {},
       "overflow": false,
       "plotOptions": {
        "customPlotOptions": {},
        "displayType": "table",
        "pivotAggregation": null,
        "pivotColumns": null,
        "xColumns": null,
        "yColumns": null
       },
       "removedWidgets": [],
       "schema": [
        {
         "metadata": "{}",
         "name": "nome",
         "type": "\"string\""
        },
        {
         "metadata": "{}",
         "name": "id_diagnostico",
         "type": "\"integer\""
        }
       ],
       "type": "table"
      }
     },
     "output_type": "display_data"
    }
   ],
   "source": [
    "%sql\n",
    "-- DimDiagnostico\n",
    "SELECT * FROM dw_obesidade.DimDiagnostico\n",
    "WHERE nome IS NULL"
   ]
  },
  {
   "cell_type": "code",
   "execution_count": 0,
   "metadata": {
    "application/vnd.databricks.v1+cell": {
     "cellMetadata": {
      "byteLimit": 2048000,
      "implicitDf": true,
      "rowLimit": 10000
     },
     "inputWidgets": {},
     "nuid": "1352ede1-77de-46c8-a023-17a58a29a25e",
     "showTitle": false,
     "tableResultSettingsMap": {},
     "title": ""
    }
   },
   "outputs": [
    {
     "output_type": "display_data",
     "data": {
      "text/html": [
       "<style scoped>\n",
       "  .table-result-container {\n",
       "    max-height: 300px;\n",
       "    overflow: auto;\n",
       "  }\n",
       "  table, th, td {\n",
       "    border: 1px solid black;\n",
       "    border-collapse: collapse;\n",
       "  }\n",
       "  th, td {\n",
       "    padding: 5px;\n",
       "  }\n",
       "  th {\n",
       "    text-align: left;\n",
       "  }\n",
       "</style><div class='table-result-container'><table class='table-result'><thead style='background-color: white'><tr><th>valor</th><th>id_hist_fam</th></tr></thead><tbody></tbody></table></div>"
      ]
     },
     "metadata": {
      "application/vnd.databricks.v1+output": {
       "addedWidgets": {},
       "aggData": [],
       "aggError": "",
       "aggOverflow": false,
       "aggSchema": [],
       "aggSeriesLimitReached": false,
       "aggType": "",
       "arguments": {},
       "columnCustomDisplayInfos": {},
       "data": [],
       "datasetInfos": [],
       "dbfsResultPath": null,
       "isJsonSchema": true,
       "metadata": {},
       "overflow": false,
       "plotOptions": {
        "customPlotOptions": {},
        "displayType": "table",
        "pivotAggregation": null,
        "pivotColumns": null,
        "xColumns": null,
        "yColumns": null
       },
       "removedWidgets": [],
       "schema": [
        {
         "metadata": "{}",
         "name": "valor",
         "type": "\"string\""
        },
        {
         "metadata": "{}",
         "name": "id_hist_fam",
         "type": "\"integer\""
        }
       ],
       "type": "table"
      }
     },
     "output_type": "display_data"
    }
   ],
   "source": [
    "%sql\n",
    "-- DimHistoricoFamiliar\n",
    "SELECT * FROM dw_obesidade.DimHistoricoFamiliar\n",
    "WHERE valor IS NULL"
   ]
  },
  {
   "cell_type": "markdown",
   "metadata": {
    "application/vnd.databricks.v1+cell": {
     "cellMetadata": {
      "byteLimit": 2048000,
      "rowLimit": 10000
     },
     "inputWidgets": {},
     "nuid": "934f97c1-cf88-4c42-9fac-17c98388aa3a",
     "showTitle": false,
     "tableResultSettingsMap": {},
     "title": ""
    }
   },
   "source": [
    "**Conclusão**\n",
    "\n",
    "As verificações realizadas demonstraram que os dados carregados no Data Warehouse apresentam boa qualidade e estão aptos para análises. Nenhum valor nulo foi identificado nas tabelas dimensionais ou na tabela fato, e os valores zero encontrados em alguns atributos numéricos não comprometem a coerência dos dados.\n",
    "\n",
    "Além disso, os dados foram previamente normalizados e organizados em conformidade com o modelo relacional proposto, não sendo observadas anomalias ou inconsistências semânticas relevantes. Dessa forma, considera-se que a base se encontra íntegra, completa e pronta para validações estruturais e análises estatísticas subsequentes."
   ]
  },
  {
   "cell_type": "markdown",
   "metadata": {
    "application/vnd.databricks.v1+cell": {
     "cellMetadata": {
      "byteLimit": 2048000,
      "rowLimit": 10000
     },
     "inputWidgets": {},
     "nuid": "1510f350-ef00-4103-85b5-23a4b7c07ac1",
     "showTitle": false,
     "tableResultSettingsMap": {},
     "title": ""
    }
   },
   "source": [
    "#### Validação estrutural do modelo de dados\n",
    "\n",
    "Nesta etapa, faremos uso de técnicas de validação estrutural para verificar se o modelo de dados implementado está consistente do ponto de vista relacional.\n",
    "\n",
    "O objetivo aqui é garantir que as ligações entre as tabelas estejam corretas, que as chaves estejam sendo respeitadas logicamente, e que não haja desvios ou falhas de integridade referencial, mesmo na ausência de constraints físicas no Databricks.\n",
    "\n",
    "As validações serão realizadas em duas partes principais, descritas nas células seguintes. Cada célula contém detalhes específicos da verificação realizada."
   ]
  },
  {
   "cell_type": "code",
   "execution_count": 0,
   "metadata": {
    "application/vnd.databricks.v1+cell": {
     "cellMetadata": {
      "byteLimit": 2048000,
      "implicitDf": true,
      "rowLimit": 10000
     },
     "inputWidgets": {},
     "nuid": "924bea24-ae6f-4f1f-8750-c3da4d6123d5",
     "showTitle": false,
     "tableResultSettingsMap": {},
     "title": ""
    }
   },
   "outputs": [
    {
     "output_type": "display_data",
     "data": {
      "text/html": [
       "<style scoped>\n",
       "  .table-result-container {\n",
       "    max-height: 300px;\n",
       "    overflow: auto;\n",
       "  }\n",
       "  table, th, td {\n",
       "    border: 1px solid black;\n",
       "    border-collapse: collapse;\n",
       "  }\n",
       "  th, td {\n",
       "    padding: 5px;\n",
       "  }\n",
       "  th {\n",
       "    text-align: left;\n",
       "  }\n",
       "</style><div class='table-result-container'><table class='table-result'><thead style='background-color: white'><tr><th>id_pessoa</th></tr></thead><tbody></tbody></table></div>"
      ]
     },
     "metadata": {
      "application/vnd.databricks.v1+output": {
       "addedWidgets": {},
       "aggData": [],
       "aggError": "",
       "aggOverflow": false,
       "aggSchema": [],
       "aggSeriesLimitReached": false,
       "aggType": "",
       "arguments": {},
       "columnCustomDisplayInfos": {},
       "data": [],
       "datasetInfos": [],
       "dbfsResultPath": null,
       "isJsonSchema": true,
       "metadata": {},
       "overflow": false,
       "plotOptions": {
        "customPlotOptions": {},
        "displayType": "table",
        "pivotAggregation": null,
        "pivotColumns": null,
        "xColumns": null,
        "yColumns": null
       },
       "removedWidgets": [],
       "schema": [
        {
         "metadata": "{}",
         "name": "id_pessoa",
         "type": "\"integer\""
        }
       ],
       "type": "table"
      }
     },
     "output_type": "display_data"
    }
   ],
   "source": [
    "\n",
    "%sql\n",
    "-- =============================================================\n",
    "-- 1. VERIFICAÇÃO DE CHAVES ESTRANGEIRAS (INTEGRIDADE REFERENCIAL)\n",
    "-- Confirma se todos os IDs da tabela fato existem nas dimensões correspondentes\n",
    "-- =============================================================\n",
    "\n",
    "-- id_pessoa inexistente na dimensão\n",
    "SELECT DISTINCT id_pessoa FROM dw_obesidade.FatoObesidade\n",
    "WHERE id_pessoa NOT IN (SELECT id_pessoa FROM dw_obesidade.DimPessoa);"
   ]
  },
  {
   "cell_type": "code",
   "execution_count": 0,
   "metadata": {
    "application/vnd.databricks.v1+cell": {
     "cellMetadata": {
      "byteLimit": 2048000,
      "implicitDf": true,
      "rowLimit": 10000
     },
     "inputWidgets": {},
     "nuid": "07a3352d-c0ac-4601-aaf2-c7c4dd120e15",
     "showTitle": false,
     "tableResultSettingsMap": {},
     "title": ""
    }
   },
   "outputs": [
    {
     "output_type": "display_data",
     "data": {
      "text/html": [
       "<style scoped>\n",
       "  .table-result-container {\n",
       "    max-height: 300px;\n",
       "    overflow: auto;\n",
       "  }\n",
       "  table, th, td {\n",
       "    border: 1px solid black;\n",
       "    border-collapse: collapse;\n",
       "  }\n",
       "  th, td {\n",
       "    padding: 5px;\n",
       "  }\n",
       "  th {\n",
       "    text-align: left;\n",
       "  }\n",
       "</style><div class='table-result-container'><table class='table-result'><thead style='background-color: white'><tr><th>id_habito</th></tr></thead><tbody></tbody></table></div>"
      ]
     },
     "metadata": {
      "application/vnd.databricks.v1+output": {
       "addedWidgets": {},
       "aggData": [],
       "aggError": "",
       "aggOverflow": false,
       "aggSchema": [],
       "aggSeriesLimitReached": false,
       "aggType": "",
       "arguments": {},
       "columnCustomDisplayInfos": {},
       "data": [],
       "datasetInfos": [],
       "dbfsResultPath": null,
       "isJsonSchema": true,
       "metadata": {},
       "overflow": false,
       "plotOptions": {
        "customPlotOptions": {},
        "displayType": "table",
        "pivotAggregation": null,
        "pivotColumns": null,
        "xColumns": null,
        "yColumns": null
       },
       "removedWidgets": [],
       "schema": [
        {
         "metadata": "{}",
         "name": "id_habito",
         "type": "\"integer\""
        }
       ],
       "type": "table"
      }
     },
     "output_type": "display_data"
    }
   ],
   "source": [
    "%sql\n",
    "-- id_habito inexistente na dimensão\n",
    "SELECT DISTINCT id_habito FROM dw_obesidade.FatoObesidade\n",
    "WHERE id_habito NOT IN (SELECT id_habito FROM dw_obesidade.DimHabitosAlimentares);"
   ]
  },
  {
   "cell_type": "code",
   "execution_count": 0,
   "metadata": {
    "application/vnd.databricks.v1+cell": {
     "cellMetadata": {
      "byteLimit": 2048000,
      "implicitDf": true,
      "rowLimit": 10000
     },
     "inputWidgets": {},
     "nuid": "34a6604e-de0c-4c32-b7e3-bb13929b3c5f",
     "showTitle": false,
     "tableResultSettingsMap": {},
     "title": ""
    }
   },
   "outputs": [
    {
     "output_type": "display_data",
     "data": {
      "text/html": [
       "<style scoped>\n",
       "  .table-result-container {\n",
       "    max-height: 300px;\n",
       "    overflow: auto;\n",
       "  }\n",
       "  table, th, td {\n",
       "    border: 1px solid black;\n",
       "    border-collapse: collapse;\n",
       "  }\n",
       "  th, td {\n",
       "    padding: 5px;\n",
       "  }\n",
       "  th {\n",
       "    text-align: left;\n",
       "  }\n",
       "</style><div class='table-result-container'><table class='table-result'><thead style='background-color: white'><tr><th>id_estilo</th></tr></thead><tbody></tbody></table></div>"
      ]
     },
     "metadata": {
      "application/vnd.databricks.v1+output": {
       "addedWidgets": {},
       "aggData": [],
       "aggError": "",
       "aggOverflow": false,
       "aggSchema": [],
       "aggSeriesLimitReached": false,
       "aggType": "",
       "arguments": {},
       "columnCustomDisplayInfos": {},
       "data": [],
       "datasetInfos": [],
       "dbfsResultPath": null,
       "isJsonSchema": true,
       "metadata": {},
       "overflow": false,
       "plotOptions": {
        "customPlotOptions": {},
        "displayType": "table",
        "pivotAggregation": null,
        "pivotColumns": null,
        "xColumns": null,
        "yColumns": null
       },
       "removedWidgets": [],
       "schema": [
        {
         "metadata": "{}",
         "name": "id_estilo",
         "type": "\"integer\""
        }
       ],
       "type": "table"
      }
     },
     "output_type": "display_data"
    }
   ],
   "source": [
    "%sql\n",
    "-- id_estilo inexistente na dimensão\n",
    "SELECT DISTINCT id_estilo FROM dw_obesidade.FatoObesidade\n",
    "WHERE id_estilo NOT IN (SELECT id_estilo FROM dw_obesidade.DimEstiloVida);"
   ]
  },
  {
   "cell_type": "code",
   "execution_count": 0,
   "metadata": {
    "application/vnd.databricks.v1+cell": {
     "cellMetadata": {
      "byteLimit": 2048000,
      "implicitDf": true,
      "rowLimit": 10000
     },
     "inputWidgets": {},
     "nuid": "d539ff7b-8efe-42c8-ae1d-c4858c707c3a",
     "showTitle": false,
     "tableResultSettingsMap": {},
     "title": ""
    }
   },
   "outputs": [
    {
     "output_type": "display_data",
     "data": {
      "text/html": [
       "<style scoped>\n",
       "  .table-result-container {\n",
       "    max-height: 300px;\n",
       "    overflow: auto;\n",
       "  }\n",
       "  table, th, td {\n",
       "    border: 1px solid black;\n",
       "    border-collapse: collapse;\n",
       "  }\n",
       "  th, td {\n",
       "    padding: 5px;\n",
       "  }\n",
       "  th {\n",
       "    text-align: left;\n",
       "  }\n",
       "</style><div class='table-result-container'><table class='table-result'><thead style='background-color: white'><tr><th>id_hist_fam</th></tr></thead><tbody></tbody></table></div>"
      ]
     },
     "metadata": {
      "application/vnd.databricks.v1+output": {
       "addedWidgets": {},
       "aggData": [],
       "aggError": "",
       "aggOverflow": false,
       "aggSchema": [],
       "aggSeriesLimitReached": false,
       "aggType": "",
       "arguments": {},
       "columnCustomDisplayInfos": {},
       "data": [],
       "datasetInfos": [],
       "dbfsResultPath": null,
       "isJsonSchema": true,
       "metadata": {},
       "overflow": false,
       "plotOptions": {
        "customPlotOptions": {},
        "displayType": "table",
        "pivotAggregation": null,
        "pivotColumns": null,
        "xColumns": null,
        "yColumns": null
       },
       "removedWidgets": [],
       "schema": [
        {
         "metadata": "{}",
         "name": "id_hist_fam",
         "type": "\"integer\""
        }
       ],
       "type": "table"
      }
     },
     "output_type": "display_data"
    }
   ],
   "source": [
    "%sql\n",
    "-- id_hist_fam inexistente na dimensão\n",
    "SELECT DISTINCT id_hist_fam FROM dw_obesidade.FatoObesidade\n",
    "WHERE id_hist_fam NOT IN (SELECT id_hist_fam FROM dw_obesidade.DimHistoricoFamiliar);\n"
   ]
  },
  {
   "cell_type": "code",
   "execution_count": 0,
   "metadata": {
    "application/vnd.databricks.v1+cell": {
     "cellMetadata": {
      "byteLimit": 2048000,
      "implicitDf": true,
      "rowLimit": 10000
     },
     "inputWidgets": {},
     "nuid": "f5ecb054-9d28-4c7c-8847-bce3558624ea",
     "showTitle": false,
     "tableResultSettingsMap": {},
     "title": ""
    }
   },
   "outputs": [
    {
     "output_type": "display_data",
     "data": {
      "text/html": [
       "<style scoped>\n",
       "  .table-result-container {\n",
       "    max-height: 300px;\n",
       "    overflow: auto;\n",
       "  }\n",
       "  table, th, td {\n",
       "    border: 1px solid black;\n",
       "    border-collapse: collapse;\n",
       "  }\n",
       "  th, td {\n",
       "    padding: 5px;\n",
       "  }\n",
       "  th {\n",
       "    text-align: left;\n",
       "  }\n",
       "</style><div class='table-result-container'><table class='table-result'><thead style='background-color: white'><tr><th>id_diagnostico</th></tr></thead><tbody></tbody></table></div>"
      ]
     },
     "metadata": {
      "application/vnd.databricks.v1+output": {
       "addedWidgets": {},
       "aggData": [],
       "aggError": "",
       "aggOverflow": false,
       "aggSchema": [],
       "aggSeriesLimitReached": false,
       "aggType": "",
       "arguments": {},
       "columnCustomDisplayInfos": {},
       "data": [],
       "datasetInfos": [],
       "dbfsResultPath": null,
       "isJsonSchema": true,
       "metadata": {},
       "overflow": false,
       "plotOptions": {
        "customPlotOptions": {},
        "displayType": "table",
        "pivotAggregation": null,
        "pivotColumns": null,
        "xColumns": null,
        "yColumns": null
       },
       "removedWidgets": [],
       "schema": [
        {
         "metadata": "{}",
         "name": "id_diagnostico",
         "type": "\"integer\""
        }
       ],
       "type": "table"
      }
     },
     "output_type": "display_data"
    }
   ],
   "source": [
    "%sql\n",
    "-- id_diagnostico inexistente na dimensão\n",
    "SELECT DISTINCT id_diagnostico FROM dw_obesidade.FatoObesidade\n",
    "WHERE id_diagnostico NOT IN (SELECT id_diagnostico FROM dw_obesidade.DimDiagnostico);"
   ]
  },
  {
   "cell_type": "code",
   "execution_count": 0,
   "metadata": {
    "application/vnd.databricks.v1+cell": {
     "cellMetadata": {
      "byteLimit": 2048000,
      "implicitDf": true,
      "rowLimit": 10000
     },
     "inputWidgets": {},
     "nuid": "f96c4787-094c-47c7-8c32-3c1eb0f484fc",
     "showTitle": false,
     "tableResultSettingsMap": {},
     "title": ""
    }
   },
   "outputs": [
    {
     "output_type": "display_data",
     "data": {
      "text/html": [
       "<style scoped>\n",
       "  .table-result-container {\n",
       "    max-height: 300px;\n",
       "    overflow: auto;\n",
       "  }\n",
       "  table, th, td {\n",
       "    border: 1px solid black;\n",
       "    border-collapse: collapse;\n",
       "  }\n",
       "  th, td {\n",
       "    padding: 5px;\n",
       "  }\n",
       "  th {\n",
       "    text-align: left;\n",
       "  }\n",
       "</style><div class='table-result-container'><table class='table-result'><thead style='background-color: white'><tr><th>age</th><th>gender</th><th>height</th><th>weight</th><th>duplicados</th></tr></thead><tbody></tbody></table></div>"
      ]
     },
     "metadata": {
      "application/vnd.databricks.v1+output": {
       "addedWidgets": {},
       "aggData": [],
       "aggError": "",
       "aggOverflow": false,
       "aggSchema": [],
       "aggSeriesLimitReached": false,
       "aggType": "",
       "arguments": {},
       "columnCustomDisplayInfos": {},
       "data": [],
       "datasetInfos": [],
       "dbfsResultPath": null,
       "isJsonSchema": true,
       "metadata": {},
       "overflow": false,
       "plotOptions": {
        "customPlotOptions": {},
        "displayType": "table",
        "pivotAggregation": null,
        "pivotColumns": null,
        "xColumns": null,
        "yColumns": null
       },
       "removedWidgets": [],
       "schema": [
        {
         "metadata": "{}",
         "name": "age",
         "type": "\"double\""
        },
        {
         "metadata": "{}",
         "name": "gender",
         "type": "\"string\""
        },
        {
         "metadata": "{}",
         "name": "height",
         "type": "\"double\""
        },
        {
         "metadata": "{}",
         "name": "weight",
         "type": "\"double\""
        },
        {
         "metadata": "{}",
         "name": "duplicados",
         "type": "\"long\""
        }
       ],
       "type": "table"
      }
     },
     "output_type": "display_data"
    }
   ],
   "source": [
    "%sql\n",
    "\n",
    "-- =============================================================\n",
    "-- 2. VERIFICAÇÃO DE DUPLICAÇÃO NAS DIMENSÕES\n",
    "-- Confirma se há mais de uma linha com os mesmos atributos descritivos (sem considerar o ID)\n",
    "-- =============================================================\n",
    "\n",
    "-- DimPessoa\n",
    "SELECT age, gender, height, weight, COUNT(*) AS duplicados\n",
    "FROM dw_obesidade.DimPessoa\n",
    "GROUP BY age, gender, height, weight\n",
    "HAVING COUNT(*) > 1;"
   ]
  },
  {
   "cell_type": "code",
   "execution_count": 0,
   "metadata": {
    "application/vnd.databricks.v1+cell": {
     "cellMetadata": {
      "byteLimit": 2048000,
      "implicitDf": true,
      "rowLimit": 10000
     },
     "inputWidgets": {},
     "nuid": "fcc9bd19-169c-450c-b9b7-2b577b99739b",
     "showTitle": false,
     "tableResultSettingsMap": {},
     "title": ""
    }
   },
   "outputs": [
    {
     "output_type": "display_data",
     "data": {
      "text/html": [
       "<style scoped>\n",
       "  .table-result-container {\n",
       "    max-height: 300px;\n",
       "    overflow: auto;\n",
       "  }\n",
       "  table, th, td {\n",
       "    border: 1px solid black;\n",
       "    border-collapse: collapse;\n",
       "  }\n",
       "  th, td {\n",
       "    padding: 5px;\n",
       "  }\n",
       "  th {\n",
       "    text-align: left;\n",
       "  }\n",
       "</style><div class='table-result-container'><table class='table-result'><thead style='background-color: white'><tr><th>scc</th><th>smoke</th><th>faf</th><th>tue</th><th>mtrans</th><th>duplicados</th></tr></thead><tbody></tbody></table></div>"
      ]
     },
     "metadata": {
      "application/vnd.databricks.v1+output": {
       "addedWidgets": {},
       "aggData": [],
       "aggError": "",
       "aggOverflow": false,
       "aggSchema": [],
       "aggSeriesLimitReached": false,
       "aggType": "",
       "arguments": {},
       "columnCustomDisplayInfos": {},
       "data": [],
       "datasetInfos": [],
       "dbfsResultPath": null,
       "isJsonSchema": true,
       "metadata": {},
       "overflow": false,
       "plotOptions": {
        "customPlotOptions": {},
        "displayType": "table",
        "pivotAggregation": null,
        "pivotColumns": null,
        "xColumns": null,
        "yColumns": null
       },
       "removedWidgets": [],
       "schema": [
        {
         "metadata": "{}",
         "name": "scc",
         "type": "\"string\""
        },
        {
         "metadata": "{}",
         "name": "smoke",
         "type": "\"string\""
        },
        {
         "metadata": "{}",
         "name": "faf",
         "type": "\"double\""
        },
        {
         "metadata": "{}",
         "name": "tue",
         "type": "\"double\""
        },
        {
         "metadata": "{}",
         "name": "mtrans",
         "type": "\"string\""
        },
        {
         "metadata": "{}",
         "name": "duplicados",
         "type": "\"long\""
        }
       ],
       "type": "table"
      }
     },
     "output_type": "display_data"
    }
   ],
   "source": [
    "%sql\n",
    "-- DimEstiloVida\n",
    "SELECT scc, smoke, faf, tue, mtrans, COUNT(*) AS duplicados\n",
    "FROM dw_obesidade.DimEstiloVida\n",
    "GROUP BY scc, smoke, faf, tue, mtrans\n",
    "HAVING COUNT(*) > 1;"
   ]
  },
  {
   "cell_type": "code",
   "execution_count": 0,
   "metadata": {
    "application/vnd.databricks.v1+cell": {
     "cellMetadata": {
      "byteLimit": 2048000,
      "implicitDf": true,
      "rowLimit": 10000
     },
     "inputWidgets": {},
     "nuid": "3e896342-2dae-4539-9187-a78eed71e878",
     "showTitle": false,
     "tableResultSettingsMap": {},
     "title": ""
    }
   },
   "outputs": [
    {
     "output_type": "display_data",
     "data": {
      "text/html": [
       "<style scoped>\n",
       "  .table-result-container {\n",
       "    max-height: 300px;\n",
       "    overflow: auto;\n",
       "  }\n",
       "  table, th, td {\n",
       "    border: 1px solid black;\n",
       "    border-collapse: collapse;\n",
       "  }\n",
       "  th, td {\n",
       "    padding: 5px;\n",
       "  }\n",
       "  th {\n",
       "    text-align: left;\n",
       "  }\n",
       "</style><div class='table-result-container'><table class='table-result'><thead style='background-color: white'><tr><th>favc</th><th>fcvc</th><th>ncp</th><th>caec</th><th>calc</th><th>ch2o</th><th>duplicados</th></tr></thead><tbody></tbody></table></div>"
      ]
     },
     "metadata": {
      "application/vnd.databricks.v1+output": {
       "addedWidgets": {},
       "aggData": [],
       "aggError": "",
       "aggOverflow": false,
       "aggSchema": [],
       "aggSeriesLimitReached": false,
       "aggType": "",
       "arguments": {},
       "columnCustomDisplayInfos": {},
       "data": [],
       "datasetInfos": [],
       "dbfsResultPath": null,
       "isJsonSchema": true,
       "metadata": {},
       "overflow": false,
       "plotOptions": {
        "customPlotOptions": {},
        "displayType": "table",
        "pivotAggregation": null,
        "pivotColumns": null,
        "xColumns": null,
        "yColumns": null
       },
       "removedWidgets": [],
       "schema": [
        {
         "metadata": "{}",
         "name": "favc",
         "type": "\"string\""
        },
        {
         "metadata": "{}",
         "name": "fcvc",
         "type": "\"double\""
        },
        {
         "metadata": "{}",
         "name": "ncp",
         "type": "\"double\""
        },
        {
         "metadata": "{}",
         "name": "caec",
         "type": "\"string\""
        },
        {
         "metadata": "{}",
         "name": "calc",
         "type": "\"string\""
        },
        {
         "metadata": "{}",
         "name": "ch2o",
         "type": "\"double\""
        },
        {
         "metadata": "{}",
         "name": "duplicados",
         "type": "\"long\""
        }
       ],
       "type": "table"
      }
     },
     "output_type": "display_data"
    }
   ],
   "source": [
    "%sql\n",
    "-- DimHabitosAlimentares\n",
    "SELECT favc, fcvc, ncp, caec, calc, ch2o, COUNT(*) AS duplicados\n",
    "FROM dw_obesidade.DimHabitosAlimentares\n",
    "GROUP BY favc, fcvc, ncp, caec, calc, ch2o\n",
    "HAVING COUNT(*) > 1;"
   ]
  },
  {
   "cell_type": "code",
   "execution_count": 0,
   "metadata": {
    "application/vnd.databricks.v1+cell": {
     "cellMetadata": {
      "byteLimit": 2048000,
      "implicitDf": true,
      "rowLimit": 10000
     },
     "inputWidgets": {},
     "nuid": "ac92a09e-6f97-4b90-8cd0-d042904bc79a",
     "showTitle": false,
     "tableResultSettingsMap": {},
     "title": ""
    }
   },
   "outputs": [
    {
     "output_type": "display_data",
     "data": {
      "text/html": [
       "<style scoped>\n",
       "  .table-result-container {\n",
       "    max-height: 300px;\n",
       "    overflow: auto;\n",
       "  }\n",
       "  table, th, td {\n",
       "    border: 1px solid black;\n",
       "    border-collapse: collapse;\n",
       "  }\n",
       "  th, td {\n",
       "    padding: 5px;\n",
       "  }\n",
       "  th {\n",
       "    text-align: left;\n",
       "  }\n",
       "</style><div class='table-result-container'><table class='table-result'><thead style='background-color: white'><tr><th>nome</th><th>duplicados</th></tr></thead><tbody></tbody></table></div>"
      ]
     },
     "metadata": {
      "application/vnd.databricks.v1+output": {
       "addedWidgets": {},
       "aggData": [],
       "aggError": "",
       "aggOverflow": false,
       "aggSchema": [],
       "aggSeriesLimitReached": false,
       "aggType": "",
       "arguments": {},
       "columnCustomDisplayInfos": {},
       "data": [],
       "datasetInfos": [],
       "dbfsResultPath": null,
       "isJsonSchema": true,
       "metadata": {},
       "overflow": false,
       "plotOptions": {
        "customPlotOptions": {},
        "displayType": "table",
        "pivotAggregation": null,
        "pivotColumns": null,
        "xColumns": null,
        "yColumns": null
       },
       "removedWidgets": [],
       "schema": [
        {
         "metadata": "{}",
         "name": "nome",
         "type": "\"string\""
        },
        {
         "metadata": "{}",
         "name": "duplicados",
         "type": "\"long\""
        }
       ],
       "type": "table"
      }
     },
     "output_type": "display_data"
    }
   ],
   "source": [
    "%sql\n",
    "-- DimDiagnostico\n",
    "SELECT nome, COUNT(*) AS duplicados\n",
    "FROM dw_obesidade.DimDiagnostico\n",
    "GROUP BY nome\n",
    "HAVING COUNT(*) > 1;"
   ]
  },
  {
   "cell_type": "code",
   "execution_count": 0,
   "metadata": {
    "application/vnd.databricks.v1+cell": {
     "cellMetadata": {
      "byteLimit": 2048000,
      "implicitDf": true,
      "rowLimit": 10000
     },
     "inputWidgets": {},
     "nuid": "413c2d5a-0fcf-4f91-911c-30f95c78223f",
     "showTitle": false,
     "tableResultSettingsMap": {},
     "title": ""
    }
   },
   "outputs": [
    {
     "output_type": "display_data",
     "data": {
      "text/html": [
       "<style scoped>\n",
       "  .table-result-container {\n",
       "    max-height: 300px;\n",
       "    overflow: auto;\n",
       "  }\n",
       "  table, th, td {\n",
       "    border: 1px solid black;\n",
       "    border-collapse: collapse;\n",
       "  }\n",
       "  th, td {\n",
       "    padding: 5px;\n",
       "  }\n",
       "  th {\n",
       "    text-align: left;\n",
       "  }\n",
       "</style><div class='table-result-container'><table class='table-result'><thead style='background-color: white'><tr><th>valor</th><th>duplicados</th></tr></thead><tbody></tbody></table></div>"
      ]
     },
     "metadata": {
      "application/vnd.databricks.v1+output": {
       "addedWidgets": {},
       "aggData": [],
       "aggError": "",
       "aggOverflow": false,
       "aggSchema": [],
       "aggSeriesLimitReached": false,
       "aggType": "",
       "arguments": {},
       "columnCustomDisplayInfos": {},
       "data": [],
       "datasetInfos": [],
       "dbfsResultPath": null,
       "isJsonSchema": true,
       "metadata": {},
       "overflow": false,
       "plotOptions": {
        "customPlotOptions": {},
        "displayType": "table",
        "pivotAggregation": null,
        "pivotColumns": null,
        "xColumns": null,
        "yColumns": null
       },
       "removedWidgets": [],
       "schema": [
        {
         "metadata": "{}",
         "name": "valor",
         "type": "\"string\""
        },
        {
         "metadata": "{}",
         "name": "duplicados",
         "type": "\"long\""
        }
       ],
       "type": "table"
      }
     },
     "output_type": "display_data"
    }
   ],
   "source": [
    "%sql\n",
    "-- DimHistoricoFamiliar\n",
    "SELECT valor, COUNT(*) AS duplicados\n",
    "FROM dw_obesidade.DimHistoricoFamiliar\n",
    "GROUP BY valor\n",
    "HAVING COUNT(*) > 1;"
   ]
  },
  {
   "cell_type": "markdown",
   "metadata": {
    "application/vnd.databricks.v1+cell": {
     "cellMetadata": {
      "byteLimit": 2048000,
      "rowLimit": 10000
     },
     "inputWidgets": {},
     "nuid": "2553fc3a-28d5-4be3-8869-660d0de7ea6c",
     "showTitle": false,
     "tableResultSettingsMap": {},
     "title": ""
    }
   },
   "source": [
    "A ausência de resultados nas consultas acima (tanto para a etapa 1 quanto para 2) confirma que a estrutura do modelo está conforme o esperado. Todos os identificadores presentes na tabela fato estão devidamente referenciados nas respectivas dimensões, e não foram encontradas duplicações de registros com os mesmos atributos descritivos (desconsiderando os identificadores artificiais)."
   ]
  },
  {
   "cell_type": "markdown",
   "metadata": {
    "application/vnd.databricks.v1+cell": {
     "cellMetadata": {
      "byteLimit": 2048000,
      "rowLimit": 10000
     },
     "inputWidgets": {},
     "nuid": "497473a2-8e55-4597-993e-5c6b0d82b5a5",
     "showTitle": false,
     "tableResultSettingsMap": {},
     "title": ""
    }
   },
   "source": [
    "**Conclusão**\n",
    "\n",
    "Com base nas verificações realizadas, foi possível confirmar que o modelo de dados implementado está estruturalmente consistente com a modelagem proposta. Todas as chaves estrangeiras presentes na tabela fato estão devidamente referenciadas nas tabelas dimensionais, e não foram encontradas duplicações de registros com os mesmos atributos descritivos.\n",
    "\n",
    "Embora não tenham sido aplicadas constraints físicas devido às limitações da versão gratuita do Databricks, as validações executadas asseguram que a integridade referencial foi mantida logicamente. O modelo encontra-se, portanto, em conformidade com os princípios de um Data Warehouse relacional bem estruturado, pronto para ser explorado em análises estatísticas e cruzadas."
   ]
  },
  {
   "cell_type": "markdown",
   "metadata": {
    "application/vnd.databricks.v1+cell": {
     "cellMetadata": {
      "byteLimit": 2048000,
      "rowLimit": 10000
     },
     "inputWidgets": {},
     "nuid": "a3fe6c28-62f0-4033-8d2b-59cf1bbae94f",
     "showTitle": false,
     "tableResultSettingsMap": {},
     "title": ""
    }
   },
   "source": [
    "### Análise univariada\n",
    "\n",
    "Para compreender melhor o comportamento dos dados no conjunto analisado, iniciaremos com uma análise univariada, que consiste na observação da distribuição dos valores de cada atributo de forma isolada.\n",
    "\n",
    "Esse tipo de análise nos permite identificar:\n",
    "- Se os dados estão balanceados (ex: distribuição entre os diferentes diagnósticos)\n",
    "- Se há indícios de viés (ex: predominância de um gênero ou faixa etária)\n",
    "- Se existem padrões que impactam decisões futuras (ex: predominância de transporte passivo)\n",
    "\n",
    "As análises a seguir utilizam a tabela fato (`FatoObesidade`) unida às respectivas dimensões, com o objetivo de obter a **frequência absoluta** de ocorrência de cada categoria ou faixa presente nos dados."
   ]
  },
  {
   "cell_type": "code",
   "execution_count": 0,
   "metadata": {
    "application/vnd.databricks.v1+cell": {
     "cellMetadata": {
      "byteLimit": 2048000,
      "implicitDf": true,
      "rowLimit": 10000
     },
     "inputWidgets": {},
     "nuid": "52bb2f50-927d-4888-9e6f-ac6c86a82f81",
     "showTitle": false,
     "tableResultSettingsMap": {},
     "title": ""
    }
   },
   "outputs": [
    {
     "output_type": "display_data",
     "data": {
      "text/html": [
       "<style scoped>\n",
       "  .table-result-container {\n",
       "    max-height: 300px;\n",
       "    overflow: auto;\n",
       "  }\n",
       "  table, th, td {\n",
       "    border: 1px solid black;\n",
       "    border-collapse: collapse;\n",
       "  }\n",
       "  th, td {\n",
       "    padding: 5px;\n",
       "  }\n",
       "  th {\n",
       "    text-align: left;\n",
       "  }\n",
       "</style><div class='table-result-container'><table class='table-result'><thead style='background-color: white'><tr><th>diagnostico</th><th>quantidade</th></tr></thead><tbody><tr><td>Obesity_Type_I</td><td>351</td></tr><tr><td>Obesity_Type_III</td><td>324</td></tr><tr><td>Obesity_Type_II</td><td>297</td></tr><tr><td>Overweight_Level_I</td><td>290</td></tr><tr><td>Overweight_Level_II</td><td>290</td></tr><tr><td>Normal_Weight</td><td>287</td></tr><tr><td>Insufficient_Weight</td><td>272</td></tr></tbody></table></div>"
      ]
     },
     "metadata": {
      "application/vnd.databricks.v1+output": {
       "addedWidgets": {},
       "aggData": [],
       "aggError": "",
       "aggOverflow": false,
       "aggSchema": [],
       "aggSeriesLimitReached": false,
       "aggType": "",
       "arguments": {},
       "columnCustomDisplayInfos": {},
       "data": [
        [
         "Obesity_Type_I",
         351
        ],
        [
         "Obesity_Type_III",
         324
        ],
        [
         "Obesity_Type_II",
         297
        ],
        [
         "Overweight_Level_I",
         290
        ],
        [
         "Overweight_Level_II",
         290
        ],
        [
         "Normal_Weight",
         287
        ],
        [
         "Insufficient_Weight",
         272
        ]
       ],
       "datasetInfos": [],
       "dbfsResultPath": null,
       "isJsonSchema": true,
       "metadata": {},
       "overflow": false,
       "plotOptions": {
        "customPlotOptions": {},
        "displayType": "table",
        "pivotAggregation": null,
        "pivotColumns": null,
        "xColumns": null,
        "yColumns": null
       },
       "removedWidgets": [],
       "schema": [
        {
         "metadata": "{}",
         "name": "diagnostico",
         "type": "\"string\""
        },
        {
         "metadata": "{}",
         "name": "quantidade",
         "type": "\"long\""
        }
       ],
       "type": "table"
      }
     },
     "output_type": "display_data"
    },
    {
     "output_type": "display_data",
     "data": {
      "text/plain": [
       "Databricks visualization. Run in Databricks to view."
      ]
     },
     "metadata": {
      "application/vnd.databricks.v1.subcommand+json": {
       "baseErrorDetails": null,
       "bindings": {},
       "collapsed": false,
       "command": "%sql WITH q AS (SELECT d.nome AS diagnostico, COUNT(*) AS quantidade\nFROM dw_obesidade.FatoObesidade f\nJOIN dw_obesidade.DimDiagnostico d ON f.id_diagnostico = d.id_diagnostico\nGROUP BY d.nome\nORDER BY quantidade DESC) SELECT `diagnostico`,SUM(`quantidade`) `column_2a90fb6d912` FROM q GROUP BY `diagnostico`",
       "commandTitle": "Visualization 1",
       "commandType": "auto",
       "commandVersion": 0,
       "commentThread": [],
       "commentsVisible": false,
       "contentSha256Hex": null,
       "customPlotOptions": {
        "redashChart": [
         {
          "key": "type",
          "value": "CHART"
         },
         {
          "key": "options",
          "value": {
           "alignYAxesAtZero": true,
           "coefficient": 1,
           "columnConfigurationMap": {
            "x": {
             "column": "diagnostico",
             "id": "column_2a90fb6d911"
            },
            "y": [
             {
              "column": "quantidade",
              "id": "column_2a90fb6d912",
              "transform": "SUM"
             }
            ]
           },
           "dateTimeFormat": "DD/MM/YYYY HH:mm",
           "direction": {
            "type": "counterclockwise"
           },
           "error_y": {
            "type": "data",
            "visible": true
           },
           "globalSeriesType": "column",
           "isAggregationOn": true,
           "legend": {
            "traceorder": "normal"
           },
           "missingValuesAsZero": true,
           "numberFormat": "0,0.[00000]",
           "percentFormat": "0[.]00%",
           "series": {
            "error_y": {
             "type": "data",
             "visible": true
            },
            "stacking": null
           },
           "seriesOptions": {
            "column_2a90fb6d912": {
             "color": null,
             "name": "quantidade",
             "yAxis": 0
            }
           },
           "showDataLabels": false,
           "sizemode": "diameter",
           "sortX": true,
           "sortY": true,
           "swappedAxes": true,
           "textFormat": "",
           "useAggregationsUi": true,
           "valuesOptions": {},
           "version": 2,
           "xAxis": {
            "labels": {
             "enabled": true
            },
            "type": "-"
           },
           "yAxis": [
            {
             "type": "-"
            },
            {
             "opposite": true,
             "type": "-"
            }
           ]
          }
         }
        ]
       },
       "datasetPreviewNameToCmdIdMap": {},
       "diffDeletes": [],
       "diffInserts": [],
       "displayType": "redashChart",
       "error": null,
       "errorDetails": null,
       "errorSummary": null,
       "errorTraceType": null,
       "finishTime": 0,
       "globalVars": {},
       "guid": "",
       "height": "auto",
       "hideCommandCode": false,
       "hideCommandResult": false,
       "iPythonMetadata": null,
       "inputWidgets": {},
       "isLockedInExamMode": false,
       "latestUser": "a user",
       "latestUserId": null,
       "listResultMetadata": null,
       "metadata": {
        "byteLimit": 2048000,
        "implicitDf": true,
        "rowLimit": 10000
       },
       "nuid": "42147059-32f2-472e-b31e-8057ab010b6b",
       "origId": 0,
       "parentHierarchy": [],
       "pivotAggregation": null,
       "pivotColumns": null,
       "position": 20.5,
       "resultDbfsErrorMessage": null,
       "resultDbfsStatus": "INLINED_IN_TREE",
       "results": null,
       "showCommandTitle": false,
       "startTime": 0,
       "state": "finished",
       "streamStates": {},
       "subcommandOptions": {
        "queryPlan": {
         "groups": [
          {
           "column": "diagnostico",
           "type": "column"
          }
         ],
         "selects": [
          {
           "column": "diagnostico",
           "type": "column"
          },
          {
           "alias": "column_2a90fb6d912",
           "args": [
            {
             "column": "quantidade",
             "type": "column"
            }
           ],
           "function": "SUM",
           "type": "function"
          }
         ]
        }
       },
       "submitTime": 0,
       "subtype": "tableResultSubCmd.visualization",
       "tableResultIndex": 0,
       "tableResultSettingsMap": {},
       "useConsistentColors": false,
       "version": "CommandV1",
       "width": "auto",
       "workflows": [],
       "xColumns": null,
       "yColumns": null
      }
     },
     "output_type": "display_data"
    }
   ],
   "source": [
    "%sql\n",
    "-- Distribuição de Diagnóstico (rótulo de saída)\n",
    "SELECT d.nome AS diagnostico, COUNT(*) AS quantidade\n",
    "FROM dw_obesidade.FatoObesidade f\n",
    "JOIN dw_obesidade.DimDiagnostico d ON f.id_diagnostico = d.id_diagnostico\n",
    "GROUP BY d.nome\n",
    "ORDER BY quantidade DESC;"
   ]
  },
  {
   "cell_type": "markdown",
   "metadata": {
    "application/vnd.databricks.v1+cell": {
     "cellMetadata": {
      "byteLimit": 2048000,
      "rowLimit": 10000
     },
     "inputWidgets": {},
     "nuid": "962f54ee-e4b7-4651-b5cf-a159d3a051d0",
     "showTitle": false,
     "tableResultSettingsMap": {},
     "title": ""
    }
   },
   "source": [
    "Ao analisar a distribuição do atributo diagnóstico em nosso dataset, observamos uma maior prevalência de indivíduos com obesidade tipo I (\"obesity type I\"), seguida por obesidade tipo III (\"obesity type III\"). No entanto, a diferença entre os grupos não é acentuada: a menor classe (peso insuficiente - \"insufficient weight\") possui 272 registros e a maior, 351 — uma variação inferior a 4% do total.\n",
    "\n",
    "O atributo diagnóstico representa a variável alvo (target) em problemas de classificação com machine learning. Essa distribuição relativamente equilibrada entre as classes é um aspecto positivo, pois indica boa variabilidade de rótulos, o que é desejável em tarefas de aprendizado supervisionado. Modelos de classificação tendem a apresentar melhor desempenho quando não há dominância de uma única classe, reduzindo o risco de viés no treinamento e aumentando a capacidade de generalização."
   ]
  },
  {
   "cell_type": "code",
   "execution_count": 0,
   "metadata": {
    "application/vnd.databricks.v1+cell": {
     "cellMetadata": {
      "byteLimit": 2048000,
      "implicitDf": true,
      "rowLimit": 10000
     },
     "inputWidgets": {},
     "nuid": "69474bf9-e650-4bd3-8f1f-eae1d72b87df",
     "showTitle": false,
     "tableResultSettingsMap": {},
     "title": ""
    }
   },
   "outputs": [
    {
     "output_type": "display_data",
     "data": {
      "text/html": [
       "<style scoped>\n",
       "  .table-result-container {\n",
       "    max-height: 300px;\n",
       "    overflow: auto;\n",
       "  }\n",
       "  table, th, td {\n",
       "    border: 1px solid black;\n",
       "    border-collapse: collapse;\n",
       "  }\n",
       "  th, td {\n",
       "    padding: 5px;\n",
       "  }\n",
       "  th {\n",
       "    text-align: left;\n",
       "  }\n",
       "</style><div class='table-result-container'><table class='table-result'><thead style='background-color: white'><tr><th>genero</th><th>quantidade</th></tr></thead><tbody><tr><td>Female</td><td>1043</td></tr><tr><td>Male</td><td>1068</td></tr></tbody></table></div>"
      ]
     },
     "metadata": {
      "application/vnd.databricks.v1+output": {
       "addedWidgets": {},
       "aggData": [],
       "aggError": "",
       "aggOverflow": false,
       "aggSchema": [],
       "aggSeriesLimitReached": false,
       "aggType": "",
       "arguments": {},
       "columnCustomDisplayInfos": {},
       "data": [
        [
         "Female",
         1043
        ],
        [
         "Male",
         1068
        ]
       ],
       "datasetInfos": [],
       "dbfsResultPath": null,
       "isJsonSchema": true,
       "metadata": {},
       "overflow": false,
       "plotOptions": {
        "customPlotOptions": {},
        "displayType": "table",
        "pivotAggregation": null,
        "pivotColumns": null,
        "xColumns": null,
        "yColumns": null
       },
       "removedWidgets": [],
       "schema": [
        {
         "metadata": "{}",
         "name": "genero",
         "type": "\"string\""
        },
        {
         "metadata": "{}",
         "name": "quantidade",
         "type": "\"long\""
        }
       ],
       "type": "table"
      }
     },
     "output_type": "display_data"
    },
    {
     "output_type": "display_data",
     "data": {
      "text/plain": [
       "Databricks visualization. Run in Databricks to view."
      ]
     },
     "metadata": {
      "application/vnd.databricks.v1.subcommand+json": {
       "baseErrorDetails": null,
       "bindings": {},
       "collapsed": false,
       "command": "%sql WITH q AS (SELECT p.gender AS genero, COUNT(*) AS quantidade\nFROM dw_obesidade.FatoObesidade f\nJOIN dw_obesidade.DimPessoa p ON f.id_pessoa = p.id_pessoa\nGROUP BY p.gender) SELECT `genero`,SUM(`quantidade`) `column_2a90fb6d942` FROM q GROUP BY `genero`",
       "commandTitle": "Visualization 1",
       "commandType": "auto",
       "commandVersion": 0,
       "commentThread": [],
       "commentsVisible": false,
       "contentSha256Hex": null,
       "customPlotOptions": {
        "redashChart": [
         {
          "key": "type",
          "value": "CHART"
         },
         {
          "key": "options",
          "value": {
           "alignYAxesAtZero": true,
           "coefficient": 1,
           "columnConfigurationMap": {
            "x": {
             "column": "genero",
             "id": "column_2a90fb6d941"
            },
            "y": [
             {
              "column": "quantidade",
              "id": "column_2a90fb6d942",
              "transform": "SUM"
             }
            ]
           },
           "dateTimeFormat": "DD/MM/YYYY HH:mm",
           "direction": {
            "type": "counterclockwise"
           },
           "error_y": {
            "type": "data",
            "visible": true
           },
           "globalSeriesType": "pie",
           "isAggregationOn": true,
           "legend": {
            "traceorder": "normal"
           },
           "missingValuesAsZero": true,
           "numberFormat": "0,0.[00000]",
           "percentFormat": "0[.]00%",
           "series": {
            "error_y": {
             "type": "data",
             "visible": true
            },
            "stacking": null
           },
           "seriesOptions": {
            "column_2a90fb6d942": {
             "name": "quantidade",
             "type": "pie",
             "yAxis": 0
            }
           },
           "showDataLabels": true,
           "sizemode": "diameter",
           "sortX": true,
           "sortY": true,
           "swappedAxes": false,
           "textFormat": "",
           "useAggregationsUi": true,
           "valuesOptions": {
            "Female": {
             "color": "#B554FF"
            },
            "Male": {
             "color": "#002FB4"
            }
           },
           "version": 2,
           "xAxis": {
            "labels": {
             "enabled": true
            },
            "type": "-"
           },
           "yAxis": [
            {
             "type": "-"
            },
            {
             "opposite": true,
             "type": "-"
            }
           ]
          }
         }
        ]
       },
       "datasetPreviewNameToCmdIdMap": {},
       "diffDeletes": [],
       "diffInserts": [],
       "displayType": "redashChart",
       "error": null,
       "errorDetails": null,
       "errorSummary": null,
       "errorTraceType": null,
       "finishTime": 0,
       "globalVars": {},
       "guid": "",
       "height": "auto",
       "hideCommandCode": false,
       "hideCommandResult": false,
       "iPythonMetadata": null,
       "inputWidgets": {},
       "isLockedInExamMode": false,
       "latestUser": "a user",
       "latestUserId": null,
       "listResultMetadata": null,
       "metadata": {
        "byteLimit": 2048000,
        "implicitDf": true,
        "rowLimit": 10000
       },
       "nuid": "cb625930-8f36-400d-a68b-a84a48421c33",
       "origId": 0,
       "parentHierarchy": [],
       "pivotAggregation": null,
       "pivotColumns": null,
       "position": 21.5,
       "resultDbfsErrorMessage": null,
       "resultDbfsStatus": "INLINED_IN_TREE",
       "results": null,
       "showCommandTitle": false,
       "startTime": 0,
       "state": "finished",
       "streamStates": {},
       "subcommandOptions": {
        "queryPlan": {
         "groups": [
          {
           "column": "genero",
           "type": "column"
          }
         ],
         "selects": [
          {
           "column": "genero",
           "type": "column"
          },
          {
           "alias": "column_2a90fb6d942",
           "args": [
            {
             "column": "quantidade",
             "type": "column"
            }
           ],
           "function": "SUM",
           "type": "function"
          }
         ]
        }
       },
       "submitTime": 0,
       "subtype": "tableResultSubCmd.visualization",
       "tableResultIndex": 0,
       "tableResultSettingsMap": {},
       "useConsistentColors": false,
       "version": "CommandV1",
       "width": "auto",
       "workflows": [],
       "xColumns": null,
       "yColumns": null
      }
     },
     "output_type": "display_data"
    }
   ],
   "source": [
    "%sql\n",
    "-- Distribuição por Gênero\n",
    "SELECT p.gender AS genero, COUNT(*) AS quantidade\n",
    "FROM dw_obesidade.FatoObesidade f\n",
    "JOIN dw_obesidade.DimPessoa p ON f.id_pessoa = p.id_pessoa\n",
    "GROUP BY p.gender;"
   ]
  },
  {
   "cell_type": "markdown",
   "metadata": {
    "application/vnd.databricks.v1+cell": {
     "cellMetadata": {
      "byteLimit": 2048000,
      "rowLimit": 10000
     },
     "inputWidgets": {},
     "nuid": "c33333cf-9abc-4678-a580-4e9ad7a48098",
     "showTitle": false,
     "tableResultSettingsMap": {},
     "title": ""
    }
   },
   "source": [
    "A distribuição de gênero no conjunto de dados é bastante equilibrada, com aproximadamente 50,6% de registros masculinos (\"male\") e 49,4% femininos (\"female\").\n",
    "\n",
    "Essa equidade na representação dos gêneros é benéfica tanto para a interpretação analítica quanto para o desenvolvimento de modelos preditivos, pois reduz o risco de viés associado ao gênero.\n",
    "\n",
    "Em contextos de machine learning, esse equilíbrio permite que o algoritmo aprenda padrões relacionados a ambos os grupos de forma justa e representativa, favorecendo a generalização e a imparcialidade das previsões."
   ]
  },
  {
   "cell_type": "code",
   "execution_count": 0,
   "metadata": {
    "application/vnd.databricks.v1+cell": {
     "cellMetadata": {
      "byteLimit": 2048000,
      "implicitDf": true,
      "rowLimit": 10000
     },
     "inputWidgets": {},
     "nuid": "279bfa8f-3996-471f-bb4e-140631af1d14",
     "showTitle": false,
     "tableResultSettingsMap": {},
     "title": ""
    }
   },
   "outputs": [
    {
     "output_type": "display_data",
     "data": {
      "text/html": [
       "<style scoped>\n",
       "  .table-result-container {\n",
       "    max-height: 300px;\n",
       "    overflow: auto;\n",
       "  }\n",
       "  table, th, td {\n",
       "    border: 1px solid black;\n",
       "    border-collapse: collapse;\n",
       "  }\n",
       "  th, td {\n",
       "    padding: 5px;\n",
       "  }\n",
       "  th {\n",
       "    text-align: left;\n",
       "  }\n",
       "</style><div class='table-result-container'><table class='table-result'><thead style='background-color: white'><tr><th>faixa_etaria</th><th>quantidade</th></tr></thead><tbody><tr><td>14-20</td><td>585</td></tr><tr><td>21-30</td><td>1081</td></tr><tr><td>31-40</td><td>242</td></tr><tr><td>41-50</td><td>31</td></tr><tr><td>51-61</td><td>172</td></tr></tbody></table></div>"
      ]
     },
     "metadata": {
      "application/vnd.databricks.v1+output": {
       "addedWidgets": {},
       "aggData": [],
       "aggError": "",
       "aggOverflow": false,
       "aggSchema": [],
       "aggSeriesLimitReached": false,
       "aggType": "",
       "arguments": {},
       "columnCustomDisplayInfos": {},
       "data": [
        [
         "14-20",
         585
        ],
        [
         "21-30",
         1081
        ],
        [
         "31-40",
         242
        ],
        [
         "41-50",
         31
        ],
        [
         "51-61",
         172
        ]
       ],
       "datasetInfos": [],
       "dbfsResultPath": null,
       "isJsonSchema": true,
       "metadata": {},
       "overflow": false,
       "plotOptions": {
        "customPlotOptions": {},
        "displayType": "table",
        "pivotAggregation": null,
        "pivotColumns": null,
        "xColumns": null,
        "yColumns": null
       },
       "removedWidgets": [],
       "schema": [
        {
         "metadata": "{}",
         "name": "faixa_etaria",
         "type": "\"string\""
        },
        {
         "metadata": "{}",
         "name": "quantidade",
         "type": "\"long\""
        }
       ],
       "type": "table"
      }
     },
     "output_type": "display_data"
    },
    {
     "output_type": "display_data",
     "data": {
      "text/plain": [
       "Databricks visualization. Run in Databricks to view."
      ]
     },
     "metadata": {
      "application/vnd.databricks.v1.subcommand+json": {
       "baseErrorDetails": null,
       "bindings": {},
       "collapsed": false,
       "command": "%sql WITH q AS (SELECT\n  CASE\n    WHEN p.age BETWEEN 14 AND 20 THEN '14-20'\n    WHEN p.age BETWEEN 21 AND 30 THEN '21-30'\n    WHEN p.age BETWEEN 31 AND 40 THEN '31-40'\n    WHEN p.age BETWEEN 41 AND 50 THEN '41-50'\n    ELSE '51-61'\n  END AS faixa_etaria,\n  COUNT(*) AS quantidade\nFROM dw_obesidade.FatoObesidade f\nJOIN dw_obesidade.DimPessoa p ON f.id_pessoa = p.id_pessoa\nGROUP BY faixa_etaria\nORDER BY faixa_etaria) SELECT `faixa_etaria`,SUM(`quantidade`) `column_2a90fb6d921` FROM q GROUP BY `faixa_etaria`",
       "commandTitle": "Visualization 1",
       "commandType": "auto",
       "commandVersion": 0,
       "commentThread": [],
       "commentsVisible": false,
       "contentSha256Hex": null,
       "customPlotOptions": {
        "redashChart": [
         {
          "key": "type",
          "value": "CHART"
         },
         {
          "key": "options",
          "value": {
           "alignYAxesAtZero": true,
           "coefficient": 1,
           "columnConfigurationMap": {
            "x": {
             "column": "faixa_etaria",
             "id": "column_2a90fb6d920"
            },
            "y": [
             {
              "column": "quantidade",
              "id": "column_2a90fb6d921",
              "transform": "SUM"
             }
            ]
           },
           "dateTimeFormat": "DD/MM/YYYY HH:mm",
           "direction": {
            "type": "counterclockwise"
           },
           "error_y": {
            "type": "data",
            "visible": true
           },
           "globalSeriesType": "column",
           "isAggregationOn": true,
           "legend": {
            "traceorder": "normal"
           },
           "missingValuesAsZero": true,
           "numberFormat": "0,0.[00000]",
           "percentFormat": "0[.]00%",
           "series": {
            "error_y": {
             "type": "data",
             "visible": true
            },
            "stacking": null
           },
           "seriesOptions": {
            "column_2a90fb6d921": {
             "name": "quantidade",
             "type": "column",
             "yAxis": 0
            }
           },
           "showDataLabels": false,
           "sizemode": "diameter",
           "sortX": true,
           "sortY": true,
           "swappedAxes": false,
           "textFormat": "",
           "useAggregationsUi": true,
           "valuesOptions": {},
           "version": 2,
           "xAxis": {
            "labels": {
             "enabled": true
            },
            "type": "-"
           },
           "yAxis": [
            {
             "type": "-"
            },
            {
             "opposite": true,
             "type": "-"
            }
           ]
          }
         }
        ]
       },
       "datasetPreviewNameToCmdIdMap": {},
       "diffDeletes": [],
       "diffInserts": [],
       "displayType": "redashChart",
       "error": null,
       "errorDetails": null,
       "errorSummary": null,
       "errorTraceType": null,
       "finishTime": 0,
       "globalVars": {},
       "guid": "",
       "height": "auto",
       "hideCommandCode": false,
       "hideCommandResult": false,
       "iPythonMetadata": null,
       "inputWidgets": {},
       "isLockedInExamMode": false,
       "latestUser": "a user",
       "latestUserId": null,
       "listResultMetadata": null,
       "metadata": {
        "byteLimit": 2048000,
        "implicitDf": true,
        "rowLimit": 10000
       },
       "nuid": "434360ad-4334-4e7b-999c-49269de61202",
       "origId": 0,
       "parentHierarchy": [],
       "pivotAggregation": null,
       "pivotColumns": null,
       "position": 22.5,
       "resultDbfsErrorMessage": null,
       "resultDbfsStatus": "INLINED_IN_TREE",
       "results": null,
       "showCommandTitle": false,
       "startTime": 0,
       "state": "finished",
       "streamStates": {},
       "subcommandOptions": {
        "queryPlan": {
         "groups": [
          {
           "column": "faixa_etaria",
           "type": "column"
          }
         ],
         "selects": [
          {
           "column": "faixa_etaria",
           "type": "column"
          },
          {
           "alias": "column_2a90fb6d921",
           "args": [
            {
             "column": "quantidade",
             "type": "column"
            }
           ],
           "function": "SUM",
           "type": "function"
          }
         ]
        }
       },
       "submitTime": 0,
       "subtype": "tableResultSubCmd.visualization",
       "tableResultIndex": 0,
       "tableResultSettingsMap": {},
       "useConsistentColors": false,
       "version": "CommandV1",
       "width": "auto",
       "workflows": [],
       "xColumns": null,
       "yColumns": null
      }
     },
     "output_type": "display_data"
    }
   ],
   "source": [
    "%sql\n",
    "-- Faixa Etária: agrupamento por intervalo de idade (faixas de 10 em 10 anos)\n",
    "SELECT\n",
    "  CASE\n",
    "    WHEN p.age BETWEEN 14 AND 20 THEN '14-20'\n",
    "    WHEN p.age BETWEEN 21 AND 30 THEN '21-30'\n",
    "    WHEN p.age BETWEEN 31 AND 40 THEN '31-40'\n",
    "    WHEN p.age BETWEEN 41 AND 50 THEN '41-50'\n",
    "    ELSE '51-61'\n",
    "  END AS faixa_etaria,\n",
    "  COUNT(*) AS quantidade\n",
    "FROM dw_obesidade.FatoObesidade f\n",
    "JOIN dw_obesidade.DimPessoa p ON f.id_pessoa = p.id_pessoa\n",
    "GROUP BY faixa_etaria\n",
    "ORDER BY faixa_etaria;"
   ]
  },
  {
   "cell_type": "markdown",
   "metadata": {
    "application/vnd.databricks.v1+cell": {
     "cellMetadata": {},
     "inputWidgets": {},
     "nuid": "0d874edf-7af8-44da-a733-517f036f65aa",
     "showTitle": false,
     "tableResultSettingsMap": {},
     "title": ""
    }
   },
   "source": [
    "A distribuição por faixa etária revela uma forte concentração de registros entre indivíduos jovens. Cerca de 50% dos dados pertencem ao grupo de 21 a 30 anos, seguido pelo grupo de 14 a 20 anos, com 27,7%. Em contrapartida, faixas etárias mais avançadas (acima dos 40 anos) são significativamente menos representadas, com apenas 1,5% no grupo de 41 a 50 anos, e 8,1% no grupo de 51 a 61 anos.\n",
    "\n",
    "Essa assimetria pode impactar a representatividade das análises e modelos preditivos, especialmente no que diz respeito à generalização para outras faixas etárias. Em contextos de machine learning, esse desbalanceamento pode dificultar o aprendizado de padrões associados a grupos mais velhos, levando a resultados enviesados ou pouco robustos fora da faixa etária predominante.\n",
    "\n",
    "Portanto, ao utilizar esse dataset para treinamentos supervisionados, é importante considerar essa limitação ou aplicar técnicas de balanceamento caso o foco da análise inclua populações mais velhas."
   ]
  },
  {
   "cell_type": "code",
   "execution_count": 0,
   "metadata": {
    "application/vnd.databricks.v1+cell": {
     "cellMetadata": {
      "byteLimit": 2048000,
      "implicitDf": true,
      "rowLimit": 10000
     },
     "inputWidgets": {},
     "nuid": "9019981f-80e0-49d9-b65c-7226d79e451c",
     "showTitle": false,
     "tableResultSettingsMap": {},
     "title": ""
    }
   },
   "outputs": [
    {
     "output_type": "display_data",
     "data": {
      "text/html": [
       "<style scoped>\n",
       "  .table-result-container {\n",
       "    max-height: 300px;\n",
       "    overflow: auto;\n",
       "  }\n",
       "  table, th, td {\n",
       "    border: 1px solid black;\n",
       "    border-collapse: collapse;\n",
       "  }\n",
       "  th, td {\n",
       "    padding: 5px;\n",
       "  }\n",
       "  th {\n",
       "    text-align: left;\n",
       "  }\n",
       "</style><div class='table-result-container'><table class='table-result'><thead style='background-color: white'><tr><th>transporte</th><th>quantidade</th></tr></thead><tbody><tr><td>Public_Transportation</td><td>1580</td></tr><tr><td>Automobile</td><td>457</td></tr><tr><td>Walking</td><td>56</td></tr><tr><td>Motorbike</td><td>11</td></tr><tr><td>Bike</td><td>7</td></tr></tbody></table></div>"
      ]
     },
     "metadata": {
      "application/vnd.databricks.v1+output": {
       "addedWidgets": {},
       "aggData": [],
       "aggError": "",
       "aggOverflow": false,
       "aggSchema": [],
       "aggSeriesLimitReached": false,
       "aggType": "",
       "arguments": {},
       "columnCustomDisplayInfos": {},
       "data": [
        [
         "Public_Transportation",
         1580
        ],
        [
         "Automobile",
         457
        ],
        [
         "Walking",
         56
        ],
        [
         "Motorbike",
         11
        ],
        [
         "Bike",
         7
        ]
       ],
       "datasetInfos": [],
       "dbfsResultPath": null,
       "isJsonSchema": true,
       "metadata": {},
       "overflow": false,
       "plotOptions": {
        "customPlotOptions": {},
        "displayType": "table",
        "pivotAggregation": null,
        "pivotColumns": null,
        "xColumns": null,
        "yColumns": null
       },
       "removedWidgets": [],
       "schema": [
        {
         "metadata": "{}",
         "name": "transporte",
         "type": "\"string\""
        },
        {
         "metadata": "{}",
         "name": "quantidade",
         "type": "\"long\""
        }
       ],
       "type": "table"
      }
     },
     "output_type": "display_data"
    },
    {
     "output_type": "display_data",
     "data": {
      "text/plain": [
       "Databricks visualization. Run in Databricks to view."
      ]
     },
     "metadata": {
      "application/vnd.databricks.v1.subcommand+json": {
       "baseErrorDetails": null,
       "bindings": {},
       "collapsed": false,
       "command": "%sql WITH q AS (SELECT e.mtrans AS transporte, COUNT(*) AS quantidade\nFROM dw_obesidade.FatoObesidade f\nJOIN dw_obesidade.DimEstiloVida e ON f.id_estilo = e.id_estilo\nGROUP BY e.mtrans\nORDER BY quantidade DESC) SELECT `transporte`,SUM(`quantidade`) `column_2a90fb6d932` FROM q GROUP BY `transporte`",
       "commandTitle": "Visualization 1",
       "commandType": "auto",
       "commandVersion": 0,
       "commentThread": [],
       "commentsVisible": false,
       "contentSha256Hex": null,
       "customPlotOptions": {
        "redashChart": [
         {
          "key": "type",
          "value": "CHART"
         },
         {
          "key": "options",
          "value": {
           "alignYAxesAtZero": true,
           "coefficient": 1,
           "columnConfigurationMap": {
            "x": {
             "column": "transporte",
             "id": "column_2a90fb6d931"
            },
            "y": [
             {
              "column": "quantidade",
              "id": "column_2a90fb6d932",
              "transform": "SUM"
             }
            ]
           },
           "dateTimeFormat": "DD/MM/YYYY HH:mm",
           "direction": {
            "type": "counterclockwise"
           },
           "error_y": {
            "type": "data",
            "visible": true
           },
           "globalSeriesType": "column",
           "legend": {
            "traceorder": "normal"
           },
           "missingValuesAsZero": true,
           "numberFormat": "0,0.[00000]",
           "percentFormat": "0[.]00%",
           "series": {
            "error_y": {
             "type": "data",
             "visible": true
            },
            "stacking": null
           },
           "seriesOptions": {
            "column_2a90fb6d932": {
             "name": "quantidade",
             "type": "column",
             "yAxis": 0
            }
           },
           "showDataLabels": false,
           "sizemode": "diameter",
           "sortX": true,
           "sortY": true,
           "swappedAxes": false,
           "textFormat": "",
           "useAggregationsUi": true,
           "valuesOptions": {},
           "version": 2,
           "xAxis": {
            "labels": {
             "enabled": true
            },
            "type": "-"
           },
           "yAxis": [
            {
             "type": "-"
            },
            {
             "opposite": true,
             "type": "-"
            }
           ]
          }
         }
        ]
       },
       "datasetPreviewNameToCmdIdMap": {},
       "diffDeletes": [],
       "diffInserts": [],
       "displayType": "redashChart",
       "error": null,
       "errorDetails": null,
       "errorSummary": null,
       "errorTraceType": null,
       "finishTime": 0,
       "globalVars": {},
       "guid": "",
       "height": "auto",
       "hideCommandCode": false,
       "hideCommandResult": false,
       "iPythonMetadata": null,
       "inputWidgets": {},
       "isLockedInExamMode": false,
       "latestUser": "a user",
       "latestUserId": null,
       "listResultMetadata": null,
       "metadata": {
        "byteLimit": 2048000,
        "implicitDf": true,
        "rowLimit": 10000
       },
       "nuid": "7609b676-0cd8-45dd-834b-17f367a7e03c",
       "origId": 0,
       "parentHierarchy": [],
       "pivotAggregation": null,
       "pivotColumns": null,
       "position": 23.5,
       "resultDbfsErrorMessage": null,
       "resultDbfsStatus": "INLINED_IN_TREE",
       "results": null,
       "showCommandTitle": false,
       "startTime": 0,
       "state": "finished",
       "streamStates": {},
       "subcommandOptions": {
        "queryPlan": {
         "groups": [
          {
           "column": "transporte",
           "type": "column"
          }
         ],
         "selects": [
          {
           "column": "transporte",
           "type": "column"
          },
          {
           "alias": "column_2a90fb6d932",
           "args": [
            {
             "column": "quantidade",
             "type": "column"
            }
           ],
           "function": "SUM",
           "type": "function"
          }
         ]
        }
       },
       "submitTime": 0,
       "subtype": "tableResultSubCmd.visualization",
       "tableResultIndex": 0,
       "tableResultSettingsMap": {},
       "useConsistentColors": false,
       "version": "CommandV1",
       "width": "auto",
       "workflows": [],
       "xColumns": null,
       "yColumns": null
      }
     },
     "output_type": "display_data"
    }
   ],
   "source": [
    "%sql\n",
    "-- Distribuição por método de transporte (sedentarismo vs mobilidade ativa)\n",
    "SELECT e.mtrans AS transporte, COUNT(*) AS quantidade\n",
    "FROM dw_obesidade.FatoObesidade f\n",
    "JOIN dw_obesidade.DimEstiloVida e ON f.id_estilo = e.id_estilo\n",
    "GROUP BY e.mtrans\n",
    "ORDER BY quantidade DESC;"
   ]
  },
  {
   "cell_type": "markdown",
   "metadata": {
    "application/vnd.databricks.v1+cell": {
     "cellMetadata": {},
     "inputWidgets": {},
     "nuid": "e08045fc-c8d7-41db-a44a-14d75c89d6f8",
     "showTitle": false,
     "tableResultSettingsMap": {},
     "title": ""
    }
   },
   "source": [
    "A variável método de transporte apresenta uma distribuição fortemente concentrada no uso de transporte público (\"public_transportation\"), responsável por aproximadamente 75% dos registros. Meios de transporte mais ativos, como bicicleta (\"bike\") e caminhada (\"walking\"), têm presença mínima na base de dados, o que indica baixa representatividade desses estilos de vida.\n",
    "\n",
    "Esse desequilíbrio pode impactar diretamente análises relacionadas a comportamento físico e saúde metabólica, pois limita a observação de padrões em indivíduos que adotam práticas de deslocamento mais ativas. Essa limitação deve ser levada em consideração ao interpretar resultados envolvendo atividade física ou sedentarismo."
   ]
  },
  {
   "cell_type": "markdown",
   "metadata": {
    "application/vnd.databricks.v1+cell": {
     "cellMetadata": {
      "byteLimit": 2048000,
      "rowLimit": 10000
     },
     "inputWidgets": {},
     "nuid": "f3bc1789-f3ef-4e77-bc71-6d01e06c38c4",
     "showTitle": false,
     "tableResultSettingsMap": {},
     "title": ""
    }
   },
   "source": [
    "**Conclusão**\n",
    "\n",
    "A análise univariada permitiu observar a distribuição dos principais atributos do dataset, oferecendo uma visão inicial valiosa sobre a estrutura dos dados. Foi possível constatar uma boa variabilidade na variável alvo (`diagnóstico`), bem como um equilíbrio satisfatório na distribuição por gênero, o que favorece tanto a interpretação analítica quanto a construção de modelos preditivos.\n",
    "\n",
    "No entanto, alguns atributos apresentaram desequilíbrios relevantes que merecem atenção. A distribuição por faixa etária revelou forte concentração de indivíduos entre 21 e 30 anos, com baixa representatividade de faixas etárias superiores. De forma semelhante, a variável referente ao método de transporte indicou predominância do uso de transporte público, com pouca presença de meios de locomoção ativos, como bicicleta e caminhada.\n",
    "\n",
    "Esses desequilíbrios podem afetar análises específicas e limitar a generalização de modelos em determinados contextos. Portanto, em aplicações onde variáveis como faixa etária ou meio de transporte sejam alvo direto de estudo, recomenda-se o uso de técnicas de balanceamento (como reamostragem ou penalização) ou, preferencialmente, a utilização de conjuntos de dados mais adequados. Para os objetivos deste trabalho, entretanto — com foco na obesidade como variável preditiva — a estrutura atual é considerada apropriada."
   ]
  },
  {
   "cell_type": "markdown",
   "metadata": {
    "application/vnd.databricks.v1+cell": {
     "cellMetadata": {
      "byteLimit": 2048000,
      "rowLimit": 10000
     },
     "inputWidgets": {},
     "nuid": "9f8aed85-e25e-499f-a70e-bbeed439400e",
     "showTitle": false,
     "tableResultSettingsMap": {},
     "title": ""
    }
   },
   "source": [
    "### Análise bivariada\n",
    "\n",
    "Dando continuidade à exploração dos dados, esta etapa apresenta a análise bivariada, também conhecida como análise cruzada.\n",
    "\n",
    "Diferente da análise univariada — que observa uma variável de forma isolada —, a análise bivariada busca entender como duas variáveis se relacionam entre si, permitindo identificar padrões, associações ou diferenças relevantes entre grupos da população.\n",
    "\n",
    "Essa abordagem é fundamental para:\n",
    "- Levantar hipóteses sobre possíveis relações de causa e efeito\n",
    "- Identificar desigualdades ou padrões ocultos\n",
    "- Embasar políticas públicas e estratégias de saúde\n",
    "- Guiar o desenvolvimento de modelos preditivos mais eficientes\n",
    "\n",
    "Neste trabalho, exploraremos relações como:\n",
    "- Existe diferença de diagnóstico entre gêneros?\n",
    "- Faixa etária influencia o tipo de obesidade?\n",
    "- Certos meios de transporte estão associados a menor IMC?\n",
    "\n",
    "Nosso objetivo é compreender melhor quais fatores influenciam os níveis de obesidade com base nos dados disponíveis. Essas análises servirão como base tanto para interpretações estatísticas quanto para futuras aplicações em machine learning.\n"
   ]
  },
  {
   "cell_type": "markdown",
   "metadata": {
    "application/vnd.databricks.v1+cell": {
     "cellMetadata": {
      "byteLimit": 2048000,
      "rowLimit": 10000
     },
     "inputWidgets": {},
     "nuid": "f7da4ab4-b979-4ccb-a3a6-b04a4fcca095",
     "showTitle": false,
     "tableResultSettingsMap": {},
     "title": ""
    }
   },
   "source": [
    "Atributos não-numéricos"
   ]
  },
  {
   "cell_type": "code",
   "execution_count": 0,
   "metadata": {
    "application/vnd.databricks.v1+cell": {
     "cellMetadata": {
      "byteLimit": 2048000,
      "implicitDf": true,
      "rowLimit": 10000
     },
     "inputWidgets": {},
     "nuid": "af4079fc-f04e-4314-a71a-0d9fa23176e9",
     "showTitle": false,
     "tableResultSettingsMap": {},
     "title": ""
    }
   },
   "outputs": [
    {
     "output_type": "display_data",
     "data": {
      "text/html": [
       "<style scoped>\n",
       "  .table-result-container {\n",
       "    max-height: 300px;\n",
       "    overflow: auto;\n",
       "  }\n",
       "  table, th, td {\n",
       "    border: 1px solid black;\n",
       "    border-collapse: collapse;\n",
       "  }\n",
       "  th, td {\n",
       "    padding: 5px;\n",
       "  }\n",
       "  th {\n",
       "    text-align: left;\n",
       "  }\n",
       "</style><div class='table-result-container'><table class='table-result'><thead style='background-color: white'><tr><th>genero</th><th>diagnostico</th><th>total</th></tr></thead><tbody><tr><td>Female</td><td>Obesity_Type_III</td><td>323</td></tr><tr><td>Female</td><td>Insufficient_Weight</td><td>173</td></tr><tr><td>Female</td><td>Obesity_Type_I</td><td>156</td></tr><tr><td>Female</td><td>Overweight_Level_I</td><td>145</td></tr><tr><td>Female</td><td>Normal_Weight</td><td>141</td></tr><tr><td>Female</td><td>Overweight_Level_II</td><td>103</td></tr><tr><td>Female</td><td>Obesity_Type_II</td><td>2</td></tr><tr><td>Male</td><td>Obesity_Type_II</td><td>295</td></tr><tr><td>Male</td><td>Obesity_Type_I</td><td>195</td></tr><tr><td>Male</td><td>Overweight_Level_II</td><td>187</td></tr><tr><td>Male</td><td>Normal_Weight</td><td>146</td></tr><tr><td>Male</td><td>Overweight_Level_I</td><td>145</td></tr><tr><td>Male</td><td>Insufficient_Weight</td><td>99</td></tr><tr><td>Male</td><td>Obesity_Type_III</td><td>1</td></tr></tbody></table></div>"
      ]
     },
     "metadata": {
      "application/vnd.databricks.v1+output": {
       "addedWidgets": {},
       "aggData": [],
       "aggError": "",
       "aggOverflow": false,
       "aggSchema": [],
       "aggSeriesLimitReached": false,
       "aggType": "",
       "arguments": {},
       "columnCustomDisplayInfos": {},
       "data": [
        [
         "Female",
         "Obesity_Type_III",
         323
        ],
        [
         "Female",
         "Insufficient_Weight",
         173
        ],
        [
         "Female",
         "Obesity_Type_I",
         156
        ],
        [
         "Female",
         "Overweight_Level_I",
         145
        ],
        [
         "Female",
         "Normal_Weight",
         141
        ],
        [
         "Female",
         "Overweight_Level_II",
         103
        ],
        [
         "Female",
         "Obesity_Type_II",
         2
        ],
        [
         "Male",
         "Obesity_Type_II",
         295
        ],
        [
         "Male",
         "Obesity_Type_I",
         195
        ],
        [
         "Male",
         "Overweight_Level_II",
         187
        ],
        [
         "Male",
         "Normal_Weight",
         146
        ],
        [
         "Male",
         "Overweight_Level_I",
         145
        ],
        [
         "Male",
         "Insufficient_Weight",
         99
        ],
        [
         "Male",
         "Obesity_Type_III",
         1
        ]
       ],
       "datasetInfos": [],
       "dbfsResultPath": null,
       "isJsonSchema": true,
       "metadata": {},
       "overflow": false,
       "plotOptions": {
        "customPlotOptions": {},
        "displayType": "table",
        "pivotAggregation": null,
        "pivotColumns": null,
        "xColumns": null,
        "yColumns": null
       },
       "removedWidgets": [],
       "schema": [
        {
         "metadata": "{}",
         "name": "genero",
         "type": "\"string\""
        },
        {
         "metadata": "{}",
         "name": "diagnostico",
         "type": "\"string\""
        },
        {
         "metadata": "{}",
         "name": "total",
         "type": "\"long\""
        }
       ],
       "type": "table"
      }
     },
     "output_type": "display_data"
    },
    {
     "output_type": "display_data",
     "data": {
      "text/plain": [
       "Databricks visualization. Run in Databricks to view."
      ]
     },
     "metadata": {
      "application/vnd.databricks.v1.subcommand+json": {
       "baseErrorDetails": null,
       "bindings": {},
       "collapsed": false,
       "command": "%sql WITH q AS (SELECT p.gender AS genero, d.nome AS diagnostico, COUNT(*) AS total\nFROM dw_obesidade.FatoObesidade f\nJOIN dw_obesidade.DimPessoa p ON f.id_pessoa = p.id_pessoa\nJOIN dw_obesidade.DimDiagnostico d ON f.id_diagnostico = d.id_diagnostico\nGROUP BY p.gender, d.nome\nORDER BY p.gender, total DESC) SELECT `genero`,`diagnostico`,SUM(`total`) `column_ea6b7fcd157` FROM q GROUP BY `diagnostico`,`genero`",
       "commandTitle": "Visualization 1",
       "commandType": "auto",
       "commandVersion": 0,
       "commentThread": [],
       "commentsVisible": false,
       "contentSha256Hex": null,
       "customPlotOptions": {
        "redashChart": [
         {
          "key": "type",
          "value": "CHART"
         },
         {
          "key": "options",
          "value": {
           "alignYAxesAtZero": true,
           "coefficient": 1,
           "columnConfigurationMap": {
            "series": {
             "column": "diagnostico",
             "id": "column_ea6b7fcd156"
            },
            "x": {
             "column": "genero",
             "id": "column_ea6b7fcd155"
            },
            "y": [
             {
              "column": "total",
              "id": "column_ea6b7fcd157",
              "transform": "SUM"
             }
            ]
           },
           "dateTimeFormat": "DD/MM/YYYY HH:mm",
           "direction": {
            "type": "counterclockwise"
           },
           "error_y": {
            "type": "data",
            "visible": true
           },
           "globalSeriesType": "pie",
           "isAggregationOn": true,
           "legend": {
            "traceorder": "normal"
           },
           "missingValuesAsZero": true,
           "numberFormat": "0,0.[00000]",
           "percentFormat": "0[.]00%",
           "series": {
            "error_y": {
             "type": "data",
             "visible": true
            },
            "stacking": null
           },
           "seriesOptions": {
            "column_ea6b7fcd157": {
             "name": "total",
             "type": "pie",
             "yAxis": 0
            }
           },
           "showDataLabels": true,
           "sizemode": "diameter",
           "sortX": true,
           "sortY": true,
           "swappedAxes": false,
           "textFormat": "",
           "useAggregationsUi": true,
           "valuesOptions": {
            "Female": {
             "color": "#B554FF"
            },
            "Male": {
             "color": "#002FB4"
            }
           },
           "version": 2,
           "xAxis": {
            "labels": {
             "enabled": true
            },
            "type": "-"
           },
           "yAxis": [
            {
             "type": "-"
            },
            {
             "opposite": true,
             "type": "-"
            }
           ]
          }
         }
        ]
       },
       "datasetPreviewNameToCmdIdMap": {},
       "diffDeletes": [],
       "diffInserts": [],
       "displayType": "redashChart",
       "error": null,
       "errorDetails": null,
       "errorSummary": null,
       "errorTraceType": null,
       "finishTime": 0,
       "globalVars": {},
       "guid": "",
       "height": "auto",
       "hideCommandCode": false,
       "hideCommandResult": false,
       "iPythonMetadata": null,
       "inputWidgets": {},
       "isLockedInExamMode": false,
       "latestUser": "a user",
       "latestUserId": null,
       "listResultMetadata": null,
       "metadata": {
        "byteLimit": 2048000,
        "implicitDf": true,
        "rowLimit": 10000
       },
       "nuid": "ea8d9993-b1b1-4afc-a6a9-3e95b4a5dcce",
       "origId": 0,
       "parentHierarchy": [],
       "pivotAggregation": null,
       "pivotColumns": null,
       "position": 26.0,
       "resultDbfsErrorMessage": null,
       "resultDbfsStatus": "INLINED_IN_TREE",
       "results": null,
       "showCommandTitle": false,
       "startTime": 0,
       "state": "finished",
       "streamStates": {},
       "subcommandOptions": {
        "queryPlan": {
         "groups": [
          {
           "column": "genero",
           "type": "column"
          },
          {
           "column": "diagnostico",
           "type": "column"
          }
         ],
         "selects": [
          {
           "column": "genero",
           "type": "column"
          },
          {
           "column": "diagnostico",
           "type": "column"
          },
          {
           "alias": "column_ea6b7fcd157",
           "args": [
            {
             "column": "total",
             "type": "column"
            }
           ],
           "function": "SUM",
           "type": "function"
          }
         ]
        }
       },
       "submitTime": 0,
       "subtype": "tableResultSubCmd.visualization",
       "tableResultIndex": 0,
       "tableResultSettingsMap": {},
       "useConsistentColors": false,
       "version": "CommandV1",
       "width": "auto",
       "workflows": [],
       "xColumns": null,
       "yColumns": null
      }
     },
     "output_type": "display_data"
    }
   ],
   "source": [
    "%sql\n",
    "-- Diagnóstico por Gênero\n",
    "-- Esta análise cruza o gênero do indivíduo com seu diagnóstico de obesidade, permitindo observar se há variações significativas entre homens e mulheres.\n",
    "SELECT p.gender AS genero, d.nome AS diagnostico, COUNT(*) AS total\n",
    "FROM dw_obesidade.FatoObesidade f\n",
    "JOIN dw_obesidade.DimPessoa p ON f.id_pessoa = p.id_pessoa\n",
    "JOIN dw_obesidade.DimDiagnostico d ON f.id_diagnostico = d.id_diagnostico\n",
    "GROUP BY p.gender, d.nome\n",
    "ORDER BY p.gender, total DESC;"
   ]
  },
  {
   "cell_type": "markdown",
   "metadata": {
    "application/vnd.databricks.v1+cell": {
     "cellMetadata": {
      "byteLimit": 2048000,
      "rowLimit": 10000
     },
     "inputWidgets": {},
     "nuid": "913ed4f5-4173-405b-9221-2800e76ca25e",
     "showTitle": false,
     "tableResultSettingsMap": {},
     "title": ""
    }
   },
   "source": [
    "É interessante verificar que, apesar da análise do conjunto de dados original indicar que a distribuição de gênero é equilibrada, com 50,6% de registros masculinos e 49,4% femininos, isso não se repete para pacientes obesos. Há uma quantidade significativa de homens com obesidade tipo II (99,3%), e esse valor basicamente se inverte ao observarmos a obesidade mais grave do tipo III, onde mulheres compreendem 99,7% dos dados. \n",
    "\n",
    "Embora estudos indiquem que há, de fato, uma maior prevalência de obesidade grave em mulheres — como mostram dados do CDC (Centers for Disease Control and Prevention), que apontam uma taxa de obesidade grave de 12,1% em mulheres contra 6,7% em homens nos Estados Unidos (CDC, 2021–2023) —, a discrepância encontrada no conjunto de dados analisado é significativamente maior do que a observada na população geral.\n",
    "\n",
    "Esse desbalanceamento pode ser atribuído ao processo de geração sintética dos dados por meio do algoritmo SMOTE (Synthetic Minority Over-sampling Technique), aplicado no software Weka. Como 77% do dataset foi gerado artificialmente, é provável que as amostras sintéticas tenham reproduzido e amplificado padrões já presentes no subconjunto real, que representa apenas 23% dos dados. O SMOTE, ao criar novos exemplos exclusivamente a partir de registros reais da classe minoritária, pode intensificar viéses preexistentes, especialmente quando há correlação entre atributos — como o gênero e o tipo de diagnóstico — sem considerar o equilíbrio entre suas distribuições. Assim, os dados sintéticos acabaram por representar de forma distorcida a realidade epidemiológica observada em estudos populacionais.\n",
    "\n",
    "Quanto aos outros resultados, estes foram mais similares ao observado para o conjunto de dados total, sendo mais equilibrado entre os gêneros. A exceção seria para peso insuficiente, onde mulheres são a maioria (63.6%) e sobrepeso nível II, onde homens são a maioria (64.5%), mas aqui os gêneros ainda se encontraram ligeiramente balanceados.\n",
    "\n"
   ]
  },
  {
   "cell_type": "code",
   "execution_count": 0,
   "metadata": {
    "application/vnd.databricks.v1+cell": {
     "cellMetadata": {
      "byteLimit": 2048000,
      "implicitDf": true,
      "rowLimit": 10000
     },
     "inputWidgets": {},
     "nuid": "26a35d35-6166-4ca2-82e6-a60ebca1b292",
     "showTitle": false,
     "tableResultSettingsMap": {},
     "title": ""
    }
   },
   "outputs": [
    {
     "output_type": "display_data",
     "data": {
      "text/html": [
       "<style scoped>\n",
       "  .table-result-container {\n",
       "    max-height: 300px;\n",
       "    overflow: auto;\n",
       "  }\n",
       "  table, th, td {\n",
       "    border: 1px solid black;\n",
       "    border-collapse: collapse;\n",
       "  }\n",
       "  th, td {\n",
       "    padding: 5px;\n",
       "  }\n",
       "  th {\n",
       "    text-align: left;\n",
       "  }\n",
       "</style><div class='table-result-container'><table class='table-result'><thead style='background-color: white'><tr><th>diagnostico</th><th>historico_familiar</th><th>total</th></tr></thead><tbody><tr><td>Insufficient_Weight</td><td>no</td><td>146</td></tr><tr><td>Insufficient_Weight</td><td>yes</td><td>126</td></tr><tr><td>Normal_Weight</td><td>yes</td><td>155</td></tr><tr><td>Normal_Weight</td><td>no</td><td>132</td></tr><tr><td>Obesity_Type_I</td><td>yes</td><td>344</td></tr><tr><td>Obesity_Type_I</td><td>no</td><td>7</td></tr><tr><td>Obesity_Type_II</td><td>yes</td><td>296</td></tr><tr><td>Obesity_Type_II</td><td>no</td><td>1</td></tr><tr><td>Obesity_Type_III</td><td>yes</td><td>324</td></tr><tr><td>Overweight_Level_I</td><td>yes</td><td>209</td></tr><tr><td>Overweight_Level_I</td><td>no</td><td>81</td></tr><tr><td>Overweight_Level_II</td><td>yes</td><td>272</td></tr><tr><td>Overweight_Level_II</td><td>no</td><td>18</td></tr></tbody></table></div>"
      ]
     },
     "metadata": {
      "application/vnd.databricks.v1+output": {
       "addedWidgets": {},
       "aggData": [],
       "aggError": "",
       "aggOverflow": false,
       "aggSchema": [],
       "aggSeriesLimitReached": false,
       "aggType": "",
       "arguments": {},
       "columnCustomDisplayInfos": {},
       "data": [
        [
         "Insufficient_Weight",
         "no",
         146
        ],
        [
         "Insufficient_Weight",
         "yes",
         126
        ],
        [
         "Normal_Weight",
         "yes",
         155
        ],
        [
         "Normal_Weight",
         "no",
         132
        ],
        [
         "Obesity_Type_I",
         "yes",
         344
        ],
        [
         "Obesity_Type_I",
         "no",
         7
        ],
        [
         "Obesity_Type_II",
         "yes",
         296
        ],
        [
         "Obesity_Type_II",
         "no",
         1
        ],
        [
         "Obesity_Type_III",
         "yes",
         324
        ],
        [
         "Overweight_Level_I",
         "yes",
         209
        ],
        [
         "Overweight_Level_I",
         "no",
         81
        ],
        [
         "Overweight_Level_II",
         "yes",
         272
        ],
        [
         "Overweight_Level_II",
         "no",
         18
        ]
       ],
       "datasetInfos": [],
       "dbfsResultPath": null,
       "isJsonSchema": true,
       "metadata": {},
       "overflow": false,
       "plotOptions": {
        "customPlotOptions": {},
        "displayType": "table",
        "pivotAggregation": null,
        "pivotColumns": null,
        "xColumns": null,
        "yColumns": null
       },
       "removedWidgets": [],
       "schema": [
        {
         "metadata": "{}",
         "name": "diagnostico",
         "type": "\"string\""
        },
        {
         "metadata": "{}",
         "name": "historico_familiar",
         "type": "\"string\""
        },
        {
         "metadata": "{}",
         "name": "total",
         "type": "\"long\""
        }
       ],
       "type": "table"
      }
     },
     "output_type": "display_data"
    },
    {
     "output_type": "display_data",
     "data": {
      "text/plain": [
       "Databricks visualization. Run in Databricks to view."
      ]
     },
     "metadata": {
      "application/vnd.databricks.v1.subcommand+json": {
       "baseErrorDetails": null,
       "bindings": {},
       "collapsed": false,
       "command": "%sql WITH q AS (SELECT d.nome AS diagnostico, h.valor AS historico_familiar, COUNT(*) AS total\nFROM dw_obesidade.FatoObesidade f\nJOIN dw_obesidade.DimHistoricoFamiliar h ON f.id_hist_fam = h.id_hist_fam\nJOIN dw_obesidade.DimDiagnostico d ON f.id_diagnostico = d.id_diagnostico\nGROUP BY d.nome, h.valor\nORDER BY d.nome, total DESC) SELECT `diagnostico`,`historico_familiar`,SUM(`total`) `column_50e4a519190` FROM q GROUP BY `diagnostico`,`historico_familiar`",
       "commandTitle": "Visualization 1",
       "commandType": "auto",
       "commandVersion": 0,
       "commentThread": [],
       "commentsVisible": false,
       "contentSha256Hex": null,
       "customPlotOptions": {
        "redashChart": [
         {
          "key": "type",
          "value": "CHART"
         },
         {
          "key": "options",
          "value": {
           "alignYAxesAtZero": true,
           "coefficient": 1,
           "columnConfigurationMap": {
            "series": {
             "column": "historico_familiar",
             "id": "column_50e4a519189"
            },
            "x": {
             "column": "diagnostico",
             "id": "column_50e4a519188"
            },
            "y": [
             {
              "column": "total",
              "id": "column_50e4a519190",
              "transform": "SUM"
             }
            ]
           },
           "dateTimeFormat": "DD/MM/YYYY HH:mm",
           "direction": {
            "type": "counterclockwise"
           },
           "error_y": {
            "type": "data",
            "visible": true
           },
           "globalSeriesType": "column",
           "isAggregationOn": true,
           "legend": {
            "traceorder": "normal"
           },
           "missingValuesAsZero": true,
           "numberFormat": "0,0.[00000]",
           "percentFormat": "0[.]00%",
           "series": {
            "error_y": {
             "type": "data",
             "visible": true
            },
            "stacking": "stack"
           },
           "seriesOptions": {
            "column_50e4a519190": {
             "name": "total",
             "type": "column",
             "yAxis": 0
            }
           },
           "showDataLabels": false,
           "sizemode": "diameter",
           "sortX": true,
           "sortY": true,
           "swappedAxes": false,
           "textFormat": "",
           "useAggregationsUi": true,
           "valuesOptions": {},
           "version": 2,
           "xAxis": {
            "labels": {
             "enabled": true
            },
            "type": "-"
           },
           "yAxis": [
            {
             "type": "-"
            },
            {
             "opposite": true,
             "type": "-"
            }
           ]
          }
         }
        ]
       },
       "datasetPreviewNameToCmdIdMap": {},
       "diffDeletes": [],
       "diffInserts": [],
       "displayType": "redashChart",
       "error": null,
       "errorDetails": null,
       "errorSummary": null,
       "errorTraceType": null,
       "finishTime": 0,
       "globalVars": {},
       "guid": "",
       "height": "auto",
       "hideCommandCode": false,
       "hideCommandResult": false,
       "iPythonMetadata": null,
       "inputWidgets": {},
       "isLockedInExamMode": false,
       "latestUser": "a user",
       "latestUserId": null,
       "listResultMetadata": null,
       "metadata": {
        "byteLimit": 2048000,
        "implicitDf": true,
        "rowLimit": 10000
       },
       "nuid": "7d770522-820f-483d-b883-55375383863c",
       "origId": 0,
       "parentHierarchy": [],
       "pivotAggregation": null,
       "pivotColumns": null,
       "position": 26.49609375,
       "resultDbfsErrorMessage": null,
       "resultDbfsStatus": "INLINED_IN_TREE",
       "results": null,
       "showCommandTitle": false,
       "startTime": 0,
       "state": "finished",
       "streamStates": {},
       "subcommandOptions": {
        "queryPlan": {
         "groups": [
          {
           "column": "diagnostico",
           "type": "column"
          },
          {
           "column": "historico_familiar",
           "type": "column"
          }
         ],
         "selects": [
          {
           "column": "diagnostico",
           "type": "column"
          },
          {
           "column": "historico_familiar",
           "type": "column"
          },
          {
           "alias": "column_50e4a519190",
           "args": [
            {
             "column": "total",
             "type": "column"
            }
           ],
           "function": "SUM",
           "type": "function"
          }
         ]
        }
       },
       "submitTime": 0,
       "subtype": "tableResultSubCmd.visualization",
       "tableResultIndex": 0,
       "tableResultSettingsMap": {},
       "useConsistentColors": false,
       "version": "CommandV1",
       "width": "auto",
       "workflows": [],
       "xColumns": null,
       "yColumns": null
      }
     },
     "output_type": "display_data"
    }
   ],
   "source": [
    "%sql\n",
    "-- Histórico Familiar mais comum por diagnóstico\n",
    "SELECT d.nome AS diagnostico, h.valor AS historico_familiar, COUNT(*) AS total\n",
    "FROM dw_obesidade.FatoObesidade f\n",
    "JOIN dw_obesidade.DimHistoricoFamiliar h ON f.id_hist_fam = h.id_hist_fam\n",
    "JOIN dw_obesidade.DimDiagnostico d ON f.id_diagnostico = d.id_diagnostico\n",
    "GROUP BY d.nome, h.valor\n",
    "ORDER BY d.nome, total DESC;"
   ]
  },
  {
   "cell_type": "markdown",
   "metadata": {
    "application/vnd.databricks.v1+cell": {
     "cellMetadata": {
      "byteLimit": 2048000,
      "rowLimit": 10000
     },
     "inputWidgets": {},
     "nuid": "e0b892f3-a4ca-44e1-807c-8586e8c13c70",
     "showTitle": false,
     "tableResultSettingsMap": {},
     "title": ""
    }
   },
   "source": [
    "Os dados obtidos neste trabalho mostram uma forte associação entre o histórico familiar de obesidade e o diagnóstico de obesidade, sugerindo que fatores hereditários contribuem para o surgimento da doença. Segundo a Obesity Medicine Association (2022), mais de 200 variantes genéticas já foram identificadas como associadas à obesidade comum, influenciando mecanismos como regulação do apetite, metabolismo e armazenamento de gordura. \n",
    "\n",
    "Adicionalmente, um estudo de Yadav e Jawahar (2023), destaca que o ambiente familiar exerce forte influência sobre o comportamento alimentar e o estilo de vida. Crianças criadas em lares onde alimentos calóricos são abundantes, porções são grandes e a atividade física é limitada tendem a internalizar esses hábitos como normais. Dessa forma, o histórico familiar contribui não apenas por meio de herança genética, mas também de maneira comportamental, ampliando o risco de obesidade.\n",
    "\n",
    "Por fim, fatores ambientais podem alterar a expressão gênica por meio de mecanismos epigenéticos, tornando possível que o estilo de vida interfira no risco de obesidade mesmo sem alterações na sequência do DNA."
   ]
  },
  {
   "cell_type": "code",
   "execution_count": 0,
   "metadata": {
    "application/vnd.databricks.v1+cell": {
     "cellMetadata": {
      "byteLimit": 2048000,
      "implicitDf": true,
      "rowLimit": 10000
     },
     "inputWidgets": {},
     "nuid": "c6a2195c-db08-47da-85a9-2b887c18faf6",
     "showTitle": false,
     "tableResultSettingsMap": {},
     "title": ""
    }
   },
   "outputs": [
    {
     "output_type": "display_data",
     "data": {
      "text/html": [
       "<style scoped>\n",
       "  .table-result-container {\n",
       "    max-height: 300px;\n",
       "    overflow: auto;\n",
       "  }\n",
       "  table, th, td {\n",
       "    border: 1px solid black;\n",
       "    border-collapse: collapse;\n",
       "  }\n",
       "  th, td {\n",
       "    padding: 5px;\n",
       "  }\n",
       "  th {\n",
       "    text-align: left;\n",
       "  }\n",
       "</style><div class='table-result-container'><table class='table-result'><thead style='background-color: white'><tr><th>diagnostico</th><th>transporte</th><th>total</th></tr></thead><tbody><tr><td>Insufficient_Weight</td><td>Public_Transportation</td><td>220</td></tr><tr><td>Insufficient_Weight</td><td>Automobile</td><td>46</td></tr><tr><td>Insufficient_Weight</td><td>Walking</td><td>6</td></tr><tr><td>Normal_Weight</td><td>Public_Transportation</td><td>200</td></tr><tr><td>Normal_Weight</td><td>Automobile</td><td>45</td></tr><tr><td>Normal_Weight</td><td>Walking</td><td>32</td></tr><tr><td>Normal_Weight</td><td>Motorbike</td><td>6</td></tr><tr><td>Normal_Weight</td><td>Bike</td><td>4</td></tr><tr><td>Obesity_Type_I</td><td>Public_Transportation</td><td>236</td></tr><tr><td>Obesity_Type_I</td><td>Automobile</td><td>110</td></tr><tr><td>Obesity_Type_I</td><td>Motorbike</td><td>3</td></tr><tr><td>Obesity_Type_I</td><td>Walking</td><td>2</td></tr><tr><td>Obesity_Type_II</td><td>Public_Transportation</td><td>200</td></tr><tr><td>Obesity_Type_II</td><td>Automobile</td><td>95</td></tr><tr><td>Obesity_Type_II</td><td>Bike</td><td>1</td></tr><tr><td>Obesity_Type_II</td><td>Walking</td><td>1</td></tr><tr><td>Obesity_Type_III</td><td>Public_Transportation</td><td>323</td></tr><tr><td>Obesity_Type_III</td><td>Automobile</td><td>1</td></tr><tr><td>Overweight_Level_I</td><td>Public_Transportation</td><td>212</td></tr><tr><td>Overweight_Level_I</td><td>Automobile</td><td>66</td></tr><tr><td>Overweight_Level_I</td><td>Walking</td><td>9</td></tr><tr><td>Overweight_Level_I</td><td>Bike</td><td>2</td></tr><tr><td>Overweight_Level_I</td><td>Motorbike</td><td>1</td></tr><tr><td>Overweight_Level_II</td><td>Public_Transportation</td><td>189</td></tr><tr><td>Overweight_Level_II</td><td>Automobile</td><td>94</td></tr><tr><td>Overweight_Level_II</td><td>Walking</td><td>6</td></tr><tr><td>Overweight_Level_II</td><td>Motorbike</td><td>1</td></tr></tbody></table></div>"
      ]
     },
     "metadata": {
      "application/vnd.databricks.v1+output": {
       "addedWidgets": {},
       "aggData": [],
       "aggError": "",
       "aggOverflow": false,
       "aggSchema": [],
       "aggSeriesLimitReached": false,
       "aggType": "",
       "arguments": {},
       "columnCustomDisplayInfos": {},
       "data": [
        [
         "Insufficient_Weight",
         "Public_Transportation",
         220
        ],
        [
         "Insufficient_Weight",
         "Automobile",
         46
        ],
        [
         "Insufficient_Weight",
         "Walking",
         6
        ],
        [
         "Normal_Weight",
         "Public_Transportation",
         200
        ],
        [
         "Normal_Weight",
         "Automobile",
         45
        ],
        [
         "Normal_Weight",
         "Walking",
         32
        ],
        [
         "Normal_Weight",
         "Motorbike",
         6
        ],
        [
         "Normal_Weight",
         "Bike",
         4
        ],
        [
         "Obesity_Type_I",
         "Public_Transportation",
         236
        ],
        [
         "Obesity_Type_I",
         "Automobile",
         110
        ],
        [
         "Obesity_Type_I",
         "Motorbike",
         3
        ],
        [
         "Obesity_Type_I",
         "Walking",
         2
        ],
        [
         "Obesity_Type_II",
         "Public_Transportation",
         200
        ],
        [
         "Obesity_Type_II",
         "Automobile",
         95
        ],
        [
         "Obesity_Type_II",
         "Bike",
         1
        ],
        [
         "Obesity_Type_II",
         "Walking",
         1
        ],
        [
         "Obesity_Type_III",
         "Public_Transportation",
         323
        ],
        [
         "Obesity_Type_III",
         "Automobile",
         1
        ],
        [
         "Overweight_Level_I",
         "Public_Transportation",
         212
        ],
        [
         "Overweight_Level_I",
         "Automobile",
         66
        ],
        [
         "Overweight_Level_I",
         "Walking",
         9
        ],
        [
         "Overweight_Level_I",
         "Bike",
         2
        ],
        [
         "Overweight_Level_I",
         "Motorbike",
         1
        ],
        [
         "Overweight_Level_II",
         "Public_Transportation",
         189
        ],
        [
         "Overweight_Level_II",
         "Automobile",
         94
        ],
        [
         "Overweight_Level_II",
         "Walking",
         6
        ],
        [
         "Overweight_Level_II",
         "Motorbike",
         1
        ]
       ],
       "datasetInfos": [],
       "dbfsResultPath": null,
       "isJsonSchema": true,
       "metadata": {},
       "overflow": false,
       "plotOptions": {
        "customPlotOptions": {},
        "displayType": "table",
        "pivotAggregation": null,
        "pivotColumns": null,
        "xColumns": null,
        "yColumns": null
       },
       "removedWidgets": [],
       "schema": [
        {
         "metadata": "{}",
         "name": "diagnostico",
         "type": "\"string\""
        },
        {
         "metadata": "{}",
         "name": "transporte",
         "type": "\"string\""
        },
        {
         "metadata": "{}",
         "name": "total",
         "type": "\"long\""
        }
       ],
       "type": "table"
      }
     },
     "output_type": "display_data"
    },
    {
     "output_type": "display_data",
     "data": {
      "text/plain": [
       "Databricks visualization. Run in Databricks to view."
      ]
     },
     "metadata": {
      "application/vnd.databricks.v1.subcommand+json": {
       "baseErrorDetails": null,
       "bindings": {},
       "collapsed": false,
       "command": "%sql WITH q AS (SELECT d.nome AS diagnostico, e.mtrans AS transporte, COUNT(*) AS total\nFROM dw_obesidade.FatoObesidade f\nJOIN dw_obesidade.DimEstiloVida e ON f.id_estilo = e.id_estilo\nJOIN dw_obesidade.DimDiagnostico d ON f.id_diagnostico = d.id_diagnostico\nGROUP BY d.nome, e.mtrans\nORDER BY d.nome, total DESC) SELECT `diagnostico`,`transporte`,SUM(`total`) `column_50e4a519212` FROM q GROUP BY `diagnostico`,`transporte`",
       "commandTitle": "Visualization 1",
       "commandType": "auto",
       "commandVersion": 0,
       "commentThread": [],
       "commentsVisible": false,
       "contentSha256Hex": null,
       "customPlotOptions": {
        "redashChart": [
         {
          "key": "type",
          "value": "CHART"
         },
         {
          "key": "options",
          "value": {
           "alignYAxesAtZero": true,
           "coefficient": 1,
           "columnConfigurationMap": {
            "series": {
             "column": "transporte",
             "id": "column_50e4a519211"
            },
            "x": {
             "column": "diagnostico",
             "id": "column_50e4a519210"
            },
            "y": [
             {
              "column": "total",
              "id": "column_50e4a519212",
              "transform": "SUM"
             }
            ]
           },
           "dateTimeFormat": "DD/MM/YYYY HH:mm",
           "direction": {
            "type": "counterclockwise"
           },
           "error_y": {
            "type": "data",
            "visible": true
           },
           "globalSeriesType": "column",
           "isAggregationOn": true,
           "legend": {
            "traceorder": "normal"
           },
           "missingValuesAsZero": true,
           "numberFormat": "0,0.[00000]",
           "percentFormat": "0[.]00%",
           "series": {
            "error_y": {
             "type": "data",
             "visible": true
            },
            "stacking": "stack"
           },
           "seriesOptions": {
            "Walking": {
             "color": "#FB8D3D"
            },
            "column_50e4a519212": {
             "name": "total",
             "yAxis": 0
            }
           },
           "showDataLabels": false,
           "sizemode": "diameter",
           "sortX": true,
           "sortY": true,
           "swappedAxes": false,
           "textFormat": "",
           "useAggregationsUi": true,
           "valuesOptions": {},
           "version": 2,
           "xAxis": {
            "labels": {
             "enabled": true
            },
            "type": "-"
           },
           "yAxis": [
            {
             "type": "-"
            },
            {
             "opposite": true,
             "type": "-"
            }
           ]
          }
         }
        ]
       },
       "datasetPreviewNameToCmdIdMap": {},
       "diffDeletes": [],
       "diffInserts": [],
       "displayType": "redashChart",
       "error": null,
       "errorDetails": null,
       "errorSummary": null,
       "errorTraceType": null,
       "finishTime": 0,
       "globalVars": {},
       "guid": "",
       "height": "auto",
       "hideCommandCode": false,
       "hideCommandResult": false,
       "iPythonMetadata": null,
       "inputWidgets": {},
       "isLockedInExamMode": false,
       "latestUser": "a user",
       "latestUserId": null,
       "listResultMetadata": null,
       "metadata": {
        "byteLimit": 2048000,
        "implicitDf": true,
        "rowLimit": 10000
       },
       "nuid": "9a9e6465-ea23-4d2d-8f9c-74d143b27dbe",
       "origId": 0,
       "parentHierarchy": [],
       "pivotAggregation": null,
       "pivotColumns": null,
       "position": 26.5,
       "resultDbfsErrorMessage": null,
       "resultDbfsStatus": "INLINED_IN_TREE",
       "results": null,
       "showCommandTitle": false,
       "startTime": 0,
       "state": "finished",
       "streamStates": {},
       "subcommandOptions": {
        "queryPlan": {
         "groups": [
          {
           "column": "diagnostico",
           "type": "column"
          },
          {
           "column": "transporte",
           "type": "column"
          }
         ],
         "selects": [
          {
           "column": "diagnostico",
           "type": "column"
          },
          {
           "column": "transporte",
           "type": "column"
          },
          {
           "alias": "column_50e4a519212",
           "args": [
            {
             "column": "total",
             "type": "column"
            }
           ],
           "function": "SUM",
           "type": "function"
          }
         ]
        }
       },
       "submitTime": 0,
       "subtype": "tableResultSubCmd.visualization",
       "tableResultIndex": 0,
       "tableResultSettingsMap": {},
       "useConsistentColors": false,
       "version": "CommandV1",
       "width": "auto",
       "workflows": [],
       "xColumns": null,
       "yColumns": null
      }
     },
     "output_type": "display_data"
    }
   ],
   "source": [
    "%sql\n",
    "--Estilo de Vida: Método de transporte mais comum por diagnóstico\n",
    "--- Relaciona o meio de transporte do indivíduo ao seu diagnóstico, ajudando a investigar o impacto potencial do estilo de mobilidade na obesidade.\n",
    "SELECT d.nome AS diagnostico, e.mtrans AS transporte, COUNT(*) AS total\n",
    "FROM dw_obesidade.FatoObesidade f\n",
    "JOIN dw_obesidade.DimEstiloVida e ON f.id_estilo = e.id_estilo\n",
    "JOIN dw_obesidade.DimDiagnostico d ON f.id_diagnostico = d.id_diagnostico\n",
    "GROUP BY d.nome, e.mtrans\n",
    "ORDER BY d.nome, total DESC;\n"
   ]
  },
  {
   "cell_type": "markdown",
   "metadata": {
    "application/vnd.databricks.v1+cell": {
     "cellMetadata": {
      "byteLimit": 2048000,
      "rowLimit": 10000
     },
     "inputWidgets": {},
     "nuid": "428dcdbd-d693-4dd2-b9d1-37dd3b9ff4bf",
     "showTitle": false,
     "tableResultSettingsMap": {},
     "title": ""
    }
   },
   "source": [
    "A análise dos meios de transporte por diagnóstico revela uma forte predominância do transporte público entre todos os grupos, sendo especialmente evidente em casos como de obesidade do tipo III (\"Obesity_Type_III\"), em que praticamente todos os registros (323 de 324) utilizam esse meio.\n",
    "\n",
    "Essa concentração pode indicar que os dados foram coletados em regiões urbanas onde o transporte coletivo é o principal meio de locomoção. Por outro lado, a baixa frequência de deslocamentos ativos, como caminhar ou andar de bicicleta, dificulta uma análise mais precisa da relação entre mobilidade e obesidade.\n",
    "\n",
    "Ainda assim, o uso do transporte público pode ter um efeito positivo indireto, já que geralmente envolve mais deslocamento a pé — como caminhadas até pontos ou estações — o que pode contribuir para o gasto calórico diário.\n",
    "\n",
    "Para conclusões mais confiáveis sobre esse tema, seria importante contar com mais diversidade nos tipos de transporte, além de variáveis complementares, como tempo de deslocamento ou frequência semanal."
   ]
  },
  {
   "cell_type": "code",
   "execution_count": 0,
   "metadata": {
    "application/vnd.databricks.v1+cell": {
     "cellMetadata": {
      "byteLimit": 2048000,
      "implicitDf": true,
      "rowLimit": 10000
     },
     "inputWidgets": {},
     "nuid": "7eefb29f-6c25-463d-93dc-c2b54b5cfd6b",
     "showTitle": false,
     "tableResultSettingsMap": {},
     "title": ""
    }
   },
   "outputs": [
    {
     "output_type": "display_data",
     "data": {
      "text/html": [
       "<style scoped>\n",
       "  .table-result-container {\n",
       "    max-height: 300px;\n",
       "    overflow: auto;\n",
       "  }\n",
       "  table, th, td {\n",
       "    border: 1px solid black;\n",
       "    border-collapse: collapse;\n",
       "  }\n",
       "  th, td {\n",
       "    padding: 5px;\n",
       "  }\n",
       "  th {\n",
       "    text-align: left;\n",
       "  }\n",
       "</style><div class='table-result-container'><table class='table-result'><thead style='background-color: white'><tr><th>diagnostico</th><th>fumante</th><th>total</th></tr></thead><tbody><tr><td>Insufficient_Weight</td><td>no</td><td>271</td></tr><tr><td>Insufficient_Weight</td><td>yes</td><td>1</td></tr><tr><td>Normal_Weight</td><td>no</td><td>274</td></tr><tr><td>Normal_Weight</td><td>yes</td><td>13</td></tr><tr><td>Obesity_Type_I</td><td>no</td><td>345</td></tr><tr><td>Obesity_Type_I</td><td>yes</td><td>6</td></tr><tr><td>Obesity_Type_II</td><td>no</td><td>282</td></tr><tr><td>Obesity_Type_II</td><td>yes</td><td>15</td></tr><tr><td>Obesity_Type_III</td><td>no</td><td>323</td></tr><tr><td>Obesity_Type_III</td><td>yes</td><td>1</td></tr><tr><td>Overweight_Level_I</td><td>no</td><td>287</td></tr><tr><td>Overweight_Level_I</td><td>yes</td><td>3</td></tr><tr><td>Overweight_Level_II</td><td>no</td><td>285</td></tr><tr><td>Overweight_Level_II</td><td>yes</td><td>5</td></tr></tbody></table></div>"
      ]
     },
     "metadata": {
      "application/vnd.databricks.v1+output": {
       "addedWidgets": {},
       "aggData": [],
       "aggError": "",
       "aggOverflow": false,
       "aggSchema": [],
       "aggSeriesLimitReached": false,
       "aggType": "",
       "arguments": {},
       "columnCustomDisplayInfos": {},
       "data": [
        [
         "Insufficient_Weight",
         "no",
         271
        ],
        [
         "Insufficient_Weight",
         "yes",
         1
        ],
        [
         "Normal_Weight",
         "no",
         274
        ],
        [
         "Normal_Weight",
         "yes",
         13
        ],
        [
         "Obesity_Type_I",
         "no",
         345
        ],
        [
         "Obesity_Type_I",
         "yes",
         6
        ],
        [
         "Obesity_Type_II",
         "no",
         282
        ],
        [
         "Obesity_Type_II",
         "yes",
         15
        ],
        [
         "Obesity_Type_III",
         "no",
         323
        ],
        [
         "Obesity_Type_III",
         "yes",
         1
        ],
        [
         "Overweight_Level_I",
         "no",
         287
        ],
        [
         "Overweight_Level_I",
         "yes",
         3
        ],
        [
         "Overweight_Level_II",
         "no",
         285
        ],
        [
         "Overweight_Level_II",
         "yes",
         5
        ]
       ],
       "datasetInfos": [],
       "dbfsResultPath": null,
       "isJsonSchema": true,
       "metadata": {},
       "overflow": false,
       "plotOptions": {
        "customPlotOptions": {},
        "displayType": "table",
        "pivotAggregation": null,
        "pivotColumns": null,
        "xColumns": null,
        "yColumns": null
       },
       "removedWidgets": [],
       "schema": [
        {
         "metadata": "{}",
         "name": "diagnostico",
         "type": "\"string\""
        },
        {
         "metadata": "{}",
         "name": "fumante",
         "type": "\"string\""
        },
        {
         "metadata": "{}",
         "name": "total",
         "type": "\"long\""
        }
       ],
       "type": "table"
      }
     },
     "output_type": "display_data"
    },
    {
     "output_type": "display_data",
     "data": {
      "text/plain": [
       "Databricks visualization. Run in Databricks to view."
      ]
     },
     "metadata": {
      "application/vnd.databricks.v1.subcommand+json": {
       "baseErrorDetails": null,
       "bindings": {},
       "collapsed": false,
       "command": "%sql WITH q AS (SELECT d.nome AS diagnostico, e.smoke AS fumante, COUNT(*) AS total\nFROM dw_obesidade.FatoObesidade f\nJOIN dw_obesidade.DimEstiloVida e ON f.id_estilo = e.id_estilo\nJOIN dw_obesidade.DimDiagnostico d ON f.id_diagnostico = d.id_diagnostico\nGROUP BY d.nome, e.smoke\nORDER BY d.nome, total DESC) SELECT `diagnostico`,`fumante`,SUM(`total`) `column_50e4a519235` FROM q GROUP BY `diagnostico`,`fumante`",
       "commandTitle": "Visualization 1",
       "commandType": "auto",
       "commandVersion": 0,
       "commentThread": [],
       "commentsVisible": false,
       "contentSha256Hex": null,
       "customPlotOptions": {
        "redashChart": [
         {
          "key": "type",
          "value": "CHART"
         },
         {
          "key": "options",
          "value": {
           "alignYAxesAtZero": true,
           "coefficient": 1,
           "columnConfigurationMap": {
            "series": {
             "column": "fumante",
             "id": "column_50e4a519234"
            },
            "x": {
             "column": "diagnostico",
             "id": "column_50e4a519233"
            },
            "y": [
             {
              "column": "total",
              "id": "column_50e4a519235",
              "transform": "SUM"
             }
            ]
           },
           "dateTimeFormat": "DD/MM/YYYY HH:mm",
           "direction": {
            "type": "counterclockwise"
           },
           "error_y": {
            "type": "data",
            "visible": true
           },
           "globalSeriesType": "column",
           "isAggregationOn": true,
           "legend": {
            "traceorder": "normal"
           },
           "missingValuesAsZero": true,
           "numberFormat": "0,0.[00000]",
           "percentFormat": "0[.]00%",
           "series": {
            "error_y": {
             "type": "data",
             "visible": true
            },
            "stacking": "stack"
           },
           "seriesOptions": {
            "column_50e4a519235": {
             "name": "total",
             "yAxis": 0
            }
           },
           "showDataLabels": false,
           "sizemode": "diameter",
           "sortX": true,
           "sortY": true,
           "swappedAxes": false,
           "textFormat": "",
           "useAggregationsUi": true,
           "valuesOptions": {},
           "version": 2,
           "xAxis": {
            "labels": {
             "enabled": true
            },
            "type": "-"
           },
           "yAxis": [
            {
             "type": "-"
            },
            {
             "opposite": true,
             "type": "-"
            }
           ]
          }
         }
        ]
       },
       "datasetPreviewNameToCmdIdMap": {},
       "diffDeletes": [],
       "diffInserts": [],
       "displayType": "redashChart",
       "error": null,
       "errorDetails": null,
       "errorSummary": null,
       "errorTraceType": null,
       "finishTime": 0,
       "globalVars": {},
       "guid": "",
       "height": "auto",
       "hideCommandCode": false,
       "hideCommandResult": false,
       "iPythonMetadata": null,
       "inputWidgets": {},
       "isLockedInExamMode": false,
       "latestUser": "a user",
       "latestUserId": null,
       "listResultMetadata": null,
       "metadata": {
        "byteLimit": 2048000,
        "implicitDf": true,
        "rowLimit": 10000
       },
       "nuid": "433c5508-8635-4d7d-b3a0-a611051a6b15",
       "origId": 0,
       "parentHierarchy": [],
       "pivotAggregation": null,
       "pivotColumns": null,
       "position": 27.0,
       "resultDbfsErrorMessage": null,
       "resultDbfsStatus": "INLINED_IN_TREE",
       "results": null,
       "showCommandTitle": false,
       "startTime": 0,
       "state": "finished",
       "streamStates": {},
       "subcommandOptions": {
        "queryPlan": {
         "groups": [
          {
           "column": "diagnostico",
           "type": "column"
          },
          {
           "column": "fumante",
           "type": "column"
          }
         ],
         "selects": [
          {
           "column": "diagnostico",
           "type": "column"
          },
          {
           "column": "fumante",
           "type": "column"
          },
          {
           "alias": "column_50e4a519235",
           "args": [
            {
             "column": "total",
             "type": "column"
            }
           ],
           "function": "SUM",
           "type": "function"
          }
         ]
        }
       },
       "submitTime": 0,
       "subtype": "tableResultSubCmd.visualization",
       "tableResultIndex": 0,
       "tableResultSettingsMap": {},
       "useConsistentColors": false,
       "version": "CommandV1",
       "width": "auto",
       "workflows": [],
       "xColumns": null,
       "yColumns": null
      }
     },
     "output_type": "display_data"
    }
   ],
   "source": [
    "%sql\n",
    "--Estilo de Vida: Fumantes por diagnóstico\n",
    "SELECT d.nome AS diagnostico, e.smoke AS fumante, COUNT(*) AS total\n",
    "FROM dw_obesidade.FatoObesidade f\n",
    "JOIN dw_obesidade.DimEstiloVida e ON f.id_estilo = e.id_estilo\n",
    "JOIN dw_obesidade.DimDiagnostico d ON f.id_diagnostico = d.id_diagnostico\n",
    "GROUP BY d.nome, e.smoke\n",
    "ORDER BY d.nome, total DESC;"
   ]
  },
  {
   "cell_type": "markdown",
   "metadata": {
    "application/vnd.databricks.v1+cell": {
     "cellMetadata": {
      "byteLimit": 2048000,
      "rowLimit": 10000
     },
     "inputWidgets": {},
     "nuid": "8c210a43-2436-4660-8134-f9eb211a387b",
     "showTitle": false,
     "tableResultSettingsMap": {},
     "title": ""
    }
   },
   "source": [
    "A distribuição da variável fumante (`SMOKE`) por diagnóstico mostra que a imensa maioria dos indivíduos, independentemente do grau de obesidade, não são fumantes ativos. Por exemplo, entre os indivíduos com obesidade tipo III, apenas 1 de 324 registros se declarou fumante. Essa tendência se mantém em todos os demais grupos diagnósticos, indicando que não há uma correlação direta entre o tabagismo atual e os níveis de obesidade.\n",
    "\n",
    "Essa observação está de acordo com estudos da literatura, que mostram que fumantes ativos tendem a apresentar IMC ligeiramente mais baixos, em função dos efeitos da nicotina sobre o apetite e o metabolismo. No entanto, ex-fumantes representam um grupo de risco importante, já que muitos ganham peso após cessarem o tabagismo, podendo substituir o vício pela alimentação compulsiva ou apresentando alterações hormonais e comportamentais após a interrupção (Klein & Ferraro, 2008).\n",
    "\n",
    "Portanto, embora o tabagismo ativo não se relacione de forma direta com a obesidade, o histórico de tabagismo e a cessação devem ser considerados em análises mais aprofundadas."
   ]
  },
  {
   "cell_type": "code",
   "execution_count": 0,
   "metadata": {
    "application/vnd.databricks.v1+cell": {
     "cellMetadata": {
      "byteLimit": 2048000,
      "implicitDf": true,
      "rowLimit": 10000
     },
     "inputWidgets": {},
     "nuid": "eed18350-d464-4814-9e9a-fb359afd7805",
     "showTitle": false,
     "tableResultSettingsMap": {},
     "title": ""
    }
   },
   "outputs": [
    {
     "output_type": "display_data",
     "data": {
      "text/html": [
       "<style scoped>\n",
       "  .table-result-container {\n",
       "    max-height: 300px;\n",
       "    overflow: auto;\n",
       "  }\n",
       "  table, th, td {\n",
       "    border: 1px solid black;\n",
       "    border-collapse: collapse;\n",
       "  }\n",
       "  th, td {\n",
       "    padding: 5px;\n",
       "  }\n",
       "  th {\n",
       "    text-align: left;\n",
       "  }\n",
       "</style><div class='table-result-container'><table class='table-result'><thead style='background-color: white'><tr><th>diagnostico</th><th>controle_calorias</th><th>total</th></tr></thead><tbody><tr><td>Insufficient_Weight</td><td>no</td><td>250</td></tr><tr><td>Insufficient_Weight</td><td>yes</td><td>22</td></tr><tr><td>Normal_Weight</td><td>no</td><td>257</td></tr><tr><td>Normal_Weight</td><td>yes</td><td>30</td></tr><tr><td>Obesity_Type_I</td><td>no</td><td>349</td></tr><tr><td>Obesity_Type_I</td><td>yes</td><td>2</td></tr><tr><td>Obesity_Type_II</td><td>no</td><td>296</td></tr><tr><td>Obesity_Type_II</td><td>yes</td><td>1</td></tr><tr><td>Obesity_Type_III</td><td>no</td><td>324</td></tr><tr><td>Overweight_Level_I</td><td>no</td><td>253</td></tr><tr><td>Overweight_Level_I</td><td>yes</td><td>37</td></tr><tr><td>Overweight_Level_II</td><td>no</td><td>286</td></tr><tr><td>Overweight_Level_II</td><td>yes</td><td>4</td></tr></tbody></table></div>"
      ]
     },
     "metadata": {
      "application/vnd.databricks.v1+output": {
       "addedWidgets": {},
       "aggData": [],
       "aggError": "",
       "aggOverflow": false,
       "aggSchema": [],
       "aggSeriesLimitReached": false,
       "aggType": "",
       "arguments": {},
       "columnCustomDisplayInfos": {},
       "data": [
        [
         "Insufficient_Weight",
         "no",
         250
        ],
        [
         "Insufficient_Weight",
         "yes",
         22
        ],
        [
         "Normal_Weight",
         "no",
         257
        ],
        [
         "Normal_Weight",
         "yes",
         30
        ],
        [
         "Obesity_Type_I",
         "no",
         349
        ],
        [
         "Obesity_Type_I",
         "yes",
         2
        ],
        [
         "Obesity_Type_II",
         "no",
         296
        ],
        [
         "Obesity_Type_II",
         "yes",
         1
        ],
        [
         "Obesity_Type_III",
         "no",
         324
        ],
        [
         "Overweight_Level_I",
         "no",
         253
        ],
        [
         "Overweight_Level_I",
         "yes",
         37
        ],
        [
         "Overweight_Level_II",
         "no",
         286
        ],
        [
         "Overweight_Level_II",
         "yes",
         4
        ]
       ],
       "datasetInfos": [],
       "dbfsResultPath": null,
       "isJsonSchema": true,
       "metadata": {},
       "overflow": false,
       "plotOptions": {
        "customPlotOptions": {},
        "displayType": "table",
        "pivotAggregation": null,
        "pivotColumns": null,
        "xColumns": null,
        "yColumns": null
       },
       "removedWidgets": [],
       "schema": [
        {
         "metadata": "{}",
         "name": "diagnostico",
         "type": "\"string\""
        },
        {
         "metadata": "{}",
         "name": "controle_calorias",
         "type": "\"string\""
        },
        {
         "metadata": "{}",
         "name": "total",
         "type": "\"long\""
        }
       ],
       "type": "table"
      }
     },
     "output_type": "display_data"
    },
    {
     "output_type": "display_data",
     "data": {
      "text/plain": [
       "Databricks visualization. Run in Databricks to view."
      ]
     },
     "metadata": {
      "application/vnd.databricks.v1.subcommand+json": {
       "baseErrorDetails": null,
       "bindings": {},
       "collapsed": false,
       "command": "%sql WITH q AS (SELECT \n  d.nome AS diagnostico,\n  e.scc AS controle_calorias,\n  COUNT(*) AS total\nFROM dw_obesidade.FatoObesidade f\nJOIN dw_obesidade.DimEstiloVida e ON f.id_estilo = e.id_estilo\nJOIN dw_obesidade.DimDiagnostico d ON f.id_diagnostico = d.id_diagnostico\nGROUP BY d.nome, e.scc\nORDER BY d.nome, total DESC) SELECT `diagnostico`,`controle_calorias`,SUM(`total`) `column_50e4a519554` FROM q GROUP BY `controle_calorias`,`diagnostico`",
       "commandTitle": "Visualization 1",
       "commandType": "auto",
       "commandVersion": 0,
       "commentThread": [],
       "commentsVisible": false,
       "contentSha256Hex": null,
       "customPlotOptions": {
        "redashChart": [
         {
          "key": "type",
          "value": "CHART"
         },
         {
          "key": "options",
          "value": {
           "alignYAxesAtZero": true,
           "coefficient": 1,
           "columnConfigurationMap": {
            "series": {
             "column": "controle_calorias",
             "id": "column_50e4a519553"
            },
            "x": {
             "column": "diagnostico",
             "id": "column_50e4a519552"
            },
            "y": [
             {
              "column": "total",
              "id": "column_50e4a519554",
              "transform": "SUM"
             }
            ]
           },
           "dateTimeFormat": "DD/MM/YYYY HH:mm",
           "direction": {
            "type": "counterclockwise"
           },
           "error_y": {
            "type": "data",
            "visible": true
           },
           "globalSeriesType": "column",
           "isAggregationOn": true,
           "legend": {
            "traceorder": "normal"
           },
           "missingValuesAsZero": true,
           "numberFormat": "0,0.[00000]",
           "percentFormat": "0[.]00%",
           "series": {
            "error_y": {
             "type": "data",
             "visible": true
            },
            "stacking": "stack"
           },
           "seriesOptions": {
            "column_50e4a519554": {
             "name": "total",
             "yAxis": 0
            }
           },
           "showDataLabels": false,
           "sizemode": "diameter",
           "sortX": true,
           "sortY": true,
           "swappedAxes": false,
           "textFormat": "",
           "useAggregationsUi": true,
           "valuesOptions": {},
           "version": 2,
           "xAxis": {
            "labels": {
             "enabled": true
            },
            "type": "-"
           },
           "yAxis": [
            {
             "type": "-"
            },
            {
             "opposite": true,
             "type": "-"
            }
           ]
          }
         }
        ]
       },
       "datasetPreviewNameToCmdIdMap": {},
       "diffDeletes": [],
       "diffInserts": [],
       "displayType": "redashChart",
       "error": null,
       "errorDetails": null,
       "errorSummary": null,
       "errorTraceType": null,
       "finishTime": 0,
       "globalVars": {},
       "guid": "",
       "height": "auto",
       "hideCommandCode": false,
       "hideCommandResult": false,
       "iPythonMetadata": null,
       "inputWidgets": {},
       "isLockedInExamMode": false,
       "latestUser": "a user",
       "latestUserId": null,
       "listResultMetadata": null,
       "metadata": {
        "byteLimit": 2048000,
        "implicitDf": true,
        "rowLimit": 10000
       },
       "nuid": "87c08776-2f7a-449e-8ace-fd51cb6be0dd",
       "origId": 0,
       "parentHierarchy": [],
       "pivotAggregation": null,
       "pivotColumns": null,
       "position": 27.125,
       "resultDbfsErrorMessage": null,
       "resultDbfsStatus": "INLINED_IN_TREE",
       "results": null,
       "showCommandTitle": false,
       "startTime": 0,
       "state": "finished",
       "streamStates": {},
       "subcommandOptions": {
        "queryPlan": {
         "groups": [
          {
           "column": "diagnostico",
           "type": "column"
          },
          {
           "column": "controle_calorias",
           "type": "column"
          }
         ],
         "selects": [
          {
           "column": "diagnostico",
           "type": "column"
          },
          {
           "column": "controle_calorias",
           "type": "column"
          },
          {
           "alias": "column_50e4a519554",
           "args": [
            {
             "column": "total",
             "type": "column"
            }
           ],
           "function": "SUM",
           "type": "function"
          }
         ]
        }
       },
       "submitTime": 0,
       "subtype": "tableResultSubCmd.visualization",
       "tableResultIndex": 0,
       "tableResultSettingsMap": {},
       "useConsistentColors": false,
       "version": "CommandV1",
       "width": "auto",
       "workflows": [],
       "xColumns": null,
       "yColumns": null
      }
     },
     "output_type": "display_data"
    }
   ],
   "source": [
    "%sql\n",
    "-- Hábito alimentar: monitorização da ingestão de calorias (SCC) por diagnóstico. \n",
    "-- Esta consulta cruza o diagnóstico com a variável SCC, que indica se o indivíduo afirma monitorar sua ingestão calórica. Isso ajuda a entender a relação entre autorregulação alimentar e os níveis de obesidade.\n",
    "\n",
    "SELECT \n",
    "  d.nome AS diagnostico,\n",
    "  e.scc AS controle_calorias,\n",
    "  COUNT(*) AS total\n",
    "FROM dw_obesidade.FatoObesidade f\n",
    "JOIN dw_obesidade.DimEstiloVida e ON f.id_estilo = e.id_estilo\n",
    "JOIN dw_obesidade.DimDiagnostico d ON f.id_diagnostico = d.id_diagnostico\n",
    "GROUP BY d.nome, e.scc\n",
    "ORDER BY d.nome, total DESC;"
   ]
  },
  {
   "cell_type": "markdown",
   "metadata": {
    "application/vnd.databricks.v1+cell": {
     "cellMetadata": {
      "byteLimit": 2048000,
      "rowLimit": 10000
     },
     "inputWidgets": {},
     "nuid": "cc2549d1-2c7a-450c-b80b-4416f8ce5b79",
     "showTitle": false,
     "tableResultSettingsMap": {},
     "title": ""
    }
   },
   "source": [
    "A análise da variável `SCC` (se o indivíduo afirma monitorar sua ingestão calórica) por tipo de diagnóstico revela uma tendência nítida: quanto maior o grau de obesidade, menor a frequência de controle consciente da alimentação. Diagnósticos como obesidade tipo I, II e III apresentam proporções mais baixas de indivíduos que afirmam controlar o consumo calórico, com destaque para o tipo III, em que nenhum registro foi identificado como \"sim\".\n",
    "\n",
    "Por outro lado, categorias como peso normal e peso insuficiente apresentam percentuais significativamente mais altos de pessoas que monitoram sua alimentação (aproximadamente 10% a 12%). Esses dados sugerem uma possível relação comportamental inversa entre obesidade e autorregulação alimentar, o que está alinhado com estudos que associam o controle consciente da dieta com menor IMC (Ball et al., 2006).\n",
    "\n",
    "Essa relação pode ser explorada futuramente como variável preditora de risco em modelos de machine learning, ou como indicador comportamental em intervenções de saúde pública."
   ]
  },
  {
   "cell_type": "code",
   "execution_count": 0,
   "metadata": {
    "application/vnd.databricks.v1+cell": {
     "cellMetadata": {
      "byteLimit": 2048000,
      "implicitDf": true,
      "rowLimit": 10000
     },
     "inputWidgets": {},
     "nuid": "9cc03c7a-699a-4cff-ad89-ed631ae4d9aa",
     "showTitle": false,
     "tableResultSettingsMap": {},
     "title": ""
    }
   },
   "outputs": [
    {
     "output_type": "display_data",
     "data": {
      "text/html": [
       "<style scoped>\n",
       "  .table-result-container {\n",
       "    max-height: 300px;\n",
       "    overflow: auto;\n",
       "  }\n",
       "  table, th, td {\n",
       "    border: 1px solid black;\n",
       "    border-collapse: collapse;\n",
       "  }\n",
       "  th, td {\n",
       "    padding: 5px;\n",
       "  }\n",
       "  th {\n",
       "    text-align: left;\n",
       "  }\n",
       "</style><div class='table-result-container'><table class='table-result'><thead style='background-color: white'><tr><th>diagnostico</th><th>consumo_alcool</th><th>total</th></tr></thead><tbody><tr><td>Insufficient_Weight</td><td>Sometimes</td><td>154</td></tr><tr><td>Insufficient_Weight</td><td>no</td><td>117</td></tr><tr><td>Insufficient_Weight</td><td>Frequently</td><td>1</td></tr><tr><td>Normal_Weight</td><td>Sometimes</td><td>161</td></tr><tr><td>Normal_Weight</td><td>no</td><td>107</td></tr><tr><td>Normal_Weight</td><td>Frequently</td><td>18</td></tr><tr><td>Normal_Weight</td><td>Always</td><td>1</td></tr><tr><td>Obesity_Type_I</td><td>Sometimes</td><td>172</td></tr><tr><td>Obesity_Type_I</td><td>no</td><td>165</td></tr><tr><td>Obesity_Type_I</td><td>Frequently</td><td>14</td></tr><tr><td>Obesity_Type_II</td><td>Sometimes</td><td>224</td></tr><tr><td>Obesity_Type_II</td><td>no</td><td>71</td></tr><tr><td>Obesity_Type_II</td><td>Frequently</td><td>2</td></tr><tr><td>Obesity_Type_III</td><td>Sometimes</td><td>323</td></tr><tr><td>Obesity_Type_III</td><td>no</td><td>1</td></tr><tr><td>Overweight_Level_I</td><td>Sometimes</td><td>224</td></tr><tr><td>Overweight_Level_I</td><td>no</td><td>50</td></tr><tr><td>Overweight_Level_I</td><td>Frequently</td><td>16</td></tr><tr><td>Overweight_Level_II</td><td>Sometimes</td><td>143</td></tr><tr><td>Overweight_Level_II</td><td>no</td><td>128</td></tr><tr><td>Overweight_Level_II</td><td>Frequently</td><td>19</td></tr></tbody></table></div>"
      ]
     },
     "metadata": {
      "application/vnd.databricks.v1+output": {
       "addedWidgets": {},
       "aggData": [],
       "aggError": "",
       "aggOverflow": false,
       "aggSchema": [],
       "aggSeriesLimitReached": false,
       "aggType": "",
       "arguments": {},
       "columnCustomDisplayInfos": {},
       "data": [
        [
         "Insufficient_Weight",
         "Sometimes",
         154
        ],
        [
         "Insufficient_Weight",
         "no",
         117
        ],
        [
         "Insufficient_Weight",
         "Frequently",
         1
        ],
        [
         "Normal_Weight",
         "Sometimes",
         161
        ],
        [
         "Normal_Weight",
         "no",
         107
        ],
        [
         "Normal_Weight",
         "Frequently",
         18
        ],
        [
         "Normal_Weight",
         "Always",
         1
        ],
        [
         "Obesity_Type_I",
         "Sometimes",
         172
        ],
        [
         "Obesity_Type_I",
         "no",
         165
        ],
        [
         "Obesity_Type_I",
         "Frequently",
         14
        ],
        [
         "Obesity_Type_II",
         "Sometimes",
         224
        ],
        [
         "Obesity_Type_II",
         "no",
         71
        ],
        [
         "Obesity_Type_II",
         "Frequently",
         2
        ],
        [
         "Obesity_Type_III",
         "Sometimes",
         323
        ],
        [
         "Obesity_Type_III",
         "no",
         1
        ],
        [
         "Overweight_Level_I",
         "Sometimes",
         224
        ],
        [
         "Overweight_Level_I",
         "no",
         50
        ],
        [
         "Overweight_Level_I",
         "Frequently",
         16
        ],
        [
         "Overweight_Level_II",
         "Sometimes",
         143
        ],
        [
         "Overweight_Level_II",
         "no",
         128
        ],
        [
         "Overweight_Level_II",
         "Frequently",
         19
        ]
       ],
       "datasetInfos": [],
       "dbfsResultPath": null,
       "isJsonSchema": true,
       "metadata": {},
       "overflow": false,
       "plotOptions": {
        "customPlotOptions": {},
        "displayType": "table",
        "pivotAggregation": null,
        "pivotColumns": null,
        "xColumns": null,
        "yColumns": null
       },
       "removedWidgets": [],
       "schema": [
        {
         "metadata": "{}",
         "name": "diagnostico",
         "type": "\"string\""
        },
        {
         "metadata": "{}",
         "name": "consumo_alcool",
         "type": "\"string\""
        },
        {
         "metadata": "{}",
         "name": "total",
         "type": "\"long\""
        }
       ],
       "type": "table"
      }
     },
     "output_type": "display_data"
    },
    {
     "output_type": "display_data",
     "data": {
      "text/plain": [
       "Databricks visualization. Run in Databricks to view."
      ]
     },
     "metadata": {
      "application/vnd.databricks.v1.subcommand+json": {
       "baseErrorDetails": null,
       "bindings": {},
       "collapsed": false,
       "command": "%sql WITH q AS (SELECT d.nome AS diagnostico, h.calc AS consumo_alcool, COUNT(*) AS total\nFROM dw_obesidade.FatoObesidade f\nJOIN dw_obesidade.DimHabitosAlimentares h ON f.id_habito = h.id_habito\nJOIN dw_obesidade.DimDiagnostico d ON f.id_diagnostico = d.id_diagnostico\nGROUP BY d.nome, h.calc\nORDER BY d.nome, total DESC) SELECT `diagnostico`,`consumo_alcool`,SUM(`total`) `column_50e4a519258` FROM q GROUP BY `consumo_alcool`,`diagnostico`",
       "commandTitle": "Visualization 1",
       "commandType": "auto",
       "commandVersion": 0,
       "commentThread": [],
       "commentsVisible": false,
       "contentSha256Hex": null,
       "customPlotOptions": {
        "redashChart": [
         {
          "key": "type",
          "value": "CHART"
         },
         {
          "key": "options",
          "value": {
           "alignYAxesAtZero": true,
           "coefficient": 1,
           "columnConfigurationMap": {
            "series": {
             "column": "consumo_alcool",
             "id": "column_50e4a519257"
            },
            "x": {
             "column": "diagnostico",
             "id": "column_50e4a519256"
            },
            "y": [
             {
              "column": "total",
              "id": "column_50e4a519258",
              "transform": "SUM"
             }
            ]
           },
           "dateTimeFormat": "DD/MM/YYYY HH:mm",
           "direction": {
            "type": "counterclockwise"
           },
           "error_y": {
            "type": "data",
            "visible": true
           },
           "globalSeriesType": "column",
           "isAggregationOn": true,
           "legend": {
            "traceorder": "normal"
           },
           "missingValuesAsZero": true,
           "numberFormat": "0,0.[00000]",
           "percentFormat": "0[.]00%",
           "series": {
            "error_y": {
             "type": "data",
             "visible": true
            },
            "stacking": "stack"
           },
           "seriesOptions": {
            "Always": {
             "color": "#E92828"
            },
            "Frequently": {
             "color": "#356AFF"
            },
            "Sometimes": {
             "color": "#FB8D3D"
            },
            "column_50e4a519258": {
             "name": "total",
             "yAxis": 0
            },
            "no": {
             "color": "#3BD973"
            }
           },
           "showDataLabels": false,
           "sizemode": "diameter",
           "sortX": true,
           "sortY": true,
           "swappedAxes": false,
           "textFormat": "",
           "useAggregationsUi": true,
           "valuesOptions": {},
           "version": 2,
           "xAxis": {
            "labels": {
             "enabled": true
            },
            "type": "-"
           },
           "yAxis": [
            {
             "type": "-"
            },
            {
             "opposite": true,
             "type": "-"
            }
           ]
          }
         }
        ]
       },
       "datasetPreviewNameToCmdIdMap": {},
       "diffDeletes": [],
       "diffInserts": [],
       "displayType": "redashChart",
       "error": null,
       "errorDetails": null,
       "errorSummary": null,
       "errorTraceType": null,
       "finishTime": 0,
       "globalVars": {},
       "guid": "",
       "height": "auto",
       "hideCommandCode": false,
       "hideCommandResult": false,
       "iPythonMetadata": null,
       "inputWidgets": {},
       "isLockedInExamMode": false,
       "latestUser": "a user",
       "latestUserId": null,
       "listResultMetadata": null,
       "metadata": {
        "byteLimit": 2048000,
        "implicitDf": true,
        "rowLimit": 10000
       },
       "nuid": "58ab1911-d35f-4142-a650-8ce95616a612",
       "origId": 0,
       "parentHierarchy": [],
       "pivotAggregation": null,
       "pivotColumns": null,
       "position": 27.25,
       "resultDbfsErrorMessage": null,
       "resultDbfsStatus": "INLINED_IN_TREE",
       "results": null,
       "showCommandTitle": false,
       "startTime": 0,
       "state": "finished",
       "streamStates": {},
       "subcommandOptions": {
        "queryPlan": {
         "groups": [
          {
           "column": "diagnostico",
           "type": "column"
          },
          {
           "column": "consumo_alcool",
           "type": "column"
          }
         ],
         "selects": [
          {
           "column": "diagnostico",
           "type": "column"
          },
          {
           "column": "consumo_alcool",
           "type": "column"
          },
          {
           "alias": "column_50e4a519258",
           "args": [
            {
             "column": "total",
             "type": "column"
            }
           ],
           "function": "SUM",
           "type": "function"
          }
         ]
        }
       },
       "submitTime": 0,
       "subtype": "tableResultSubCmd.visualization",
       "tableResultIndex": 0,
       "tableResultSettingsMap": {},
       "useConsistentColors": false,
       "version": "CommandV1",
       "width": "auto",
       "workflows": [],
       "xColumns": null,
       "yColumns": null
      }
     },
     "output_type": "display_data"
    }
   ],
   "source": [
    "%sql\n",
    "-- Hábito Alimentar: Consumo de alimentos calóricos (CALC) por diagnóstico\n",
    "SELECT d.nome AS diagnostico, h.calc AS consumo_alcool, COUNT(*) AS total\n",
    "FROM dw_obesidade.FatoObesidade f\n",
    "JOIN dw_obesidade.DimHabitosAlimentares h ON f.id_habito = h.id_habito\n",
    "JOIN dw_obesidade.DimDiagnostico d ON f.id_diagnostico = d.id_diagnostico\n",
    "GROUP BY d.nome, h.calc\n",
    "ORDER BY d.nome, total DESC;"
   ]
  },
  {
   "cell_type": "markdown",
   "metadata": {
    "application/vnd.databricks.v1+cell": {
     "cellMetadata": {
      "byteLimit": 2048000,
      "rowLimit": 10000
     },
     "inputWidgets": {},
     "nuid": "b88eb9f7-10d4-4eec-bb3f-b19509598c51",
     "showTitle": false,
     "tableResultSettingsMap": {},
     "title": ""
    }
   },
   "source": [
    "Avaliando os dados acima, pudemos observar que a variável `CALC` (frequência de consumo de álcool) não apresentou uma associação consistente com os diferentes diagnósticos de obesidade. Em praticamente todos os grupos, a categoria \"às vezes\" (\"sometimes\") é a mais comum, inclusive entre indivíduos com obesidade tipo III, onde 323 dos 324 registros estão nessa categoria.\n",
    "\n",
    "Essa ausência de variação pode indicar tanto uma baixa prevalência real de consumo frequente, quanto uma possível subnotificação ou viés de resposta nos dados coletados. Assim, não é possível, com base neste conjunto de dados, afirmar que o consumo de álcool esteja associado ao risco de obesidade de forma significativa."
   ]
  },
  {
   "cell_type": "code",
   "execution_count": 0,
   "metadata": {
    "application/vnd.databricks.v1+cell": {
     "cellMetadata": {
      "byteLimit": 2048000,
      "implicitDf": true,
      "rowLimit": 10000
     },
     "inputWidgets": {},
     "nuid": "209e0a8b-9b2e-495d-8d9d-6a544965c16b",
     "showTitle": false,
     "tableResultSettingsMap": {},
     "title": ""
    }
   },
   "outputs": [
    {
     "output_type": "display_data",
     "data": {
      "text/html": [
       "<style scoped>\n",
       "  .table-result-container {\n",
       "    max-height: 300px;\n",
       "    overflow: auto;\n",
       "  }\n",
       "  table, th, td {\n",
       "    border: 1px solid black;\n",
       "    border-collapse: collapse;\n",
       "  }\n",
       "  th, td {\n",
       "    padding: 5px;\n",
       "  }\n",
       "  th {\n",
       "    text-align: left;\n",
       "  }\n",
       "</style><div class='table-result-container'><table class='table-result'><thead style='background-color: white'><tr><th>diagnostico</th><th>lanche_entre_refeicoes</th><th>total</th></tr></thead><tbody><tr><td>Insufficient_Weight</td><td>Sometimes</td><td>146</td></tr><tr><td>Insufficient_Weight</td><td>Frequently</td><td>121</td></tr><tr><td>Insufficient_Weight</td><td>no</td><td>3</td></tr><tr><td>Insufficient_Weight</td><td>Always</td><td>2</td></tr><tr><td>Normal_Weight</td><td>Sometimes</td><td>159</td></tr><tr><td>Normal_Weight</td><td>Frequently</td><td>83</td></tr><tr><td>Normal_Weight</td><td>Always</td><td>35</td></tr><tr><td>Normal_Weight</td><td>no</td><td>10</td></tr><tr><td>Obesity_Type_I</td><td>Sometimes</td><td>338</td></tr><tr><td>Obesity_Type_I</td><td>Always</td><td>6</td></tr><tr><td>Obesity_Type_I</td><td>Frequently</td><td>6</td></tr><tr><td>Obesity_Type_I</td><td>no</td><td>1</td></tr><tr><td>Obesity_Type_II</td><td>Sometimes</td><td>293</td></tr><tr><td>Obesity_Type_II</td><td>Always</td><td>2</td></tr><tr><td>Obesity_Type_II</td><td>Frequently</td><td>1</td></tr><tr><td>Obesity_Type_II</td><td>no</td><td>1</td></tr><tr><td>Obesity_Type_III</td><td>Sometimes</td><td>323</td></tr><tr><td>Obesity_Type_III</td><td>Frequently</td><td>1</td></tr><tr><td>Overweight_Level_I</td><td>Sometimes</td><td>236</td></tr><tr><td>Overweight_Level_I</td><td>no</td><td>35</td></tr><tr><td>Overweight_Level_I</td><td>Frequently</td><td>14</td></tr><tr><td>Overweight_Level_I</td><td>Always</td><td>5</td></tr><tr><td>Overweight_Level_II</td><td>Sometimes</td><td>270</td></tr><tr><td>Overweight_Level_II</td><td>Frequently</td><td>16</td></tr><tr><td>Overweight_Level_II</td><td>Always</td><td>3</td></tr><tr><td>Overweight_Level_II</td><td>no</td><td>1</td></tr></tbody></table></div>"
      ]
     },
     "metadata": {
      "application/vnd.databricks.v1+output": {
       "addedWidgets": {},
       "aggData": [],
       "aggError": "",
       "aggOverflow": false,
       "aggSchema": [],
       "aggSeriesLimitReached": false,
       "aggType": "",
       "arguments": {},
       "columnCustomDisplayInfos": {},
       "data": [
        [
         "Insufficient_Weight",
         "Sometimes",
         146
        ],
        [
         "Insufficient_Weight",
         "Frequently",
         121
        ],
        [
         "Insufficient_Weight",
         "no",
         3
        ],
        [
         "Insufficient_Weight",
         "Always",
         2
        ],
        [
         "Normal_Weight",
         "Sometimes",
         159
        ],
        [
         "Normal_Weight",
         "Frequently",
         83
        ],
        [
         "Normal_Weight",
         "Always",
         35
        ],
        [
         "Normal_Weight",
         "no",
         10
        ],
        [
         "Obesity_Type_I",
         "Sometimes",
         338
        ],
        [
         "Obesity_Type_I",
         "Always",
         6
        ],
        [
         "Obesity_Type_I",
         "Frequently",
         6
        ],
        [
         "Obesity_Type_I",
         "no",
         1
        ],
        [
         "Obesity_Type_II",
         "Sometimes",
         293
        ],
        [
         "Obesity_Type_II",
         "Always",
         2
        ],
        [
         "Obesity_Type_II",
         "Frequently",
         1
        ],
        [
         "Obesity_Type_II",
         "no",
         1
        ],
        [
         "Obesity_Type_III",
         "Sometimes",
         323
        ],
        [
         "Obesity_Type_III",
         "Frequently",
         1
        ],
        [
         "Overweight_Level_I",
         "Sometimes",
         236
        ],
        [
         "Overweight_Level_I",
         "no",
         35
        ],
        [
         "Overweight_Level_I",
         "Frequently",
         14
        ],
        [
         "Overweight_Level_I",
         "Always",
         5
        ],
        [
         "Overweight_Level_II",
         "Sometimes",
         270
        ],
        [
         "Overweight_Level_II",
         "Frequently",
         16
        ],
        [
         "Overweight_Level_II",
         "Always",
         3
        ],
        [
         "Overweight_Level_II",
         "no",
         1
        ]
       ],
       "datasetInfos": [],
       "dbfsResultPath": null,
       "isJsonSchema": true,
       "metadata": {},
       "overflow": false,
       "plotOptions": {
        "customPlotOptions": {},
        "displayType": "table",
        "pivotAggregation": null,
        "pivotColumns": null,
        "xColumns": null,
        "yColumns": null
       },
       "removedWidgets": [],
       "schema": [
        {
         "metadata": "{}",
         "name": "diagnostico",
         "type": "\"string\""
        },
        {
         "metadata": "{}",
         "name": "lanche_entre_refeicoes",
         "type": "\"string\""
        },
        {
         "metadata": "{}",
         "name": "total",
         "type": "\"long\""
        }
       ],
       "type": "table"
      }
     },
     "output_type": "display_data"
    },
    {
     "output_type": "display_data",
     "data": {
      "text/plain": [
       "Databricks visualization. Run in Databricks to view."
      ]
     },
     "metadata": {
      "application/vnd.databricks.v1.subcommand+json": {
       "baseErrorDetails": null,
       "bindings": {},
       "collapsed": false,
       "command": "%sql WITH q AS (SELECT d.nome AS diagnostico, h.caec AS lanche_entre_refeicoes, COUNT(*) AS total\nFROM dw_obesidade.FatoObesidade f\nJOIN dw_obesidade.DimHabitosAlimentares h ON f.id_habito = h.id_habito\nJOIN dw_obesidade.DimDiagnostico d ON f.id_diagnostico = d.id_diagnostico\nGROUP BY d.nome, h.caec\nORDER BY d.nome, total DESC) SELECT `diagnostico`,`lanche_entre_refeicoes`,SUM(`total`) `column_50e4a519281` FROM q GROUP BY `diagnostico`,`lanche_entre_refeicoes`",
       "commandTitle": "Visualization 1",
       "commandType": "auto",
       "commandVersion": 0,
       "commentThread": [],
       "commentsVisible": false,
       "contentSha256Hex": null,
       "customPlotOptions": {
        "redashChart": [
         {
          "key": "type",
          "value": "CHART"
         },
         {
          "key": "options",
          "value": {
           "alignYAxesAtZero": true,
           "coefficient": 1,
           "columnConfigurationMap": {
            "series": {
             "column": "lanche_entre_refeicoes",
             "id": "column_50e4a519280"
            },
            "x": {
             "column": "diagnostico",
             "id": "column_50e4a519279"
            },
            "y": [
             {
              "column": "total",
              "id": "column_50e4a519281",
              "transform": "SUM"
             }
            ]
           },
           "dateTimeFormat": "DD/MM/YYYY HH:mm",
           "direction": {
            "type": "counterclockwise"
           },
           "error_y": {
            "type": "data",
            "visible": true
           },
           "globalSeriesType": "column",
           "isAggregationOn": true,
           "legend": {
            "traceorder": "normal"
           },
           "missingValuesAsZero": true,
           "numberFormat": "0,0.[00000]",
           "percentFormat": "0[.]00%",
           "series": {
            "error_y": {
             "type": "data",
             "visible": true
            },
            "stacking": "stack"
           },
           "seriesOptions": {
            "Sometimes": {
             "color": "#FB8D3D"
            },
            "column_50e4a519281": {
             "name": "total",
             "yAxis": 0
            },
            "no": {
             "color": "#3BD973"
            }
           },
           "showDataLabels": false,
           "sizemode": "diameter",
           "sortX": true,
           "sortY": true,
           "swappedAxes": false,
           "textFormat": "",
           "useAggregationsUi": true,
           "valuesOptions": {},
           "version": 2,
           "xAxis": {
            "labels": {
             "enabled": true
            },
            "type": "-"
           },
           "yAxis": [
            {
             "type": "-"
            },
            {
             "opposite": true,
             "type": "-"
            }
           ]
          }
         }
        ]
       },
       "datasetPreviewNameToCmdIdMap": {},
       "diffDeletes": [],
       "diffInserts": [],
       "displayType": "redashChart",
       "error": null,
       "errorDetails": null,
       "errorSummary": null,
       "errorTraceType": null,
       "finishTime": 0,
       "globalVars": {},
       "guid": "",
       "height": "auto",
       "hideCommandCode": false,
       "hideCommandResult": false,
       "iPythonMetadata": null,
       "inputWidgets": {},
       "isLockedInExamMode": false,
       "latestUser": "a user",
       "latestUserId": null,
       "listResultMetadata": null,
       "metadata": {
        "byteLimit": 2048000,
        "implicitDf": true,
        "rowLimit": 10000
       },
       "nuid": "bbc37828-25a8-4368-8775-df6a6118c1d9",
       "origId": 0,
       "parentHierarchy": [],
       "pivotAggregation": null,
       "pivotColumns": null,
       "position": 27.375,
       "resultDbfsErrorMessage": null,
       "resultDbfsStatus": "INLINED_IN_TREE",
       "results": null,
       "showCommandTitle": false,
       "startTime": 0,
       "state": "finished",
       "streamStates": {},
       "subcommandOptions": {
        "queryPlan": {
         "groups": [
          {
           "column": "diagnostico",
           "type": "column"
          },
          {
           "column": "lanche_entre_refeicoes",
           "type": "column"
          }
         ],
         "selects": [
          {
           "column": "diagnostico",
           "type": "column"
          },
          {
           "column": "lanche_entre_refeicoes",
           "type": "column"
          },
          {
           "alias": "column_50e4a519281",
           "args": [
            {
             "column": "total",
             "type": "column"
            }
           ],
           "function": "SUM",
           "type": "function"
          }
         ]
        }
       },
       "submitTime": 0,
       "subtype": "tableResultSubCmd.visualization",
       "tableResultIndex": 0,
       "tableResultSettingsMap": {},
       "useConsistentColors": false,
       "version": "CommandV1",
       "width": "auto",
       "workflows": [],
       "xColumns": null,
       "yColumns": null
      }
     },
     "output_type": "display_data"
    }
   ],
   "source": [
    "%sql\n",
    "-- Hábito Alimentar: Frequência de refeições entre as principais (CAEC)\n",
    "SELECT d.nome AS diagnostico, h.caec AS lanche_entre_refeicoes, COUNT(*) AS total\n",
    "FROM dw_obesidade.FatoObesidade f\n",
    "JOIN dw_obesidade.DimHabitosAlimentares h ON f.id_habito = h.id_habito\n",
    "JOIN dw_obesidade.DimDiagnostico d ON f.id_diagnostico = d.id_diagnostico\n",
    "GROUP BY d.nome, h.caec\n",
    "ORDER BY d.nome, total DESC;"
   ]
  },
  {
   "cell_type": "markdown",
   "metadata": {
    "application/vnd.databricks.v1+cell": {
     "cellMetadata": {
      "byteLimit": 2048000,
      "rowLimit": 10000
     },
     "inputWidgets": {},
     "nuid": "58798ded-4e9f-441b-922a-8f18040f4528",
     "showTitle": false,
     "tableResultSettingsMap": {},
     "title": ""
    }
   },
   "source": [
    "Os dados relacionados ao consumo entre refeições (`CAEC`) apresentam uma concentração atípica de respostas na categoria \"às vezes\" (\"sometimes\"), mesmo entre os grupos com obesidade mais grave. Essa homogeneidade excessiva levanta dúvidas quanto à fidedignidade dos dados, sugerindo a possibilidade de viés de resposta socialmente desejável ou amplificação de distorções durante a geração sintética dos dados com SMOTE.\n",
    "\n",
    "Embora o hábito de consumir alimentos entre refeições seja reconhecidamente um fator de risco para obesidade quando realizado de forma frequente e descontrolada, os dados aqui analisados não refletem essa tendência, o que limita conclusões mais precisas sobre essa relação. Estudos apontam que lanches frequentes entre refeições, especialmente aqueles ricos em calorias e pobres em nutrientes, estão associados ao aumento de peso e risco metabólico (LUDWIG; EBELING, 2020)."
   ]
  },
  {
   "cell_type": "markdown",
   "metadata": {
    "application/vnd.databricks.v1+cell": {
     "cellMetadata": {
      "byteLimit": 2048000,
      "rowLimit": 10000
     },
     "inputWidgets": {},
     "nuid": "b10be8ca-dc86-43cf-ae0e-c4c0f0f433a6",
     "showTitle": false,
     "tableResultSettingsMap": {},
     "title": ""
    }
   },
   "source": [
    "Valores numéricos:"
   ]
  },
  {
   "cell_type": "code",
   "execution_count": 0,
   "metadata": {
    "application/vnd.databricks.v1+cell": {
     "cellMetadata": {
      "byteLimit": 2048000,
      "implicitDf": true,
      "rowLimit": 10000
     },
     "inputWidgets": {},
     "nuid": "eb0fc8b1-b00e-4db6-a0d4-61fe64480e97",
     "showTitle": false,
     "tableResultSettingsMap": {},
     "title": ""
    }
   },
   "outputs": [
    {
     "output_type": "display_data",
     "data": {
      "text/html": [
       "<style scoped>\n",
       "  .table-result-container {\n",
       "    max-height: 300px;\n",
       "    overflow: auto;\n",
       "  }\n",
       "  table, th, td {\n",
       "    border: 1px solid black;\n",
       "    border-collapse: collapse;\n",
       "  }\n",
       "  th, td {\n",
       "    padding: 5px;\n",
       "  }\n",
       "  th {\n",
       "    text-align: left;\n",
       "  }\n",
       "</style><div class='table-result-container'><table class='table-result'><thead style='background-color: white'><tr><th>faixa_etaria</th><th>diagnostico</th><th>total</th></tr></thead><tbody><tr><td>14-20</td><td>Insufficient_Weight</td><td>180</td></tr><tr><td>14-20</td><td>Normal_Weight</td><td>132</td></tr><tr><td>14-20</td><td>Overweight_Level_I</td><td>94</td></tr><tr><td>14-20</td><td>Obesity_Type_I</td><td>76</td></tr><tr><td>14-20</td><td>Overweight_Level_II</td><td>59</td></tr><tr><td>14-20</td><td>Obesity_Type_III</td><td>43</td></tr><tr><td>14-20</td><td>Obesity_Type_II</td><td>1</td></tr><tr><td>21-30</td><td>Obesity_Type_III</td><td>248</td></tr><tr><td>21-30</td><td>Obesity_Type_II</td><td>179</td></tr><tr><td>21-30</td><td>Obesity_Type_I</td><td>173</td></tr><tr><td>21-30</td><td>Overweight_Level_I</td><td>148</td></tr><tr><td>21-30</td><td>Normal_Weight</td><td>137</td></tr><tr><td>21-30</td><td>Overweight_Level_II</td><td>125</td></tr><tr><td>21-30</td><td>Insufficient_Weight</td><td>71</td></tr><tr><td>31-40</td><td>Overweight_Level_II</td><td>75</td></tr><tr><td>31-40</td><td>Obesity_Type_I</td><td>58</td></tr><tr><td>31-40</td><td>Obesity_Type_II</td><td>53</td></tr><tr><td>31-40</td><td>Overweight_Level_I</td><td>37</td></tr><tr><td>31-40</td><td>Normal_Weight</td><td>16</td></tr><tr><td>31-40</td><td>Insufficient_Weight</td><td>3</td></tr><tr><td>41-50</td><td>Obesity_Type_I</td><td>15</td></tr><tr><td>41-50</td><td>Overweight_Level_II</td><td>10</td></tr><tr><td>41-50</td><td>Obesity_Type_II</td><td>4</td></tr><tr><td>41-50</td><td>Overweight_Level_I</td><td>2</td></tr><tr><td>51-61</td><td>Obesity_Type_II</td><td>60</td></tr><tr><td>51-61</td><td>Obesity_Type_III</td><td>33</td></tr><tr><td>51-61</td><td>Obesity_Type_I</td><td>29</td></tr><tr><td>51-61</td><td>Overweight_Level_II</td><td>21</td></tr><tr><td>51-61</td><td>Insufficient_Weight</td><td>18</td></tr><tr><td>51-61</td><td>Overweight_Level_I</td><td>9</td></tr><tr><td>51-61</td><td>Normal_Weight</td><td>2</td></tr></tbody></table></div>"
      ]
     },
     "metadata": {
      "application/vnd.databricks.v1+output": {
       "addedWidgets": {},
       "aggData": [],
       "aggError": "",
       "aggOverflow": false,
       "aggSchema": [],
       "aggSeriesLimitReached": false,
       "aggType": "",
       "arguments": {},
       "columnCustomDisplayInfos": {},
       "data": [
        [
         "14-20",
         "Insufficient_Weight",
         180
        ],
        [
         "14-20",
         "Normal_Weight",
         132
        ],
        [
         "14-20",
         "Overweight_Level_I",
         94
        ],
        [
         "14-20",
         "Obesity_Type_I",
         76
        ],
        [
         "14-20",
         "Overweight_Level_II",
         59
        ],
        [
         "14-20",
         "Obesity_Type_III",
         43
        ],
        [
         "14-20",
         "Obesity_Type_II",
         1
        ],
        [
         "21-30",
         "Obesity_Type_III",
         248
        ],
        [
         "21-30",
         "Obesity_Type_II",
         179
        ],
        [
         "21-30",
         "Obesity_Type_I",
         173
        ],
        [
         "21-30",
         "Overweight_Level_I",
         148
        ],
        [
         "21-30",
         "Normal_Weight",
         137
        ],
        [
         "21-30",
         "Overweight_Level_II",
         125
        ],
        [
         "21-30",
         "Insufficient_Weight",
         71
        ],
        [
         "31-40",
         "Overweight_Level_II",
         75
        ],
        [
         "31-40",
         "Obesity_Type_I",
         58
        ],
        [
         "31-40",
         "Obesity_Type_II",
         53
        ],
        [
         "31-40",
         "Overweight_Level_I",
         37
        ],
        [
         "31-40",
         "Normal_Weight",
         16
        ],
        [
         "31-40",
         "Insufficient_Weight",
         3
        ],
        [
         "41-50",
         "Obesity_Type_I",
         15
        ],
        [
         "41-50",
         "Overweight_Level_II",
         10
        ],
        [
         "41-50",
         "Obesity_Type_II",
         4
        ],
        [
         "41-50",
         "Overweight_Level_I",
         2
        ],
        [
         "51-61",
         "Obesity_Type_II",
         60
        ],
        [
         "51-61",
         "Obesity_Type_III",
         33
        ],
        [
         "51-61",
         "Obesity_Type_I",
         29
        ],
        [
         "51-61",
         "Overweight_Level_II",
         21
        ],
        [
         "51-61",
         "Insufficient_Weight",
         18
        ],
        [
         "51-61",
         "Overweight_Level_I",
         9
        ],
        [
         "51-61",
         "Normal_Weight",
         2
        ]
       ],
       "datasetInfos": [],
       "dbfsResultPath": null,
       "isJsonSchema": true,
       "metadata": {},
       "overflow": false,
       "plotOptions": {
        "customPlotOptions": {},
        "displayType": "table",
        "pivotAggregation": null,
        "pivotColumns": null,
        "xColumns": null,
        "yColumns": null
       },
       "removedWidgets": [],
       "schema": [
        {
         "metadata": "{}",
         "name": "faixa_etaria",
         "type": "\"string\""
        },
        {
         "metadata": "{}",
         "name": "diagnostico",
         "type": "\"string\""
        },
        {
         "metadata": "{}",
         "name": "total",
         "type": "\"long\""
        }
       ],
       "type": "table"
      }
     },
     "output_type": "display_data"
    },
    {
     "output_type": "display_data",
     "data": {
      "text/plain": [
       "Databricks visualization. Run in Databricks to view."
      ]
     },
     "metadata": {
      "application/vnd.databricks.v1.subcommand+json": {
       "baseErrorDetails": null,
       "bindings": {},
       "collapsed": false,
       "command": "%sql WITH q AS (SELECT\n  CASE\n    WHEN p.age BETWEEN 14 AND 20 THEN '14-20'\n    WHEN p.age BETWEEN 21 AND 30 THEN '21-30'\n    WHEN p.age BETWEEN 31 AND 40 THEN '31-40'\n    WHEN p.age BETWEEN 41 AND 50 THEN '41-50'\n    ELSE '51-61'\n  END AS faixa_etaria,\n  d.nome AS diagnostico,\n  COUNT(*) AS total\nFROM dw_obesidade.FatoObesidade f\nJOIN dw_obesidade.DimPessoa p ON f.id_pessoa = p.id_pessoa\nJOIN dw_obesidade.DimDiagnostico d ON f.id_diagnostico = d.id_diagnostico\nGROUP BY faixa_etaria, d.nome\nORDER BY faixa_etaria, total DESC) SELECT `faixa_etaria`,`diagnostico`,SUM(`total`) `column_50e4a519632` FROM q GROUP BY `diagnostico`,`faixa_etaria`",
       "commandTitle": "Visualization 1",
       "commandType": "auto",
       "commandVersion": 0,
       "commentThread": [],
       "commentsVisible": false,
       "contentSha256Hex": null,
       "customPlotOptions": {
        "redashChart": [
         {
          "key": "type",
          "value": "CHART"
         },
         {
          "key": "options",
          "value": {
           "alignYAxesAtZero": true,
           "coefficient": 1,
           "columnConfigurationMap": {
            "series": {
             "column": "diagnostico",
             "id": "column_50e4a519631"
            },
            "x": {
             "column": "faixa_etaria",
             "id": "column_50e4a519630"
            },
            "y": [
             {
              "column": "total",
              "id": "column_50e4a519632",
              "transform": "SUM"
             }
            ]
           },
           "dateTimeFormat": "DD/MM/YYYY HH:mm",
           "direction": {
            "type": "counterclockwise"
           },
           "error_y": {
            "type": "data",
            "visible": true
           },
           "globalSeriesType": "pie",
           "isAggregationOn": true,
           "legend": {
            "traceorder": "normal"
           },
           "missingValuesAsZero": true,
           "numberFormat": "0,0.[00000]",
           "percentFormat": "0[.]00%",
           "series": {
            "error_y": {
             "type": "data",
             "visible": true
            },
            "stacking": null
           },
           "seriesOptions": {
            "column_50e4a519632": {
             "name": "total",
             "type": "pie",
             "yAxis": 0
            }
           },
           "showDataLabels": true,
           "sizemode": "diameter",
           "sortX": true,
           "sortY": true,
           "swappedAxes": false,
           "textFormat": "",
           "useAggregationsUi": true,
           "valuesOptions": {
            "41-50": {
             "color": "#FB8D3D"
            }
           },
           "version": 2,
           "xAxis": {
            "labels": {
             "enabled": true
            },
            "type": "-"
           },
           "yAxis": [
            {
             "type": "-"
            },
            {
             "opposite": true,
             "type": "-"
            }
           ]
          }
         }
        ]
       },
       "datasetPreviewNameToCmdIdMap": {},
       "diffDeletes": [],
       "diffInserts": [],
       "displayType": "redashChart",
       "error": null,
       "errorDetails": null,
       "errorSummary": null,
       "errorTraceType": null,
       "finishTime": 0,
       "globalVars": {},
       "guid": "",
       "height": "auto",
       "hideCommandCode": false,
       "hideCommandResult": false,
       "iPythonMetadata": null,
       "inputWidgets": {},
       "isLockedInExamMode": false,
       "latestUser": "a user",
       "latestUserId": null,
       "listResultMetadata": null,
       "metadata": {
        "byteLimit": 2048000,
        "implicitDf": true,
        "rowLimit": 10000
       },
       "nuid": "3f4cb46e-c315-4736-a94a-bf53cf174a13",
       "origId": 0,
       "parentHierarchy": [],
       "pivotAggregation": null,
       "pivotColumns": null,
       "position": 27.453125,
       "resultDbfsErrorMessage": null,
       "resultDbfsStatus": "INLINED_IN_TREE",
       "results": null,
       "showCommandTitle": false,
       "startTime": 0,
       "state": "finished",
       "streamStates": {},
       "subcommandOptions": {
        "queryPlan": {
         "groups": [
          {
           "column": "faixa_etaria",
           "type": "column"
          },
          {
           "column": "diagnostico",
           "type": "column"
          }
         ],
         "selects": [
          {
           "column": "faixa_etaria",
           "type": "column"
          },
          {
           "column": "diagnostico",
           "type": "column"
          },
          {
           "alias": "column_50e4a519632",
           "args": [
            {
             "column": "total",
             "type": "column"
            }
           ],
           "function": "SUM",
           "type": "function"
          }
         ]
        }
       },
       "submitTime": 0,
       "subtype": "tableResultSubCmd.visualization",
       "tableResultIndex": 0,
       "tableResultSettingsMap": {},
       "useConsistentColors": false,
       "version": "CommandV1",
       "width": "auto",
       "workflows": [],
       "xColumns": null,
       "yColumns": null
      }
     },
     "output_type": "display_data"
    }
   ],
   "source": [
    "%sql\n",
    "-- Diagnóstico por Faixa Etária\n",
    "-- Agrupamos as idades em faixas e cruzamos com o tipo de diagnóstico, identificando possíveis padrões de obesidade ao longo do tempo de vida. \n",
    "SELECT\n",
    "  CASE\n",
    "    WHEN p.age BETWEEN 14 AND 20 THEN '14-20'\n",
    "    WHEN p.age BETWEEN 21 AND 30 THEN '21-30'\n",
    "    WHEN p.age BETWEEN 31 AND 40 THEN '31-40'\n",
    "    WHEN p.age BETWEEN 41 AND 50 THEN '41-50'\n",
    "    ELSE '51-61'\n",
    "  END AS faixa_etaria,\n",
    "  d.nome AS diagnostico,\n",
    "  COUNT(*) AS total\n",
    "FROM dw_obesidade.FatoObesidade f\n",
    "JOIN dw_obesidade.DimPessoa p ON f.id_pessoa = p.id_pessoa\n",
    "JOIN dw_obesidade.DimDiagnostico d ON f.id_diagnostico = d.id_diagnostico\n",
    "GROUP BY faixa_etaria, d.nome\n",
    "ORDER BY faixa_etaria, total DESC;"
   ]
  },
  {
   "cell_type": "markdown",
   "metadata": {
    "application/vnd.databricks.v1+cell": {
     "cellMetadata": {
      "byteLimit": 2048000,
      "rowLimit": 10000
     },
     "inputWidgets": {},
     "nuid": "e73729a6-a0eb-4632-b9f2-7dfc17c3b8b0",
     "showTitle": false,
     "tableResultSettingsMap": {},
     "title": ""
    }
   },
   "source": [
    "Ao analisarmos a distribuição dos tipos de diagnóstico por faixa etária, observa-se uma concentração incomum de indivíduos com obesidade moderada a grave (tipos I, II e III) na faixa dos 21–30 anos. Nessa faixa etária, mais de 55% dos registros estão associados a algum grau de obesidade, sendo que o tipo III representa o diagnóstico mais comum (248 casos de um total de 1081).\n",
    "\n",
    "Esse comportamento se mostra discrepante quando comparado com estudos populacionais reais. De acordo com o CDC (CDC, 2024), a prevalência de obesidade em adultos dos Estados Unidos segue um padrão crescente com a idade, sendo de:\n",
    "\n",
    "- 39,6% entre adultos de 20–39 anos\n",
    "- 45,9% entre adultos de 40–59 anos\n",
    "- 43,3% entre adultos com 60 anos ou mais\n",
    "\n",
    "Dessa forma, a alta concentração de casos de obesidade grau III entre adultos jovens pode indicar a presença de viés de geração sintética, uma vez que 77% do dataset foi produzido artificialmente utilizando o algoritmo SMOTE. Essa técnica tende a replicar e amplificar padrões já existentes em subconjuntos minoritários, o que pode ter gerado uma super-representação de obesidade grave nessa faixa etária."
   ]
  },
  {
   "cell_type": "code",
   "execution_count": 0,
   "metadata": {
    "application/vnd.databricks.v1+cell": {
     "cellMetadata": {
      "byteLimit": 2048000,
      "implicitDf": true,
      "rowLimit": 10000
     },
     "inputWidgets": {},
     "nuid": "cb37f907-ac81-4e84-88d0-ba2a0112140e",
     "showTitle": false,
     "tableResultSettingsMap": {},
     "title": ""
    }
   },
   "outputs": [
    {
     "output_type": "display_data",
     "data": {
      "text/html": [
       "<style scoped>\n",
       "  .table-result-container {\n",
       "    max-height: 300px;\n",
       "    overflow: auto;\n",
       "  }\n",
       "  table, th, td {\n",
       "    border: 1px solid black;\n",
       "    border-collapse: collapse;\n",
       "  }\n",
       "  th, td {\n",
       "    padding: 5px;\n",
       "  }\n",
       "  th {\n",
       "    text-align: left;\n",
       "  }\n",
       "</style><div class='table-result-container'><table class='table-result'><thead style='background-color: white'><tr><th>diagnostico</th><th>media_atividade_fisica</th></tr></thead><tbody><tr><td>Insufficient_Weight</td><td>1.25</td></tr><tr><td>Normal_Weight</td><td>1.25</td></tr><tr><td>Overweight_Level_I</td><td>1.06</td></tr><tr><td>Obesity_Type_I</td><td>0.99</td></tr><tr><td>Obesity_Type_II</td><td>0.97</td></tr><tr><td>Overweight_Level_II</td><td>0.96</td></tr><tr><td>Obesity_Type_III</td><td>0.66</td></tr></tbody></table></div>"
      ]
     },
     "metadata": {
      "application/vnd.databricks.v1+output": {
       "addedWidgets": {},
       "aggData": [],
       "aggError": "",
       "aggOverflow": false,
       "aggSchema": [],
       "aggSeriesLimitReached": false,
       "aggType": "",
       "arguments": {},
       "columnCustomDisplayInfos": {},
       "data": [
        [
         "Insufficient_Weight",
         1.25
        ],
        [
         "Normal_Weight",
         1.25
        ],
        [
         "Overweight_Level_I",
         1.06
        ],
        [
         "Obesity_Type_I",
         0.99
        ],
        [
         "Obesity_Type_II",
         0.97
        ],
        [
         "Overweight_Level_II",
         0.96
        ],
        [
         "Obesity_Type_III",
         0.66
        ]
       ],
       "datasetInfos": [],
       "dbfsResultPath": null,
       "isJsonSchema": true,
       "metadata": {},
       "overflow": false,
       "plotOptions": {
        "customPlotOptions": {},
        "displayType": "table",
        "pivotAggregation": null,
        "pivotColumns": null,
        "xColumns": null,
        "yColumns": null
       },
       "removedWidgets": [],
       "schema": [
        {
         "metadata": "{}",
         "name": "diagnostico",
         "type": "\"string\""
        },
        {
         "metadata": "{}",
         "name": "media_atividade_fisica",
         "type": "\"double\""
        }
       ],
       "type": "table"
      }
     },
     "output_type": "display_data"
    },
    {
     "output_type": "display_data",
     "data": {
      "text/plain": [
       "Databricks visualization. Run in Databricks to view."
      ]
     },
     "metadata": {
      "application/vnd.databricks.v1.subcommand+json": {
       "baseErrorDetails": null,
       "bindings": {},
       "collapsed": false,
       "command": "%sql WITH q AS (SELECT d.nome AS diagnostico, ROUND(AVG(e.faf), 2) AS media_atividade_fisica\nFROM dw_obesidade.FatoObesidade f\nJOIN dw_obesidade.DimEstiloVida e ON f.id_estilo = e.id_estilo\nJOIN dw_obesidade.DimDiagnostico d ON f.id_diagnostico = d.id_diagnostico\nGROUP BY d.nome\nORDER BY media_atividade_fisica DESC) SELECT `diagnostico`,SUM(`media_atividade_fisica`) `column_50e4a519310` FROM q GROUP BY `diagnostico`",
       "commandTitle": "Visualization 1",
       "commandType": "auto",
       "commandVersion": 0,
       "commentThread": [],
       "commentsVisible": false,
       "contentSha256Hex": null,
       "customPlotOptions": {
        "redashChart": [
         {
          "key": "type",
          "value": "CHART"
         },
         {
          "key": "options",
          "value": {
           "alignYAxesAtZero": true,
           "coefficient": 1,
           "columnConfigurationMap": {
            "x": {
             "column": "diagnostico",
             "id": "column_50e4a519309"
            },
            "y": [
             {
              "column": "media_atividade_fisica",
              "id": "column_50e4a519310",
              "transform": "SUM"
             }
            ]
           },
           "dateTimeFormat": "DD/MM/YYYY HH:mm",
           "direction": {
            "type": "counterclockwise"
           },
           "error_y": {
            "type": "data",
            "visible": true
           },
           "globalSeriesType": "column",
           "isAggregationOn": true,
           "legend": {
            "traceorder": "normal"
           },
           "missingValuesAsZero": true,
           "numberFormat": "0,0.[00000]",
           "percentFormat": "0[.]00%",
           "series": {
            "error_y": {
             "type": "data",
             "visible": true
            },
            "stacking": null
           },
           "seriesOptions": {
            "column_50e4a519310": {
             "name": "media_atividade_fisica",
             "type": "column",
             "yAxis": 0
            }
           },
           "showDataLabels": false,
           "sizemode": "diameter",
           "sortX": true,
           "sortY": true,
           "swappedAxes": false,
           "textFormat": "",
           "useAggregationsUi": true,
           "valuesOptions": {},
           "version": 2,
           "xAxis": {
            "labels": {
             "enabled": true
            },
            "type": "-"
           },
           "yAxis": [
            {
             "type": "-"
            },
            {
             "opposite": true,
             "type": "-"
            }
           ]
          }
         }
        ]
       },
       "datasetPreviewNameToCmdIdMap": {},
       "diffDeletes": [],
       "diffInserts": [],
       "displayType": "redashChart",
       "error": null,
       "errorDetails": null,
       "errorSummary": null,
       "errorTraceType": null,
       "finishTime": 0,
       "globalVars": {},
       "guid": "",
       "height": "auto",
       "hideCommandCode": false,
       "hideCommandResult": false,
       "iPythonMetadata": null,
       "inputWidgets": {},
       "isLockedInExamMode": false,
       "latestUser": "a user",
       "latestUserId": null,
       "listResultMetadata": null,
       "metadata": {
        "byteLimit": 2048000,
        "implicitDf": true,
        "rowLimit": 10000
       },
       "nuid": "1d618eca-64c9-4568-9e26-e52df7ffbbaa",
       "origId": 0,
       "parentHierarchy": [],
       "pivotAggregation": null,
       "pivotColumns": null,
       "position": 27.46875,
       "resultDbfsErrorMessage": null,
       "resultDbfsStatus": "INLINED_IN_TREE",
       "results": null,
       "showCommandTitle": false,
       "startTime": 0,
       "state": "finished",
       "streamStates": {},
       "subcommandOptions": {
        "queryPlan": {
         "groups": [
          {
           "column": "diagnostico",
           "type": "column"
          }
         ],
         "selects": [
          {
           "column": "diagnostico",
           "type": "column"
          },
          {
           "alias": "column_50e4a519310",
           "args": [
            {
             "column": "media_atividade_fisica",
             "type": "column"
            }
           ],
           "function": "SUM",
           "type": "function"
          }
         ]
        }
       },
       "submitTime": 0,
       "subtype": "tableResultSubCmd.visualization",
       "tableResultIndex": 0,
       "tableResultSettingsMap": {},
       "useConsistentColors": false,
       "version": "CommandV1",
       "width": "auto",
       "workflows": [],
       "xColumns": null,
       "yColumns": null
      }
     },
     "output_type": "display_data"
    }
   ],
   "source": [
    "%sql\n",
    "--Estilo de Vida: Tempo médio de atividade física por diagnóstico (FAF)\n",
    "SELECT d.nome AS diagnostico, ROUND(AVG(e.faf), 2) AS media_atividade_fisica\n",
    "FROM dw_obesidade.FatoObesidade f\n",
    "JOIN dw_obesidade.DimEstiloVida e ON f.id_estilo = e.id_estilo\n",
    "JOIN dw_obesidade.DimDiagnostico d ON f.id_diagnostico = d.id_diagnostico\n",
    "GROUP BY d.nome\n",
    "ORDER BY media_atividade_fisica DESC;"
   ]
  },
  {
   "cell_type": "markdown",
   "metadata": {
    "application/vnd.databricks.v1+cell": {
     "cellMetadata": {
      "byteLimit": 2048000,
      "rowLimit": 10000
     },
     "inputWidgets": {},
     "nuid": "266cce1f-1af7-42c8-9440-d5b072261345",
     "showTitle": false,
     "tableResultSettingsMap": {},
     "title": ""
    }
   },
   "source": [
    "A análise da frequência de atividade física (`FAF`) mostra um padrão parcialmente de acordo com o esperado: indivíduos com peso normal e insuficiente realizam, em média, mais atividade física do que os demais, enquanto aqueles com obesidade grau III apresentam o menor valor médio (0.66). Esse resultado está alinhado com estudos que associam níveis mais graves de obesidade à redução da mobilidade e à maior limitação física (WHO, 2023).\n",
    "\n",
    "No entanto, entre os demais diagnósticos — especialmente entre os grupos sobrepeso e obesidades tipo I e II —, observa-se pouca variação na média de atividade física, o que pode indicar uma limitação dos dados em representar adequadamente essa dimensão do estilo de vida. A relativa homogeneidade pode ter sido influenciada por fatores como a geração sintética dos dados, ou ainda pelo viés do autorrelato, em que participantes tendem a superestimar seus níveis de atividade.\n",
    "\n",
    "Assim, embora os dados apontem na direção correta, a baixa granularidade compromete a análise mais precisa da relação entre atividade física e obesidade, especialmente nos níveis intermediários da condição."
   ]
  },
  {
   "cell_type": "code",
   "execution_count": 0,
   "metadata": {
    "application/vnd.databricks.v1+cell": {
     "cellMetadata": {
      "byteLimit": 2048000,
      "implicitDf": true,
      "rowLimit": 10000
     },
     "inputWidgets": {},
     "nuid": "c6747f50-ef24-4367-ab51-c013e9e07d44",
     "showTitle": false,
     "tableResultSettingsMap": {},
     "title": ""
    }
   },
   "outputs": [
    {
     "output_type": "display_data",
     "data": {
      "text/html": [
       "<style scoped>\n",
       "  .table-result-container {\n",
       "    max-height: 300px;\n",
       "    overflow: auto;\n",
       "  }\n",
       "  table, th, td {\n",
       "    border: 1px solid black;\n",
       "    border-collapse: collapse;\n",
       "  }\n",
       "  th, td {\n",
       "    padding: 5px;\n",
       "  }\n",
       "  th {\n",
       "    text-align: left;\n",
       "  }\n",
       "</style><div class='table-result-container'><table class='table-result'><thead style='background-color: white'><tr><th>diagnostico</th><th>media_tempo_tecnologia</th></tr></thead><tbody><tr><td>Insufficient_Weight</td><td>0.84</td></tr><tr><td>Overweight_Level_II</td><td>0.7</td></tr><tr><td>Normal_Weight</td><td>0.68</td></tr><tr><td>Obesity_Type_I</td><td>0.68</td></tr><tr><td>Overweight_Level_I</td><td>0.61</td></tr><tr><td>Obesity_Type_III</td><td>0.6</td></tr><tr><td>Obesity_Type_II</td><td>0.52</td></tr></tbody></table></div>"
      ]
     },
     "metadata": {
      "application/vnd.databricks.v1+output": {
       "addedWidgets": {},
       "aggData": [],
       "aggError": "",
       "aggOverflow": false,
       "aggSchema": [],
       "aggSeriesLimitReached": false,
       "aggType": "",
       "arguments": {},
       "columnCustomDisplayInfos": {},
       "data": [
        [
         "Insufficient_Weight",
         0.84
        ],
        [
         "Overweight_Level_II",
         0.7
        ],
        [
         "Normal_Weight",
         0.68
        ],
        [
         "Obesity_Type_I",
         0.68
        ],
        [
         "Overweight_Level_I",
         0.61
        ],
        [
         "Obesity_Type_III",
         0.6
        ],
        [
         "Obesity_Type_II",
         0.52
        ]
       ],
       "datasetInfos": [],
       "dbfsResultPath": null,
       "isJsonSchema": true,
       "metadata": {},
       "overflow": false,
       "plotOptions": {
        "customPlotOptions": {},
        "displayType": "table",
        "pivotAggregation": null,
        "pivotColumns": null,
        "xColumns": null,
        "yColumns": null
       },
       "removedWidgets": [],
       "schema": [
        {
         "metadata": "{}",
         "name": "diagnostico",
         "type": "\"string\""
        },
        {
         "metadata": "{}",
         "name": "media_tempo_tecnologia",
         "type": "\"double\""
        }
       ],
       "type": "table"
      }
     },
     "output_type": "display_data"
    },
    {
     "output_type": "display_data",
     "data": {
      "text/plain": [
       "Databricks visualization. Run in Databricks to view."
      ]
     },
     "metadata": {
      "application/vnd.databricks.v1.subcommand+json": {
       "baseErrorDetails": null,
       "bindings": {},
       "collapsed": false,
       "command": "%sql WITH q AS (SELECT d.nome AS diagnostico, ROUND(AVG(e.tue), 2) AS media_tempo_tecnologia\nFROM dw_obesidade.FatoObesidade f\nJOIN dw_obesidade.DimEstiloVida e ON f.id_estilo = e.id_estilo\nJOIN dw_obesidade.DimDiagnostico d ON f.id_diagnostico = d.id_diagnostico\nGROUP BY d.nome\nORDER BY media_tempo_tecnologia DESC) SELECT `diagnostico`,SUM(`media_tempo_tecnologia`) `column_50e4a519376` FROM q GROUP BY `diagnostico`",
       "commandTitle": "Visualization 1",
       "commandType": "auto",
       "commandVersion": 0,
       "commentThread": [],
       "commentsVisible": false,
       "contentSha256Hex": null,
       "customPlotOptions": {
        "redashChart": [
         {
          "key": "type",
          "value": "CHART"
         },
         {
          "key": "options",
          "value": {
           "alignYAxesAtZero": true,
           "coefficient": 1,
           "columnConfigurationMap": {
            "x": {
             "column": "diagnostico",
             "id": "column_50e4a519375"
            },
            "y": [
             {
              "column": "media_tempo_tecnologia",
              "id": "column_50e4a519376",
              "transform": "SUM"
             }
            ]
           },
           "dateTimeFormat": "DD/MM/YYYY HH:mm",
           "direction": {
            "type": "counterclockwise"
           },
           "error_y": {
            "type": "data",
            "visible": true
           },
           "globalSeriesType": "column",
           "isAggregationOn": true,
           "legend": {
            "traceorder": "normal"
           },
           "missingValuesAsZero": true,
           "numberFormat": "0,0.[00000]",
           "percentFormat": "0[.]00%",
           "series": {
            "error_y": {
             "type": "data",
             "visible": true
            },
            "stacking": null
           },
           "seriesOptions": {
            "column_50e4a519376": {
             "name": "media_tempo_tecnologia",
             "yAxis": 0
            }
           },
           "showDataLabels": false,
           "sizemode": "diameter",
           "sortX": true,
           "sortY": true,
           "swappedAxes": false,
           "textFormat": "",
           "useAggregationsUi": true,
           "valuesOptions": {},
           "version": 2,
           "xAxis": {
            "labels": {
             "enabled": true
            },
            "type": "-"
           },
           "yAxis": [
            {
             "type": "-"
            },
            {
             "opposite": true,
             "type": "-"
            }
           ]
          }
         }
        ]
       },
       "datasetPreviewNameToCmdIdMap": {},
       "diffDeletes": [],
       "diffInserts": [],
       "displayType": "redashChart",
       "error": null,
       "errorDetails": null,
       "errorSummary": null,
       "errorTraceType": null,
       "finishTime": 0,
       "globalVars": {},
       "guid": "",
       "height": "auto",
       "hideCommandCode": false,
       "hideCommandResult": false,
       "iPythonMetadata": null,
       "inputWidgets": {},
       "isLockedInExamMode": false,
       "latestUser": "a user",
       "latestUserId": null,
       "listResultMetadata": null,
       "metadata": {
        "byteLimit": 2048000,
        "implicitDf": true,
        "rowLimit": 10000
       },
       "nuid": "a9ad38a2-62e7-4718-9e01-d31658fda497",
       "origId": 0,
       "parentHierarchy": [],
       "pivotAggregation": null,
       "pivotColumns": null,
       "position": 27.484375,
       "resultDbfsErrorMessage": null,
       "resultDbfsStatus": "INLINED_IN_TREE",
       "results": null,
       "showCommandTitle": false,
       "startTime": 0,
       "state": "finished",
       "streamStates": {},
       "subcommandOptions": {
        "queryPlan": {
         "groups": [
          {
           "column": "diagnostico",
           "type": "column"
          }
         ],
         "selects": [
          {
           "column": "diagnostico",
           "type": "column"
          },
          {
           "alias": "column_50e4a519376",
           "args": [
            {
             "column": "media_tempo_tecnologia",
             "type": "column"
            }
           ],
           "function": "SUM",
           "type": "function"
          }
         ]
        }
       },
       "submitTime": 0,
       "subtype": "tableResultSubCmd.visualization",
       "tableResultIndex": 0,
       "tableResultSettingsMap": {},
       "useConsistentColors": false,
       "version": "CommandV1",
       "width": "auto",
       "workflows": [],
       "xColumns": null,
       "yColumns": null
      }
     },
     "output_type": "display_data"
    }
   ],
   "source": [
    "%sql\n",
    "-- Estilo de Vida: Tempo médio de uso de tecnologia por diagnóstico (TUE). Atentando-se aqui que os valores foram classificados entre 0 e 2. 0 - para 0 à 2 horas de uso; 1 - para 3 à 5 horas; 2 - para 6 horas ou mais.\n",
    "SELECT d.nome AS diagnostico, ROUND(AVG(e.tue), 2) AS media_tempo_tecnologia\n",
    "FROM dw_obesidade.FatoObesidade f\n",
    "JOIN dw_obesidade.DimEstiloVida e ON f.id_estilo = e.id_estilo\n",
    "JOIN dw_obesidade.DimDiagnostico d ON f.id_diagnostico = d.id_diagnostico\n",
    "GROUP BY d.nome\n",
    "ORDER BY media_tempo_tecnologia DESC;"
   ]
  },
  {
   "cell_type": "markdown",
   "metadata": {
    "application/vnd.databricks.v1+cell": {
     "cellMetadata": {
      "byteLimit": 2048000,
      "rowLimit": 10000
     },
     "inputWidgets": {},
     "nuid": "8c602fbd-c74f-4bf7-a87b-88e902ae395b",
     "showTitle": false,
     "tableResultSettingsMap": {},
     "title": ""
    }
   },
   "source": [
    "A análise do tempo utilizando dispositivos tecnológicos (`TUE`) não revela uma associação significativa com os diferentes níveis de obesidade. A média de tempo para todos os diagnósticos varia entre 0.52 e 0.84, o que, segundo a codificação da variável, indica que a maior parte dos indivíduos utiliza dispositivos entre 0 a 5 horas por dia.\n",
    "\n",
    "Diferentemente de variáveis como atividade física, que apresentaram diferenças mais marcantes entre os grupos, a variável `TUE` permanece estável entre indivíduos com peso normal, sobrepeso e obesidade grave, o que não permite afirmar uma relação direta entre tempo de tela e obesidade neste conjunto de dados.\n",
    "\n",
    "Embora o sedentarismo digital seja apontado como um fator de risco em diversas pesquisas (Stiglic & Viner, 2019), neste caso, os dados possivelmente não capturam de forma precisa a variação de uso tecnológico, ou foram influenciados pela homogeneização causada pela geração sintética dos dados."
   ]
  },
  {
   "cell_type": "code",
   "execution_count": 0,
   "metadata": {
    "application/vnd.databricks.v1+cell": {
     "cellMetadata": {
      "byteLimit": 2048000,
      "implicitDf": true,
      "rowLimit": 10000
     },
     "inputWidgets": {},
     "nuid": "0fcdf6b6-1662-4a03-b4a6-f1ff6292abc8",
     "showTitle": false,
     "tableResultSettingsMap": {},
     "title": ""
    }
   },
   "outputs": [
    {
     "output_type": "display_data",
     "data": {
      "text/html": [
       "<style scoped>\n",
       "  .table-result-container {\n",
       "    max-height: 300px;\n",
       "    overflow: auto;\n",
       "  }\n",
       "  table, th, td {\n",
       "    border: 1px solid black;\n",
       "    border-collapse: collapse;\n",
       "  }\n",
       "  th, td {\n",
       "    padding: 5px;\n",
       "  }\n",
       "  th {\n",
       "    text-align: left;\n",
       "  }\n",
       "</style><div class='table-result-container'><table class='table-result'><thead style='background-color: white'><tr><th>diagnostico</th><th>media_consumo_vegetais</th></tr></thead><tbody><tr><td>Obesity_Type_III</td><td>3.0</td></tr><tr><td>Insufficient_Weight</td><td>2.48</td></tr><tr><td>Obesity_Type_II</td><td>2.39</td></tr><tr><td>Normal_Weight</td><td>2.33</td></tr><tr><td>Overweight_Level_I</td><td>2.26</td></tr><tr><td>Overweight_Level_II</td><td>2.26</td></tr><tr><td>Obesity_Type_I</td><td>2.19</td></tr></tbody></table></div>"
      ]
     },
     "metadata": {
      "application/vnd.databricks.v1+output": {
       "addedWidgets": {},
       "aggData": [],
       "aggError": "",
       "aggOverflow": false,
       "aggSchema": [],
       "aggSeriesLimitReached": false,
       "aggType": "",
       "arguments": {},
       "columnCustomDisplayInfos": {},
       "data": [
        [
         "Obesity_Type_III",
         3.0
        ],
        [
         "Insufficient_Weight",
         2.48
        ],
        [
         "Obesity_Type_II",
         2.39
        ],
        [
         "Normal_Weight",
         2.33
        ],
        [
         "Overweight_Level_I",
         2.26
        ],
        [
         "Overweight_Level_II",
         2.26
        ],
        [
         "Obesity_Type_I",
         2.19
        ]
       ],
       "datasetInfos": [],
       "dbfsResultPath": null,
       "isJsonSchema": true,
       "metadata": {},
       "overflow": false,
       "plotOptions": {
        "customPlotOptions": {},
        "displayType": "table",
        "pivotAggregation": null,
        "pivotColumns": null,
        "xColumns": null,
        "yColumns": null
       },
       "removedWidgets": [],
       "schema": [
        {
         "metadata": "{}",
         "name": "diagnostico",
         "type": "\"string\""
        },
        {
         "metadata": "{}",
         "name": "media_consumo_vegetais",
         "type": "\"double\""
        }
       ],
       "type": "table"
      }
     },
     "output_type": "display_data"
    },
    {
     "output_type": "display_data",
     "data": {
      "text/plain": [
       "Databricks visualization. Run in Databricks to view."
      ]
     },
     "metadata": {
      "application/vnd.databricks.v1.subcommand+json": {
       "baseErrorDetails": null,
       "bindings": {},
       "collapsed": false,
       "command": "%sql WITH q AS (SELECT d.nome AS diagnostico, ROUND(AVG(h.fcvc), 2) AS media_consumo_vegetais\nFROM dw_obesidade.FatoObesidade f\nJOIN dw_obesidade.DimHabitosAlimentares h ON f.id_habito = h.id_habito\nJOIN dw_obesidade.DimDiagnostico d ON f.id_diagnostico = d.id_diagnostico\nGROUP BY d.nome\nORDER BY media_consumo_vegetais DESC) SELECT `diagnostico`,SUM(`media_consumo_vegetais`) `column_50e4a519367` FROM q GROUP BY `diagnostico`",
       "commandTitle": "Visualization 1",
       "commandType": "auto",
       "commandVersion": 0,
       "commentThread": [],
       "commentsVisible": false,
       "contentSha256Hex": null,
       "customPlotOptions": {
        "redashChart": [
         {
          "key": "type",
          "value": "CHART"
         },
         {
          "key": "options",
          "value": {
           "alignYAxesAtZero": true,
           "coefficient": 1,
           "columnConfigurationMap": {
            "x": {
             "column": "diagnostico",
             "id": "column_50e4a519366"
            },
            "y": [
             {
              "column": "media_consumo_vegetais",
              "id": "column_50e4a519367",
              "transform": "SUM"
             }
            ]
           },
           "dateTimeFormat": "DD/MM/YYYY HH:mm",
           "direction": {
            "type": "counterclockwise"
           },
           "error_y": {
            "type": "data",
            "visible": true
           },
           "globalSeriesType": "column",
           "isAggregationOn": true,
           "legend": {
            "traceorder": "normal"
           },
           "missingValuesAsZero": true,
           "numberFormat": "0,0.[00000]",
           "percentFormat": "0[.]00%",
           "series": {
            "error_y": {
             "type": "data",
             "visible": true
            },
            "stacking": null
           },
           "seriesOptions": {
            "column_50e4a519367": {
             "name": "media_consumo_vegetais",
             "yAxis": 0
            }
           },
           "showDataLabels": false,
           "sizemode": "diameter",
           "sortX": true,
           "sortY": true,
           "swappedAxes": false,
           "textFormat": "",
           "useAggregationsUi": true,
           "valuesOptions": {},
           "version": 2,
           "xAxis": {
            "labels": {
             "enabled": true
            },
            "type": "-"
           },
           "yAxis": [
            {
             "type": "-"
            },
            {
             "opposite": true,
             "type": "-"
            }
           ]
          }
         }
        ]
       },
       "datasetPreviewNameToCmdIdMap": {},
       "diffDeletes": [],
       "diffInserts": [],
       "displayType": "redashChart",
       "error": null,
       "errorDetails": null,
       "errorSummary": null,
       "errorTraceType": null,
       "finishTime": 0,
       "globalVars": {},
       "guid": "",
       "height": "auto",
       "hideCommandCode": false,
       "hideCommandResult": false,
       "iPythonMetadata": null,
       "inputWidgets": {},
       "isLockedInExamMode": false,
       "latestUser": "a user",
       "latestUserId": null,
       "listResultMetadata": null,
       "metadata": {
        "byteLimit": 2048000,
        "implicitDf": true,
        "rowLimit": 10000
       },
       "nuid": "748ac431-fdd6-4cb7-b7d3-968cf29d68e5",
       "origId": 0,
       "parentHierarchy": [],
       "pivotAggregation": null,
       "pivotColumns": null,
       "position": 27.4921875,
       "resultDbfsErrorMessage": null,
       "resultDbfsStatus": "INLINED_IN_TREE",
       "results": null,
       "showCommandTitle": false,
       "startTime": 0,
       "state": "finished",
       "streamStates": {},
       "subcommandOptions": {
        "queryPlan": {
         "groups": [
          {
           "column": "diagnostico",
           "type": "column"
          }
         ],
         "selects": [
          {
           "column": "diagnostico",
           "type": "column"
          },
          {
           "alias": "column_50e4a519367",
           "args": [
            {
             "column": "media_consumo_vegetais",
             "type": "column"
            }
           ],
           "function": "SUM",
           "type": "function"
          }
         ]
        }
       },
       "submitTime": 0,
       "subtype": "tableResultSubCmd.visualization",
       "tableResultIndex": 0,
       "tableResultSettingsMap": {},
       "useConsistentColors": false,
       "version": "CommandV1",
       "width": "auto",
       "workflows": [],
       "xColumns": null,
       "yColumns": null
      }
     },
     "output_type": "display_data"
    }
   ],
   "source": [
    "%sql\n",
    "--  Hábito Alimentar: Média de consumo de vegetais (FCVC) por diagnóstico. Atentando-se aqui que os valores foram classificados entre 1 a 3, definindo a frequência do consumo de vegetais com refeições como: 1 - nunca; 2 - às vezes; 3 - sempre\n",
    "SELECT d.nome AS diagnostico, ROUND(AVG(h.fcvc), 2) AS media_consumo_vegetais\n",
    "FROM dw_obesidade.FatoObesidade f\n",
    "JOIN dw_obesidade.DimHabitosAlimentares h ON f.id_habito = h.id_habito\n",
    "JOIN dw_obesidade.DimDiagnostico d ON f.id_diagnostico = d.id_diagnostico\n",
    "GROUP BY d.nome\n",
    "ORDER BY media_consumo_vegetais DESC;"
   ]
  },
  {
   "cell_type": "markdown",
   "metadata": {
    "application/vnd.databricks.v1+cell": {
     "cellMetadata": {
      "byteLimit": 2048000,
      "rowLimit": 10000
     },
     "inputWidgets": {},
     "nuid": "c2c48d83-4070-4a9e-adcf-422b0cd3e5bf",
     "showTitle": false,
     "tableResultSettingsMap": {},
     "title": ""
    }
   },
   "source": [
    "Os dados relacionados à frequência de consumo de vegetais com as refeições (`FCVC`) sugerem distorções estatísticas relevantes. Segundo a definição da variável, os valores variam de 1 (nunca) a 3 (sempre). A média de 3.0 para o grupo com obesidade tipo III indica que todos os indivíduos desse grupo supostamente consomem vegetais em todas as refeições, o que é estatisticamente improvável e conceitualmente contraditório.\n",
    "\n",
    "O esperado seria que grupos com menores níveis de obesidade apresentassem médias mais elevadas nessa variável, dado que o consumo frequente de vegetais está associado à menor ingestão calórica e controle de peso (Rolls et al., 2004). A inversão da tendência esperada aponta para uma provável quebra de correlação entre variáveis durante a geração sintética (SMOTE), invalidando a confiança analítica sobre essa métrica no grupo mais afetado.\n",
    "\n",
    "Assim, embora `FCVC` seja uma variável relevante do ponto de vista nutricional, os dados aqui analisados não permitem inferências confiáveis, sendo necessária uma revisão da composição sintética da amostra."
   ]
  },
  {
   "cell_type": "code",
   "execution_count": 0,
   "metadata": {
    "application/vnd.databricks.v1+cell": {
     "cellMetadata": {
      "byteLimit": 2048000,
      "implicitDf": true,
      "rowLimit": 10000
     },
     "inputWidgets": {},
     "nuid": "8b6de6ba-be42-4708-9e81-11a82576530f",
     "showTitle": false,
     "tableResultSettingsMap": {},
     "title": ""
    }
   },
   "outputs": [
    {
     "output_type": "display_data",
     "data": {
      "text/html": [
       "<style scoped>\n",
       "  .table-result-container {\n",
       "    max-height: 300px;\n",
       "    overflow: auto;\n",
       "  }\n",
       "  table, th, td {\n",
       "    border: 1px solid black;\n",
       "    border-collapse: collapse;\n",
       "  }\n",
       "  th, td {\n",
       "    padding: 5px;\n",
       "  }\n",
       "  th {\n",
       "    text-align: left;\n",
       "  }\n",
       "</style><div class='table-result-container'><table class='table-result'><thead style='background-color: white'><tr><th>diagnostico</th><th>media_agua</th></tr></thead><tbody><tr><td>Obesity_Type_III</td><td>2.21</td></tr><tr><td>Obesity_Type_I</td><td>2.11</td></tr><tr><td>Overweight_Level_I</td><td>2.06</td></tr><tr><td>Overweight_Level_II</td><td>2.03</td></tr><tr><td>Obesity_Type_II</td><td>1.88</td></tr><tr><td>Insufficient_Weight</td><td>1.87</td></tr><tr><td>Normal_Weight</td><td>1.85</td></tr></tbody></table></div>"
      ]
     },
     "metadata": {
      "application/vnd.databricks.v1+output": {
       "addedWidgets": {},
       "aggData": [],
       "aggError": "",
       "aggOverflow": false,
       "aggSchema": [],
       "aggSeriesLimitReached": false,
       "aggType": "",
       "arguments": {},
       "columnCustomDisplayInfos": {},
       "data": [
        [
         "Obesity_Type_III",
         2.21
        ],
        [
         "Obesity_Type_I",
         2.11
        ],
        [
         "Overweight_Level_I",
         2.06
        ],
        [
         "Overweight_Level_II",
         2.03
        ],
        [
         "Obesity_Type_II",
         1.88
        ],
        [
         "Insufficient_Weight",
         1.87
        ],
        [
         "Normal_Weight",
         1.85
        ]
       ],
       "datasetInfos": [],
       "dbfsResultPath": null,
       "isJsonSchema": true,
       "metadata": {},
       "overflow": false,
       "plotOptions": {
        "customPlotOptions": {},
        "displayType": "table",
        "pivotAggregation": null,
        "pivotColumns": null,
        "xColumns": null,
        "yColumns": null
       },
       "removedWidgets": [],
       "schema": [
        {
         "metadata": "{}",
         "name": "diagnostico",
         "type": "\"string\""
        },
        {
         "metadata": "{}",
         "name": "media_agua",
         "type": "\"double\""
        }
       ],
       "type": "table"
      }
     },
     "output_type": "display_data"
    },
    {
     "output_type": "display_data",
     "data": {
      "text/plain": [
       "Databricks visualization. Run in Databricks to view."
      ]
     },
     "metadata": {
      "application/vnd.databricks.v1.subcommand+json": {
       "baseErrorDetails": null,
       "bindings": {},
       "collapsed": false,
       "command": "%sql WITH q AS (SELECT d.nome AS diagnostico, ROUND(AVG(h.ch2o), 2) AS media_agua\nFROM dw_obesidade.FatoObesidade f\nJOIN dw_obesidade.DimHabitosAlimentares h ON f.id_habito = h.id_habito\nJOIN dw_obesidade.DimDiagnostico d ON f.id_diagnostico = d.id_diagnostico\nGROUP BY d.nome\nORDER BY media_agua DESC) SELECT `diagnostico`,SUM(`media_agua`) `column_50e4a519358` FROM q GROUP BY `diagnostico`",
       "commandTitle": "Visualization 1",
       "commandType": "auto",
       "commandVersion": 0,
       "commentThread": [],
       "commentsVisible": false,
       "contentSha256Hex": null,
       "customPlotOptions": {
        "redashChart": [
         {
          "key": "type",
          "value": "CHART"
         },
         {
          "key": "options",
          "value": {
           "alignYAxesAtZero": true,
           "coefficient": 1,
           "columnConfigurationMap": {
            "x": {
             "column": "diagnostico",
             "id": "column_50e4a519357"
            },
            "y": [
             {
              "column": "media_agua",
              "id": "column_50e4a519358",
              "transform": "SUM"
             }
            ]
           },
           "dateTimeFormat": "DD/MM/YYYY HH:mm",
           "direction": {
            "type": "counterclockwise"
           },
           "error_y": {
            "type": "data",
            "visible": true
           },
           "globalSeriesType": "column",
           "isAggregationOn": true,
           "legend": {
            "traceorder": "normal"
           },
           "missingValuesAsZero": true,
           "numberFormat": "0,0.[00000]",
           "percentFormat": "0[.]00%",
           "series": {
            "error_y": {
             "type": "data",
             "visible": true
            },
            "stacking": null
           },
           "seriesOptions": {
            "column_50e4a519358": {
             "name": "media_agua",
             "yAxis": 0
            }
           },
           "showDataLabels": false,
           "sizemode": "diameter",
           "sortX": true,
           "sortY": true,
           "swappedAxes": false,
           "textFormat": "",
           "useAggregationsUi": true,
           "valuesOptions": {},
           "version": 2,
           "xAxis": {
            "labels": {
             "enabled": true
            },
            "type": "-"
           },
           "yAxis": [
            {
             "type": "-"
            },
            {
             "opposite": true,
             "type": "-"
            }
           ]
          }
         }
        ]
       },
       "datasetPreviewNameToCmdIdMap": {},
       "diffDeletes": [],
       "diffInserts": [],
       "displayType": "redashChart",
       "error": null,
       "errorDetails": null,
       "errorSummary": null,
       "errorTraceType": null,
       "finishTime": 0,
       "globalVars": {},
       "guid": "",
       "height": "auto",
       "hideCommandCode": false,
       "hideCommandResult": false,
       "iPythonMetadata": null,
       "inputWidgets": {},
       "isLockedInExamMode": false,
       "latestUser": "a user",
       "latestUserId": null,
       "listResultMetadata": null,
       "metadata": {
        "byteLimit": 2048000,
        "implicitDf": true,
        "rowLimit": 10000
       },
       "nuid": "affbdf3e-39db-45e9-8602-b89bd0cf9d4a",
       "origId": 0,
       "parentHierarchy": [],
       "pivotAggregation": null,
       "pivotColumns": null,
       "position": 27.49609375,
       "resultDbfsErrorMessage": null,
       "resultDbfsStatus": "INLINED_IN_TREE",
       "results": null,
       "showCommandTitle": false,
       "startTime": 0,
       "state": "finished",
       "streamStates": {},
       "subcommandOptions": {
        "queryPlan": {
         "groups": [
          {
           "column": "diagnostico",
           "type": "column"
          }
         ],
         "selects": [
          {
           "column": "diagnostico",
           "type": "column"
          },
          {
           "alias": "column_50e4a519358",
           "args": [
            {
             "column": "media_agua",
             "type": "column"
            }
           ],
           "function": "SUM",
           "type": "function"
          }
         ]
        }
       },
       "submitTime": 0,
       "subtype": "tableResultSubCmd.visualization",
       "tableResultIndex": 0,
       "tableResultSettingsMap": {},
       "useConsistentColors": false,
       "version": "CommandV1",
       "width": "auto",
       "workflows": [],
       "xColumns": null,
       "yColumns": null
      }
     },
     "output_type": "display_data"
    }
   ],
   "source": [
    "%sql\n",
    "-- Hábito Alimentar: Média de ingestão de água (CH2O) por diagnóstico\n",
    "SELECT d.nome AS diagnostico, ROUND(AVG(h.ch2o), 2) AS media_agua\n",
    "FROM dw_obesidade.FatoObesidade f\n",
    "JOIN dw_obesidade.DimHabitosAlimentares h ON f.id_habito = h.id_habito\n",
    "JOIN dw_obesidade.DimDiagnostico d ON f.id_diagnostico = d.id_diagnostico\n",
    "GROUP BY d.nome\n",
    "ORDER BY media_agua DESC;"
   ]
  },
  {
   "cell_type": "markdown",
   "metadata": {
    "application/vnd.databricks.v1+cell": {
     "cellMetadata": {
      "byteLimit": 2048000,
      "rowLimit": 10000
     },
     "inputWidgets": {},
     "nuid": "fcd6d940-bdc0-421d-b0c0-1971c41de264",
     "showTitle": false,
     "tableResultSettingsMap": {},
     "title": ""
    }
   },
   "source": [
    "A análise da ingestão de água (`CH2O`) não mostra uma relação consistente entre os diferentes níveis de obesidade. A média de consumo varia pouco entre os grupos — de 1,85 (peso normal) a 2,21 (obesidade grau III) —, indicando que praticamente todos os indivíduos consomem entre 1,5 e 3 litros de água por dia. Curiosamente, os grupos com obesidade mais grave apresentam médias ligeiramente mais altas, o que contraria a expectativa de que hábitos saudáveis de hidratação estariam associados a menor peso corporal.\n",
    "\n",
    "Embora estudos associem a ingestão adequada de água à saciedade e controle de apetite (Daniels & Popkin, 2010), os dados aqui analisados não refletem essa tendência, possivelmente devido à homogeneidade causada pela geração sintética dos dados ou ao viés de autorrelato. Assim, a variável `CH2O` não se mostra confiável como indicador de risco neste dataset."
   ]
  },
  {
   "cell_type": "code",
   "execution_count": 0,
   "metadata": {
    "application/vnd.databricks.v1+cell": {
     "cellMetadata": {
      "byteLimit": 2048000,
      "implicitDf": true,
      "rowLimit": 10000
     },
     "inputWidgets": {},
     "nuid": "0f2ec30b-8183-4628-acf7-6f60510a97fe",
     "showTitle": false,
     "tableResultSettingsMap": {},
     "title": ""
    }
   },
   "outputs": [
    {
     "output_type": "display_data",
     "data": {
      "text/html": [
       "<style scoped>\n",
       "  .table-result-container {\n",
       "    max-height: 300px;\n",
       "    overflow: auto;\n",
       "  }\n",
       "  table, th, td {\n",
       "    border: 1px solid black;\n",
       "    border-collapse: collapse;\n",
       "  }\n",
       "  th, td {\n",
       "    padding: 5px;\n",
       "  }\n",
       "  th {\n",
       "    text-align: left;\n",
       "  }\n",
       "</style><div class='table-result-container'><table class='table-result'><thead style='background-color: white'><tr><th>diagnostico</th><th>media_refeicoes_principais</th></tr></thead><tbody><tr><td>Obesity_Type_III</td><td>3.0</td></tr><tr><td>Insufficient_Weight</td><td>2.91</td></tr><tr><td>Obesity_Type_II</td><td>2.74</td></tr><tr><td>Normal_Weight</td><td>2.74</td></tr><tr><td>Overweight_Level_I</td><td>2.5</td></tr><tr><td>Overweight_Level_II</td><td>2.5</td></tr><tr><td>Obesity_Type_I</td><td>2.43</td></tr></tbody></table></div>"
      ]
     },
     "metadata": {
      "application/vnd.databricks.v1+output": {
       "addedWidgets": {},
       "aggData": [],
       "aggError": "",
       "aggOverflow": false,
       "aggSchema": [],
       "aggSeriesLimitReached": false,
       "aggType": "",
       "arguments": {},
       "columnCustomDisplayInfos": {},
       "data": [
        [
         "Obesity_Type_III",
         3.0
        ],
        [
         "Insufficient_Weight",
         2.91
        ],
        [
         "Obesity_Type_II",
         2.74
        ],
        [
         "Normal_Weight",
         2.74
        ],
        [
         "Overweight_Level_I",
         2.5
        ],
        [
         "Overweight_Level_II",
         2.5
        ],
        [
         "Obesity_Type_I",
         2.43
        ]
       ],
       "datasetInfos": [],
       "dbfsResultPath": null,
       "isJsonSchema": true,
       "metadata": {},
       "overflow": false,
       "plotOptions": {
        "customPlotOptions": {},
        "displayType": "table",
        "pivotAggregation": null,
        "pivotColumns": null,
        "xColumns": null,
        "yColumns": null
       },
       "removedWidgets": [],
       "schema": [
        {
         "metadata": "{}",
         "name": "diagnostico",
         "type": "\"string\""
        },
        {
         "metadata": "{}",
         "name": "media_refeicoes_principais",
         "type": "\"double\""
        }
       ],
       "type": "table"
      }
     },
     "output_type": "display_data"
    },
    {
     "output_type": "display_data",
     "data": {
      "text/plain": [
       "Databricks visualization. Run in Databricks to view."
      ]
     },
     "metadata": {
      "application/vnd.databricks.v1.subcommand+json": {
       "baseErrorDetails": null,
       "bindings": {},
       "collapsed": false,
       "command": "%sql WITH q AS (SELECT d.nome AS diagnostico, ROUND(AVG(h.ncp), 2) AS media_refeicoes_principais\nFROM dw_obesidade.FatoObesidade f\nJOIN dw_obesidade.DimHabitosAlimentares h ON f.id_habito = h.id_habito\nJOIN dw_obesidade.DimDiagnostico d ON f.id_diagnostico = d.id_diagnostico\nGROUP BY d.nome\nORDER BY media_refeicoes_principais DESC) SELECT `diagnostico`,SUM(`media_refeicoes_principais`) `column_50e4a519398` FROM q GROUP BY `diagnostico`",
       "commandTitle": "Visualization 1",
       "commandType": "auto",
       "commandVersion": 0,
       "commentThread": [],
       "commentsVisible": false,
       "contentSha256Hex": null,
       "customPlotOptions": {
        "redashChart": [
         {
          "key": "type",
          "value": "CHART"
         },
         {
          "key": "options",
          "value": {
           "alignYAxesAtZero": true,
           "coefficient": 1,
           "columnConfigurationMap": {
            "x": {
             "column": "diagnostico",
             "id": "column_50e4a519397"
            },
            "y": [
             {
              "column": "media_refeicoes_principais",
              "id": "column_50e4a519398",
              "transform": "SUM"
             }
            ]
           },
           "dateTimeFormat": "DD/MM/YYYY HH:mm",
           "direction": {
            "type": "counterclockwise"
           },
           "error_y": {
            "type": "data",
            "visible": true
           },
           "globalSeriesType": "column",
           "isAggregationOn": true,
           "legend": {
            "traceorder": "normal"
           },
           "missingValuesAsZero": true,
           "numberFormat": "0,0.[00000]",
           "percentFormat": "0[.]00%",
           "series": {
            "error_y": {
             "type": "data",
             "visible": true
            },
            "stacking": null
           },
           "seriesOptions": {
            "column_50e4a519398": {
             "name": "media_refeicoes_principais",
             "yAxis": 0
            }
           },
           "showDataLabels": false,
           "sizemode": "diameter",
           "sortX": true,
           "sortY": true,
           "swappedAxes": false,
           "textFormat": "",
           "useAggregationsUi": true,
           "valuesOptions": {},
           "version": 2,
           "xAxis": {
            "labels": {
             "enabled": true
            },
            "type": "-"
           },
           "yAxis": [
            {
             "type": "-"
            },
            {
             "opposite": true,
             "type": "-"
            }
           ]
          }
         }
        ]
       },
       "datasetPreviewNameToCmdIdMap": {},
       "diffDeletes": [],
       "diffInserts": [],
       "displayType": "redashChart",
       "error": null,
       "errorDetails": null,
       "errorSummary": null,
       "errorTraceType": null,
       "finishTime": 0,
       "globalVars": {},
       "guid": "",
       "height": "auto",
       "hideCommandCode": false,
       "hideCommandResult": false,
       "iPythonMetadata": null,
       "inputWidgets": {},
       "isLockedInExamMode": false,
       "latestUser": "a user",
       "latestUserId": null,
       "listResultMetadata": null,
       "metadata": {
        "byteLimit": 2048000,
        "implicitDf": true,
        "rowLimit": 10000
       },
       "nuid": "9fbab328-4bf7-4470-bbc9-5cb99f2fd3a0",
       "origId": 0,
       "parentHierarchy": [],
       "pivotAggregation": null,
       "pivotColumns": null,
       "position": 27.498046875,
       "resultDbfsErrorMessage": null,
       "resultDbfsStatus": "INLINED_IN_TREE",
       "results": null,
       "showCommandTitle": false,
       "startTime": 0,
       "state": "finished",
       "streamStates": {},
       "subcommandOptions": {
        "queryPlan": {
         "groups": [
          {
           "column": "diagnostico",
           "type": "column"
          }
         ],
         "selects": [
          {
           "column": "diagnostico",
           "type": "column"
          },
          {
           "alias": "column_50e4a519398",
           "args": [
            {
             "column": "media_refeicoes_principais",
             "type": "column"
            }
           ],
           "function": "SUM",
           "type": "function"
          }
         ]
        }
       },
       "submitTime": 0,
       "subtype": "tableResultSubCmd.visualization",
       "tableResultIndex": 0,
       "tableResultSettingsMap": {},
       "useConsistentColors": false,
       "version": "CommandV1",
       "width": "auto",
       "workflows": [],
       "xColumns": null,
       "yColumns": null
      }
     },
     "output_type": "display_data"
    }
   ],
   "source": [
    "%sql\n",
    "-- Hábito Alimentar: Média de número de refeições principais (NCP) por diagnóstico\n",
    "SELECT d.nome AS diagnostico, ROUND(AVG(h.ncp), 2) AS media_refeicoes_principais\n",
    "FROM dw_obesidade.FatoObesidade f\n",
    "JOIN dw_obesidade.DimHabitosAlimentares h ON f.id_habito = h.id_habito\n",
    "JOIN dw_obesidade.DimDiagnostico d ON f.id_diagnostico = d.id_diagnostico\n",
    "GROUP BY d.nome\n",
    "ORDER BY media_refeicoes_principais DESC;"
   ]
  },
  {
   "cell_type": "markdown",
   "metadata": {
    "application/vnd.databricks.v1+cell": {
     "cellMetadata": {
      "byteLimit": 2048000,
      "rowLimit": 10000
     },
     "inputWidgets": {},
     "nuid": "7a53010c-08c1-49c9-a99e-19b280dcd954",
     "showTitle": false,
     "tableResultSettingsMap": {},
     "title": ""
    }
   },
   "source": [
    "Ao verificar o número de refeições principais por dia (`NCP`) encontrados para cada diagnóstico, encontramos valores médios próximos de 3.0 para todos os grupos, o que está de acordo com padrões alimentares típicos em diversas culturas, que consideram o café da manhã, almoço e jantar como refeições principais. Assim, os dados parecem verossímeis à primeira vista.\n",
    "\n",
    "No entanto, o número de refeições por si só não fornece informações sobre a qualidade, tamanho ou composição calórica dessas refeições, fatores esses que são mais diretamente associados ao risco de obesidade. Além disso, a métrica não considera comportamentos alimentares compensatórios, como pular refeições e fazer grandes lanches, que também afetam o equilíbrio energético. A variável `CAEC` (consumo de comida entre refeições), que se propõe a esse papel, apresentou distribuições anômalas, o que compromete sua utilidade nesse contexto.\n",
    "\n",
    "Dessa forma, embora NCP possa descrever um padrão alimentar superficial, sua utilidade para discriminar níveis de obesidade é limitada sem dados complementares sobre o conteúdo das refeições"
   ]
  },
  {
   "cell_type": "code",
   "execution_count": 0,
   "metadata": {
    "application/vnd.databricks.v1+cell": {
     "cellMetadata": {
      "byteLimit": 2048000,
      "implicitDf": true,
      "rowLimit": 10000
     },
     "inputWidgets": {},
     "nuid": "96e6c28e-2158-408c-a88e-3a5c5c40823e",
     "showTitle": false,
     "tableResultSettingsMap": {},
     "title": ""
    }
   },
   "outputs": [
    {
     "output_type": "display_data",
     "data": {
      "text/html": [
       "<style scoped>\n",
       "  .table-result-container {\n",
       "    max-height: 300px;\n",
       "    overflow: auto;\n",
       "  }\n",
       "  table, th, td {\n",
       "    border: 1px solid black;\n",
       "    border-collapse: collapse;\n",
       "  }\n",
       "  th, td {\n",
       "    padding: 5px;\n",
       "  }\n",
       "  th {\n",
       "    text-align: left;\n",
       "  }\n",
       "</style><div class='table-result-container'><table class='table-result'><thead style='background-color: white'><tr><th>diagnostico</th><th>media_peso</th></tr></thead><tbody><tr><td>Obesity_Type_III</td><td>120.94</td></tr><tr><td>Obesity_Type_II</td><td>115.31</td></tr><tr><td>Obesity_Type_I</td><td>92.87</td></tr><tr><td>Overweight_Level_II</td><td>82.09</td></tr><tr><td>Overweight_Level_I</td><td>74.27</td></tr><tr><td>Normal_Weight</td><td>62.16</td></tr><tr><td>Insufficient_Weight</td><td>49.91</td></tr></tbody></table></div>"
      ]
     },
     "metadata": {
      "application/vnd.databricks.v1+output": {
       "addedWidgets": {},
       "aggData": [],
       "aggError": "",
       "aggOverflow": false,
       "aggSchema": [],
       "aggSeriesLimitReached": false,
       "aggType": "",
       "arguments": {},
       "columnCustomDisplayInfos": {},
       "data": [
        [
         "Obesity_Type_III",
         120.94
        ],
        [
         "Obesity_Type_II",
         115.31
        ],
        [
         "Obesity_Type_I",
         92.87
        ],
        [
         "Overweight_Level_II",
         82.09
        ],
        [
         "Overweight_Level_I",
         74.27
        ],
        [
         "Normal_Weight",
         62.16
        ],
        [
         "Insufficient_Weight",
         49.91
        ]
       ],
       "datasetInfos": [],
       "dbfsResultPath": null,
       "isJsonSchema": true,
       "metadata": {},
       "overflow": false,
       "plotOptions": {
        "customPlotOptions": {},
        "displayType": "table",
        "pivotAggregation": null,
        "pivotColumns": null,
        "xColumns": null,
        "yColumns": null
       },
       "removedWidgets": [],
       "schema": [
        {
         "metadata": "{}",
         "name": "diagnostico",
         "type": "\"string\""
        },
        {
         "metadata": "{}",
         "name": "media_peso",
         "type": "\"double\""
        }
       ],
       "type": "table"
      }
     },
     "output_type": "display_data"
    },
    {
     "output_type": "display_data",
     "data": {
      "text/plain": [
       "Databricks visualization. Run in Databricks to view."
      ]
     },
     "metadata": {
      "application/vnd.databricks.v1.subcommand+json": {
       "baseErrorDetails": null,
       "bindings": {},
       "collapsed": false,
       "command": "%sql WITH q AS (SELECT d.nome AS diagnostico, ROUND(AVG(p.weight), 2) AS media_peso\nFROM dw_obesidade.FatoObesidade f\nJOIN dw_obesidade.DimPessoa p ON f.id_pessoa = p.id_pessoa\nJOIN dw_obesidade.DimDiagnostico d ON f.id_diagnostico = d.id_diagnostico\nGROUP BY d.nome\nORDER BY media_peso DESC) SELECT `diagnostico`,SUM(`media_peso`) `column_50e4a519433` FROM q GROUP BY `diagnostico`",
       "commandTitle": "Visualization 1",
       "commandType": "auto",
       "commandVersion": 0,
       "commentThread": [],
       "commentsVisible": false,
       "contentSha256Hex": null,
       "customPlotOptions": {
        "redashChart": [
         {
          "key": "type",
          "value": "CHART"
         },
         {
          "key": "options",
          "value": {
           "alignYAxesAtZero": true,
           "coefficient": 1,
           "columnConfigurationMap": {
            "x": {
             "column": "diagnostico",
             "id": "column_50e4a519432"
            },
            "y": [
             {
              "column": "media_peso",
              "id": "column_50e4a519433",
              "transform": "SUM"
             }
            ]
           },
           "dateTimeFormat": "DD/MM/YYYY HH:mm",
           "direction": {
            "type": "counterclockwise"
           },
           "error_y": {
            "type": "data",
            "visible": true
           },
           "globalSeriesType": "column",
           "isAggregationOn": true,
           "legend": {
            "traceorder": "normal"
           },
           "missingValuesAsZero": true,
           "numberFormat": "0,0.[00000]",
           "percentFormat": "0[.]00%",
           "series": {
            "error_y": {
             "type": "data",
             "visible": true
            },
            "stacking": null
           },
           "seriesOptions": {
            "column_50e4a519433": {
             "name": "media_peso",
             "yAxis": 0
            }
           },
           "showDataLabels": false,
           "sizemode": "diameter",
           "sortX": true,
           "sortY": true,
           "swappedAxes": false,
           "textFormat": "",
           "useAggregationsUi": true,
           "valuesOptions": {},
           "version": 2,
           "xAxis": {
            "labels": {
             "enabled": true
            },
            "type": "-"
           },
           "yAxis": [
            {
             "type": "-"
            },
            {
             "opposite": true,
             "type": "-"
            }
           ]
          }
         }
        ]
       },
       "datasetPreviewNameToCmdIdMap": {},
       "diffDeletes": [],
       "diffInserts": [],
       "displayType": "redashChart",
       "error": null,
       "errorDetails": null,
       "errorSummary": null,
       "errorTraceType": null,
       "finishTime": 0,
       "globalVars": {},
       "guid": "",
       "height": "auto",
       "hideCommandCode": false,
       "hideCommandResult": false,
       "iPythonMetadata": null,
       "inputWidgets": {},
       "isLockedInExamMode": false,
       "latestUser": "a user",
       "latestUserId": null,
       "listResultMetadata": null,
       "metadata": {
        "byteLimit": 2048000,
        "implicitDf": true,
        "rowLimit": 10000
       },
       "nuid": "5cafe9e5-e38c-4ad0-ab6a-7f7efef6b4d1",
       "origId": 0,
       "parentHierarchy": [],
       "pivotAggregation": null,
       "pivotColumns": null,
       "position": 27.49951171875,
       "resultDbfsErrorMessage": null,
       "resultDbfsStatus": "INLINED_IN_TREE",
       "results": null,
       "showCommandTitle": false,
       "startTime": 0,
       "state": "finished",
       "streamStates": {},
       "subcommandOptions": {
        "queryPlan": {
         "groups": [
          {
           "column": "diagnostico",
           "type": "column"
          }
         ],
         "selects": [
          {
           "column": "diagnostico",
           "type": "column"
          },
          {
           "alias": "column_50e4a519433",
           "args": [
            {
             "column": "media_peso",
             "type": "column"
            }
           ],
           "function": "SUM",
           "type": "function"
          }
         ]
        }
       },
       "submitTime": 0,
       "subtype": "tableResultSubCmd.visualization",
       "tableResultIndex": 0,
       "tableResultSettingsMap": {},
       "useConsistentColors": false,
       "version": "CommandV1",
       "width": "auto",
       "workflows": [],
       "xColumns": null,
       "yColumns": null
      }
     },
     "output_type": "display_data"
    }
   ],
   "source": [
    "%sql\n",
    "-- Pessoa: Média de peso por diagnóstico\n",
    "SELECT d.nome AS diagnostico, ROUND(AVG(p.weight), 2) AS media_peso\n",
    "FROM dw_obesidade.FatoObesidade f\n",
    "JOIN dw_obesidade.DimPessoa p ON f.id_pessoa = p.id_pessoa\n",
    "JOIN dw_obesidade.DimDiagnostico d ON f.id_diagnostico = d.id_diagnostico\n",
    "GROUP BY d.nome\n",
    "ORDER BY media_peso DESC;"
   ]
  },
  {
   "cell_type": "code",
   "execution_count": 0,
   "metadata": {
    "application/vnd.databricks.v1+cell": {
     "cellMetadata": {
      "byteLimit": 2048000,
      "implicitDf": true,
      "rowLimit": 10000
     },
     "inputWidgets": {},
     "nuid": "37e97adb-b84a-4a35-bde2-6f1fa9a8b365",
     "showTitle": false,
     "tableResultSettingsMap": {},
     "title": ""
    }
   },
   "outputs": [
    {
     "output_type": "display_data",
     "data": {
      "text/html": [
       "<style scoped>\n",
       "  .table-result-container {\n",
       "    max-height: 300px;\n",
       "    overflow: auto;\n",
       "  }\n",
       "  table, th, td {\n",
       "    border: 1px solid black;\n",
       "    border-collapse: collapse;\n",
       "  }\n",
       "  th, td {\n",
       "    padding: 5px;\n",
       "  }\n",
       "  th {\n",
       "    text-align: left;\n",
       "  }\n",
       "</style><div class='table-result-container'><table class='table-result'><thead style='background-color: white'><tr><th>diagnostico</th><th>media_altura</th></tr></thead><tbody><tr><td>Obesity_Type_II</td><td>1.77</td></tr><tr><td>Overweight_Level_II</td><td>1.7</td></tr><tr><td>Obesity_Type_III</td><td>1.69</td></tr><tr><td>Overweight_Level_I</td><td>1.69</td></tr><tr><td>Insufficient_Weight</td><td>1.69</td></tr><tr><td>Obesity_Type_I</td><td>1.69</td></tr><tr><td>Normal_Weight</td><td>1.68</td></tr></tbody></table></div>"
      ]
     },
     "metadata": {
      "application/vnd.databricks.v1+output": {
       "addedWidgets": {},
       "aggData": [],
       "aggError": "",
       "aggOverflow": false,
       "aggSchema": [],
       "aggSeriesLimitReached": false,
       "aggType": "",
       "arguments": {},
       "columnCustomDisplayInfos": {},
       "data": [
        [
         "Obesity_Type_II",
         1.77
        ],
        [
         "Overweight_Level_II",
         1.7
        ],
        [
         "Obesity_Type_III",
         1.69
        ],
        [
         "Overweight_Level_I",
         1.69
        ],
        [
         "Insufficient_Weight",
         1.69
        ],
        [
         "Obesity_Type_I",
         1.69
        ],
        [
         "Normal_Weight",
         1.68
        ]
       ],
       "datasetInfos": [],
       "dbfsResultPath": null,
       "isJsonSchema": true,
       "metadata": {},
       "overflow": false,
       "plotOptions": {
        "customPlotOptions": {},
        "displayType": "table",
        "pivotAggregation": null,
        "pivotColumns": null,
        "xColumns": null,
        "yColumns": null
       },
       "removedWidgets": [],
       "schema": [
        {
         "metadata": "{}",
         "name": "diagnostico",
         "type": "\"string\""
        },
        {
         "metadata": "{}",
         "name": "media_altura",
         "type": "\"double\""
        }
       ],
       "type": "table"
      }
     },
     "output_type": "display_data"
    },
    {
     "output_type": "display_data",
     "data": {
      "text/plain": [
       "Databricks visualization. Run in Databricks to view."
      ]
     },
     "metadata": {
      "application/vnd.databricks.v1.subcommand+json": {
       "baseErrorDetails": null,
       "bindings": {},
       "collapsed": false,
       "command": "%sql WITH q AS (SELECT d.nome AS diagnostico, ROUND(AVG(p.height), 2) AS media_altura\nFROM dw_obesidade.FatoObesidade f\nJOIN dw_obesidade.DimPessoa p ON f.id_pessoa = p.id_pessoa\nJOIN dw_obesidade.DimDiagnostico d ON f.id_diagnostico = d.id_diagnostico\nGROUP BY d.nome\nORDER BY media_altura DESC) SELECT `diagnostico`,SUM(`media_altura`) `column_50e4a519842` FROM q GROUP BY `diagnostico`",
       "commandTitle": "Visualization 1",
       "commandType": "auto",
       "commandVersion": 0,
       "commentThread": [],
       "commentsVisible": false,
       "contentSha256Hex": null,
       "customPlotOptions": {
        "redashChart": [
         {
          "key": "type",
          "value": "CHART"
         },
         {
          "key": "options",
          "value": {
           "alignYAxesAtZero": true,
           "coefficient": 1,
           "columnConfigurationMap": {
            "x": {
             "column": "diagnostico",
             "id": "column_50e4a519841"
            },
            "y": [
             {
              "column": "media_altura",
              "id": "column_50e4a519842",
              "transform": "SUM"
             }
            ]
           },
           "dateTimeFormat": "DD/MM/YYYY HH:mm",
           "direction": {
            "type": "counterclockwise"
           },
           "error_y": {
            "type": "data",
            "visible": true
           },
           "globalSeriesType": "column",
           "isAggregationOn": true,
           "legend": {
            "traceorder": "normal"
           },
           "missingValuesAsZero": true,
           "numberFormat": "0,0.[00000]",
           "percentFormat": "0[.]00%",
           "series": {
            "error_y": {
             "type": "data",
             "visible": true
            },
            "stacking": null
           },
           "seriesOptions": {
            "column_50e4a519842": {
             "name": "media_altura",
             "yAxis": 0
            }
           },
           "showDataLabels": false,
           "sizemode": "diameter",
           "sortX": true,
           "sortY": true,
           "swappedAxes": false,
           "textFormat": "",
           "useAggregationsUi": true,
           "valuesOptions": {},
           "version": 2,
           "xAxis": {
            "labels": {
             "enabled": true
            },
            "type": "-"
           },
           "yAxis": [
            {
             "type": "-"
            },
            {
             "opposite": true,
             "type": "-"
            }
           ]
          }
         }
        ]
       },
       "datasetPreviewNameToCmdIdMap": {},
       "diffDeletes": [],
       "diffInserts": [],
       "displayType": "redashChart",
       "error": null,
       "errorDetails": null,
       "errorSummary": null,
       "errorTraceType": null,
       "finishTime": 0,
       "globalVars": {},
       "guid": "",
       "height": "auto",
       "hideCommandCode": false,
       "hideCommandResult": false,
       "iPythonMetadata": null,
       "inputWidgets": {},
       "isLockedInExamMode": false,
       "latestUser": "a user",
       "latestUserId": null,
       "listResultMetadata": null,
       "metadata": {},
       "nuid": "45fd99c3-f99e-46d6-bf8e-5c9db2c7532a",
       "origId": 0,
       "parentHierarchy": [],
       "pivotAggregation": null,
       "pivotColumns": null,
       "position": 27.499755859375,
       "resultDbfsErrorMessage": null,
       "resultDbfsStatus": "INLINED_IN_TREE",
       "results": null,
       "showCommandTitle": false,
       "startTime": 0,
       "state": "input",
       "streamStates": {},
       "subcommandOptions": {
        "queryPlan": {
         "groups": [
          {
           "column": "diagnostico",
           "type": "column"
          }
         ],
         "selects": [
          {
           "column": "diagnostico",
           "type": "column"
          },
          {
           "alias": "column_50e4a519842",
           "args": [
            {
             "column": "media_altura",
             "type": "column"
            }
           ],
           "function": "SUM",
           "type": "function"
          }
         ]
        }
       },
       "submitTime": 0,
       "subtype": "tableResultSubCmd.visualization",
       "tableResultIndex": 0,
       "tableResultSettingsMap": {},
       "useConsistentColors": false,
       "version": "CommandV1",
       "width": "auto",
       "workflows": [],
       "xColumns": null,
       "yColumns": null
      }
     },
     "output_type": "display_data"
    }
   ],
   "source": [
    "%sql\n",
    "-- Pessoa: Média de altura por diagnóstico\n",
    "SELECT d.nome AS diagnostico, ROUND(AVG(p.height), 2) AS media_altura\n",
    "FROM dw_obesidade.FatoObesidade f\n",
    "JOIN dw_obesidade.DimPessoa p ON f.id_pessoa = p.id_pessoa\n",
    "JOIN dw_obesidade.DimDiagnostico d ON f.id_diagnostico = d.id_diagnostico\n",
    "GROUP BY d.nome\n",
    "ORDER BY media_altura DESC;"
   ]
  },
  {
   "cell_type": "markdown",
   "metadata": {
    "application/vnd.databricks.v1+cell": {
     "cellMetadata": {
      "byteLimit": 2048000,
      "rowLimit": 10000
     },
     "inputWidgets": {},
     "nuid": "50a6745c-34ea-431c-8c05-3b84acb2e591",
     "showTitle": false,
     "tableResultSettingsMap": {},
     "title": ""
    }
   },
   "source": [
    "Para ambas as váriáveis altura (`height`) e peso (`weight`), verificamos comportamento compatível com a lógica esperada de progressão dos níveis de obesidade. A altura média varia muito pouco entre os grupos diagnósticos (1,68 m a 1,77 m), o que está de acordo com a realidade populacional, onde a estatura tende a permanecer relativamente constante na idade adulta.\n",
    "\n",
    "Já o peso médio mostra uma progressão clara e gradual entre os grupos, indo de 49.91 kg (baixo peso) até 120.94 kg (obesidade grau III). Isso confirma que os diagnósticos foram atribuídos com base em métricas derivadas do IMC (Índice de Massa Corporal), que considera a relação entre peso e altura.\n",
    "\n",
    "Esse comportamento progressivo reforça a coerência estrutural do dataset nesse aspecto, contrastando com a inconsistência observada em algumas variáveis comportamentais geradas sinteticamente."
   ]
  },
  {
   "cell_type": "markdown",
   "metadata": {
    "application/vnd.databricks.v1+cell": {
     "cellMetadata": {},
     "inputWidgets": {},
     "nuid": "f50542bc-58ae-4d8b-b732-9b7e4aada05c",
     "showTitle": false,
     "tableResultSettingsMap": {},
     "title": ""
    }
   },
   "source": [
    "**Conclusão**\n",
    "\n",
    "A análise bivariada nos permitiu explorar possíveis relações entre os níveis de obesidade e variáveis como gênero, faixa etária, hábitos alimentares e estilo de vida. No entanto, é importante destacar que grande parte do dataset (77%) foi gerada artificialmente por meio da técnica SMOTE, o que introduz viés estrutural nos padrões observados.\n",
    "\n",
    "Algumas associações encontradas — como a distribuição extrema entre gêneros para certos diagnósticos ou a uniformidade excessiva em variáveis comportamentais — não condizem com evidências empíricas da literatura científica. Isso sugere que os dados sintéticos podem ter amplificado ou fabricado correlações que não ocorrem com essa magnitude na realidade.\n",
    "\n",
    "Ainda assim, essas análises se mostraram valiosas como exercício de exploração de dados, ajudando a entender o funcionamento de variáveis estruturadas e suas possíveis interações. Além disso, elas evidenciam a importância da curadoria e validação de dados em projetos que visam aplicações práticas."
   ]
  },
  {
   "cell_type": "markdown",
   "metadata": {
    "application/vnd.databricks.v1+cell": {
     "cellMetadata": {
      "byteLimit": 2048000,
      "rowLimit": 10000
     },
     "inputWidgets": {},
     "nuid": "f9ed54e2-e964-4998-b80d-989aef7803b9",
     "showTitle": false,
     "tableResultSettingsMap": {},
     "title": ""
    }
   },
   "source": [
    "#Conclusão"
   ]
  },
  {
   "cell_type": "markdown",
   "metadata": {
    "application/vnd.databricks.v1+cell": {
     "cellMetadata": {
      "byteLimit": 2048000,
      "rowLimit": 10000
     },
     "inputWidgets": {},
     "nuid": "82d0d3d0-a38c-4a00-9ce4-0f10f4edc110",
     "showTitle": false,
     "tableResultSettingsMap": {},
     "title": ""
    }
   },
   "source": [
    "O presente trabalho teve como objetivo estruturar, carregar e analisar o conjunto de dados “ObesityDataSet_raw_and_data_sinthetic.csv”, originalmente publicado no estudo \"Dataset for estimation of obesity levels based on eating habits and physical condition in individuals from Colombia, Peru and Mexico\" (PALECHOR & MANOTAS, 2019). O dataset foi criado com a finalidade de alimentar ferramentas computacionais inteligentes capazes de identificar o nível de obesidade de um indivíduo e apoiar sistemas de recomendação em saúde.\n",
    "\n",
    "Para isso, foi desenvolvido um modelo de dados relacional em formato snowflake, partindo da modelagem conceitual até sua implementação física no ambiente Databricks. A construção do pipeline ETL (Extração, Transformação e Carga) foi realizada com PySpark, respeitando boas práticas de modelagem: normalização até BCNF, uso de chaves artificiais e controle lógico de integridade relacional, mesmo com as limitações da versão gratuita da plataforma.\n",
    "\n",
    "Durante a etapa de validação e análise exploratória, foram identificadas limitações significativas na confiabilidade de alguns atributos, especialmente os de natureza comportamental (como CAEC, FCVC, SCC), que apresentaram distribuições estatisticamente improváveis ou excessivamente homogêneas. Tais distorções são atribuídas à geração sintética de 77% do dataset via SMOTE, técnica que aumenta o volume amostral, mas pode comprometer relações reais entre variáveis.\n",
    "\n",
    "Apesar dessas limitações, foi possível destacar variáveis com comportamento mais consistente, como peso corporal e histórico familiar de sobrepeso, este último demonstrando forte associação com os níveis mais graves de obesidade — refletindo tanto fatores genéticos quanto ambientais. Por outro lado, atributos como FAF (atividade física), NCP (número de refeições principais), CH2O (ingestão de água), TUE (tempo em dispositivos) e SMOKE (tabagismo) apresentaram baixo poder discriminativo neste conjunto de dados, possivelmente pela forma como foram sintetizados.\n",
    "\n",
    "Em resumo, o modelo construído oferece uma base sólida para análises estatísticas com SQL, visualizações e testes preditivos com algoritmos supervisionados. No entanto, para que ferramentas preditivas baseadas nesse conjunto de dados sejam realmente eficazes, recomenda-se a utilização de dados reais e devidamente validados, bem como a inclusão de variáveis mais detalhadas e sensíveis à qualidade e quantidade dos alimentos consumidos — aspectos aqui ausentes ou sub-representados.\n",
    "\n",
    "Por fim, para alcançar os objetivos de apoiar políticas públicas e desenvolver modelos preditivos confiáveis, seria necessário explorar um novo conjunto de dados ou reestruturar a base atual com foco na redução de viés. A identificação de fatores com maior associação à obesidade continua sendo essencial para o desenvolvimento de ferramentas de prevenção, intervenção e monitoramento personalizado."
   ]
  },
  {
   "cell_type": "markdown",
   "metadata": {
    "application/vnd.databricks.v1+cell": {
     "cellMetadata": {
      "byteLimit": 2048000,
      "rowLimit": 10000
     },
     "inputWidgets": {},
     "nuid": "9f438699-5a61-4e88-9663-6e1ca50697fd",
     "showTitle": false,
     "tableResultSettingsMap": {},
     "title": ""
    }
   },
   "source": [
    "#Referências\n",
    "\n",
    "- CDC. Obesity and Severe Obesity Prevalence in Adults: United States, August 2021–August 2023. 2024. Disponível em: https://www.cdc.gov/nchs/products/databriefs/db508.htm\n",
    "- OBESITY MEDICINE ASSOCIATION. Obesity and Genetics. 2022. Disponível em: https://obesitymedicine.org/blog/obesity-and-genetics/. \n",
    "- NATIONAL ACADEMIES OF SCIENCES, ENGINEERING, AND MEDICINE. The Challenge of Treating Obesity and Overweight: Proceedings of a Workshop. Washington, DC: National Academies Press, 2023. Disponível em: https://www.ncbi.nlm.nih.gov/books/NBK580543/. \n",
    "- KLEIN, D.; FERRARO, K. F. The association of body weight and smoking status among adults: Evidence from the National Health and Nutrition Examination Survey (NHANES). Addictive Behaviors, v. 33, n. 5, p. 582–595, 2008. DOI: 10.1016/j.addbeh.2007.11.010.\n",
    "- BALL, K.; CRAWFORD, D. Dieting intentions and food intake patterns. International Journal of Obesity, v. 30, p. 143–151, 2006. DOI: 10.1038/sj.ijo.0803062.\n",
    "- LUDWIG, D. S.; EBELING, C. B. Always Hungry? Conquer Cravings, Retrain Your Fat Cells, and Lose Weight Permanently. 1. ed. New York: Grand Central Life & Style, 2020.\n",
    "- WORLD HEALTH ORGANIZATION (WHO). Obesity and physical activity. WHO Fact Sheets, 2023. Disponível em: https://www.who.int/news-room/fact-sheets/detail/obesity-and-overweight. Acesso em: 11 abr. 2025.\n",
    "- STIGLIC, N.; VINER, R. M. Effects of screen time on the health and well-being of children and adolescents: a systematic review of reviews. BMJ Open, v. 9, n. 1, e023191, 2019. DOI: 10.1136/bmjopen-2018-023191\n",
    "- ROLLS, B. J.; ELLO-MARTIN, J. A.; TAO, Y. What can intervention studies tell us about the relationship between fruit and vegetable consumption and weight management? Nutrition Reviews, v. 62, n. 1, p. 1–17, 2004. DOI: 10.1111/j.1753-4887.2004.tb00001.x\n",
    "- DANIELS, M. C.; POPKIN, B. M. Impact of water intake on energy intake and weight status: a systematic review. Nutrition Reviews, v. 68, n. 9, p. 505–521, 2010. DOI: 10.1111/j.1753-4887.2010.00311.x\n",
    "- WORLD HEALTH ORGANIZATION (WHO). Obesity: preventing and managing the global epidemic. Report of a WHO consultation. WHO Technical Report Series, n. 894, 2000.\n",
    "- WORLD HEALTH ORGANIZATION. WHO. (2024) Obesity and overweight. https://www.who.int/news-room/fact-sheets/detail/obesity-and-overweight\n",
    "- PACHELOR, F. M., & MANOTAS, A. H. (2019). Dataset for estimation of obesity levels based on eating habits and physical condition in individuals from Colombia, Peru and Mexico. Data in brief, 25, 104344. https://doi.org/10.1016/j.dib.2019.104344\n",
    "- Pan-American Health Organization. PAHO. (2024). Uma em cada oito pessoas, no mundo, vive com obesidade. https://www.paho.org/pt/noticias/1-3-2024-uma-em-cada-oito-pessoas-no-mundo-vive-com-obesidade"
   ]
  },
  {
   "cell_type": "markdown",
   "metadata": {
    "application/vnd.databricks.v1+cell": {
     "cellMetadata": {},
     "inputWidgets": {},
     "nuid": "a4db3209-c12b-4f38-bfa7-753072f7ea53",
     "showTitle": false,
     "tableResultSettingsMap": {},
     "title": ""
    }
   },
   "source": [
    "# Autoavaliação\n",
    "\n",
    "### Autoavaliação\n",
    "\n",
    "Este trabalho teve como principal objetivo aplicar os conhecimentos adquiridos ao longo da disciplina na construção de um modelo relacional de dados, integrando práticas de modelagem conceitual, lógica e física, além da implementação de um pipeline de ETL no ambiente Databricks. A partir disso, foi possível realizar uma análise exploratória detalhada sobre os fatores associados à obesidade utilizando um conjunto de dados disponibilizado no Kaggle.\n",
    "\n",
    "Considero que os objetivos definidos inicialmente foram plenamente atingidos. Consegui construir um modelo de dados em formato snowflake, implementar todas as etapas do pipeline de Extração, Transformação e Carga (ETL), aplicar boas práticas de normalização até a forma normal de Boyce-Codd (BCNF), e conduzir análises univariadas e bivariadas com base em SQL. A análise exploratória, por sua vez, trouxe insights importantes sobre a qualidade e estrutura dos dados, além de permitir reflexões críticas sobre o impacto da geração sintética de dados por SMOTE.\n",
    "\n",
    "Entre as principais dificuldades enfrentadas durante o desenvolvimento do projeto, destacam-se:\n",
    "- Limitações técnicas da versão gratuita do Databricks, que não permite a criação explícita de constraints no modelo físico.\n",
    "- A necessidade de adaptar o modelo conceitual para uma estrutura relacional coerente, com múltiplas iterações até a construção de uma versão estável.\n",
    "- Problemas com conflitos de nomes de colunas e tipos de dados no momento da escrita das tabelas, que exigiram investigação cuidadosa.\n",
    "- Interpretação dos resultados enviesados devido à natureza sintética da maior parte do dataset, o que exigiu cautela na análise e consulta a fontes científicas para validação.\n",
    "\n",
    "Como trabalho futuro, seria interessante:\n",
    "- Aplicar o mesmo modelo e processo de análise a um conjunto de dados composto exclusivamente por amostras reais.\n",
    "- Estender o modelo de dados com variáveis mais detalhadas sobre alimentação (como qualidade, porções e frequência de consumo de grupos alimentares).\n",
    "- Reaproveitar o modelo estruturado para análise preditiva com machine learning, testando algoritmos como random forest, logistic regression ou XGBoost. Essa abordagem já foi iniciada em um projeto anterior, o MVP da Sprint de Machine Learning & Analytics (disponível em: https://github.com/TPRibeiro/mvp_mla/blob/main/Final.ipynb), e poderia ser expandida com base nas melhorias de qualidade e estrutura obtidas neste trabalho.\n",
    "- Explorar a visualização dos dados com ferramentas como Power BI ou Tableau para enriquecer ainda mais o portfólio.\n",
    "\n",
    "A experiência de estruturar todo o pipeline, desde a modelagem conceitual até a análise crítica dos dados, foi extremamente valiosa e me permitiu consolidar habilidades essenciais em bancos de dados, ETL, e análise de dados em nuvem. Este trabalho representa uma contribuição significativa ao meu portfólio e à minha formação em ciência de dados."
   ]
  }
 ],
 "metadata": {
  "application/vnd.databricks.v1+notebook": {
   "computePreferences": null,
   "dashboards": [],
   "environmentMetadata": null,
   "inputWidgetPreferences": null,
   "language": "python",
   "notebookMetadata": {
    "mostRecentlyExecutedCommandWithImplicitDF": {
     "commandId": 1657755485557416,
     "dataframes": [
      "_sqldf"
     ]
    },
    "pythonIndentUnit": 4
   },
   "notebookName": "PRINCIPAL",
   "widgets": {}
  },
  "language_info": {
   "name": "python"
  }
 },
 "nbformat": 4,
 "nbformat_minor": 0
}